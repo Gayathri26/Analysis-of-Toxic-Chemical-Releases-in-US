{
 "cells": [
  {
   "cell_type": "code",
   "execution_count": 1,
   "metadata": {},
   "outputs": [
    {
     "data": {
      "text/html": [
       "        <script type=\"text/javascript\">\n",
       "        window.PlotlyConfig = {MathJaxConfig: 'local'};\n",
       "        if (window.MathJax) {MathJax.Hub.Config({SVG: {font: \"STIX-Web\"}});}\n",
       "        if (typeof require !== 'undefined') {\n",
       "        require.undef(\"plotly\");\n",
       "        requirejs.config({\n",
       "            paths: {\n",
       "                'plotly': ['https://cdn.plot.ly/plotly-latest.min']\n",
       "            }\n",
       "        });\n",
       "        require(['plotly'], function(Plotly) {\n",
       "            window._Plotly = Plotly;\n",
       "        });\n",
       "        }\n",
       "        </script>\n",
       "        "
      ]
     },
     "metadata": {},
     "output_type": "display_data"
    }
   ],
   "source": [
    "import numpy as np\n",
    "import pandas as pd \n",
    "import os\n",
    "from tqdm import tqdm_notebook\n",
    "from ipywidgets import interact_manual\n",
    "\n",
    "import plotly.offline as py\n",
    "import plotly.graph_objs as go\n",
    "import plotly.figure_factory as ff\n",
    "py.init_notebook_mode(connected=True)\n",
    "\n",
    "pd.options.display.max_columns = 110\n",
    "pd.options.display.max_rows = 300\n",
    "pd.options.display.float_format = '{:.2f}'.format\n",
    "\n",
    "import warnings\n",
    "warnings.simplefilter('ignore')"
   ]
  },
  {
   "cell_type": "code",
   "execution_count": 2,
   "metadata": {},
   "outputs": [],
   "source": [
    "data_types = {\n",
    "    \n",
    "'YEAR':object,\n",
    "# 'TRI_FACILITY_ID': object,\n",
    "# 'FRS_ID':object,\n",
    "#'FACILITY_NAME':object,\n",
    "# # 'STREET_ADDRESS':object,\n",
    "'CITY':object,\n",
    "'COUNTY':object,\n",
    "'ST':'object',\n",
    "# 'ZIP':object,\n",
    "# 'BIA_CODE':'category',\n",
    "#'TRIBE':object,\n",
    "'LATITUDE':object,\n",
    "'LONGITUDE':object,\n",
    "#'FEDERAL_FACILITY':'category',\n",
    "# 'INDUSTRY_SECTOR_CODE':'category',\n",
    "'INDUSTRY_SECTOR':'category',\n",
    "# 'PRIMARY_SIC':'category',\n",
    "# 'SIC_2':'category',\n",
    "# 'SIC_3':'category',\n",
    "# 'SIC_4':'category',\n",
    "# 'SIC_5':'category',\n",
    "# 'SIC_6':'category',\n",
    "# 'PRIMARY_NAICS':'category',\n",
    "# 'NAICS_2':'category',\n",
    "# 'NAICS_3':'category',\n",
    "# 'NAICS_4':'category',\n",
    "# 'NAICS_5':'category',\n",
    "# 'NAICS_6':'category',\n",
    "# 'DOC_CTRL_NUM':object,\n",
    "'CHEMICAL':'object',\n",
    "# 'CAS_#/COMPOUND_ID':object,\n",
    "# 'SRS_ID':object,\n",
    "# 'CLEAR_AIR_ACT_CHEMICAL':'category',\n",
    "# 'CLASSIFICATION':'category',\n",
    "# 'METAL':'category',\n",
    "# 'METAL_CATEGORY':int,\n",
    "# 'CARCINOGEN':'category',\n",
    "# 'FORM_TYPE':'category',\n",
    "'UNIT_OF_MEASURE':object,\n",
    "# '5.1_FUGITIVE_AIR':object,\n",
    "# '5.2_STACK_AIR':float,\n",
    "# '5.3_WATER':float,\n",
    "# '5.4_UNDERGROUND':float,\n",
    "# '5.4.1_UNDERGROUND_CLASS_I':float,\n",
    "# '5.4.2_UNDERGROUND_CLASS_II-V':float,\n",
    "# '5.5.1_LANDFILLS':float,\n",
    "# '5.5.1A_RCRA_C_LANDFILLS':float,\n",
    "# '5.5.1B_OTHER_LANDFILLS':float,\n",
    "# '5.5.2_LAND_TREATMENT':float,\n",
    "# '5.5.3_SURFACE_IMPOUNDMENT':float,\n",
    "# '5.5.3A_RCRA_C_SURFACE_IMP.':float,\n",
    "# '5.5.3B_Other_SURFACE_IMP.':float,\n",
    "# '5.5.4_OTHER_DISPOSAL':float,\n",
    "# 'ON-SITE_RELEASE_TOTAL':float,\n",
    "# '6.1_POTW-TRANSFERS_FOR_RELEASE':float,\n",
    "# '6.1_POTW-TRANSFERS_FOR_TREATM.':float,\n",
    "# '6.1_POTW-TOTAL_TRANSFERS':float,\n",
    "# '6.2_M10':float,\n",
    "# '6.2_M41':float,\n",
    "# '6.2_M62':float,\n",
    "# '6.2_M71':float,\n",
    "# '6.2_M81':float,\n",
    "# '6.2_M82':float,\n",
    "# '6.2_M72':float,\n",
    "# '6.2_M63':float,\n",
    "# '6.2_M66':float,\n",
    "# '6.2_M67':float,\n",
    "# '6.2_M64':float,\n",
    "# '6.2_M65':float,\n",
    "# '6.2_M73':float,\n",
    "# '6.2_M79':float,\n",
    "# '6.2_M90':float,\n",
    "# '6.2_M94':float,\n",
    "# '6.2_M99':float,\n",
    "# 'OFF-SITE_RELEASE_TOTAL':float,\n",
    "# '6.2_M20':float,\n",
    "# '6.2_M24':float,\n",
    "# '6.2_M26':float,\n",
    "# '6.2_M28':float,\n",
    "# '6.2_M93':float,\n",
    "# 'OFF-SITE_RECYCLED_TOTAL':float,\n",
    "# '6.2_M56':float,\n",
    "# '6.2_M92':float,\n",
    "# 'OFF-SITE_RECOVERY_TOTAL':float,\n",
    "# '6.2_M40':float,\n",
    "# '6.2_M50':float,\n",
    "# '6.2_M54':float,\n",
    "# '6.2_M61':float,\n",
    "# '6.2_M69':float,\n",
    "# '6.2_M95':float,\n",
    "# 'OFF-SITE_TREATED_TOTAL':float,\n",
    "'TOTAL_RELEASES':object,\n",
    "# '8.1_RELEASES':object,\n",
    "# '8.1A_ON-SITE_CONTAINED_REL.':float,\n",
    "# '8.1B_ON-SITE_OTHER_RELEASES':float,\n",
    "# '8.1C_OFF-SITE_CONTAINED_REL.':float,\n",
    "# '8.1D_OFF-SITE_OTHER_RELEASES':float,\n",
    "# '8.2_ENERGY_RECOVERY_ON-SITE':float,\n",
    "# '8.3_ENERGY_RECOVERY_OFF-SITE':float,\n",
    "# '8.4_RECYCLING_ON-SITE':float,\n",
    "# ' 8.5_RECYCLING_OFF-SITE':float,\n",
    "# '8.6_TREATMENT_ON-SITE':float,\n",
    "# # '8.7_TREATMENT_OFF-SITE':float,\n",
    "# 'PROD._WASTE_(8.1_THRU_8.7)':float\n",
    "# '8.8_ONE-TIME_RELEASE':float,\n",
    "# 'PROD_RATIO_OR_ACTIVITY':object,\n",
    "# '8.9_PRODUCTION_RATIO':float,\n",
    "#'PARENT_COMPANY_NAME':object,\n",
    "# 'PARENT_COMPANY_DB_NUMBER':object,\n",
    "}"
   ]
  },
  {
   "cell_type": "code",
   "execution_count": 3,
   "metadata": {},
   "outputs": [
    {
     "name": "stdout",
     "output_type": "stream",
     "text": [
      "Wall time: 19.7 s\n"
     ]
    }
   ],
   "source": [
    "%%time\n",
    "\n",
    "data_read1 = pd.read_csv('C:\\\\Users\\\\Gayathri/basic_data_files.csv', nrows=2548770, low_memory=True, dtype=data_types, usecols=data_types.keys())\n",
    "\n",
    "data_read2 = pd.read_csv('C:\\\\Users\\\\Gayathri/basic_data_files.csv', skiprows=2548771, low_memory=True, dtype=data_types, usecols=data_types.keys())\n",
    "\n",
    "data_merge = data_read1.append(data_read2, ignore_index=True)\n",
    "data_merge = data_merge.drop(index=data_merge[data_merge.YEAR == 'YEAR'].index).reset_index(drop=True)"
   ]
  },
  {
   "cell_type": "code",
   "execution_count": 5,
   "metadata": {},
   "outputs": [],
   "source": [
    "#Data types are redefined for manipulation\n",
    "data_types = {'YEAR': int,'CITY': 'category','COUNTY': 'category','ST': 'category','CHEMICAL':'category', 'TOTAL_RELEASES': float,\n",
    "         'LATITUDE': float, 'LONGITUDE': float, 'INDUSTRY_SECTOR':'category','UNIT_OF_MEASURE':object}\n",
    "final_data = data_merge.astype(data_types)"
   ]
  },
  {
   "cell_type": "code",
   "execution_count": 6,
   "metadata": {},
   "outputs": [],
   "source": [
    "final_data['TOTAL_RELEASES'] = final_data['TOTAL_RELEASES'].round(decimals=2)"
   ]
  },
  {
   "cell_type": "code",
   "execution_count": 7,
   "metadata": {},
   "outputs": [
    {
     "data": {
      "text/plain": [
       "(5051263, 10)"
      ]
     },
     "execution_count": 7,
     "metadata": {},
     "output_type": "execute_result"
    }
   ],
   "source": [
    "final_data.shape"
   ]
  },
  {
   "cell_type": "code",
   "execution_count": 8,
   "metadata": {},
   "outputs": [
    {
     "name": "stdout",
     "output_type": "stream",
     "text": [
      "<class 'pandas.core.frame.DataFrame'>\n",
      "RangeIndex: 5051263 entries, 0 to 5051262\n",
      "Data columns (total 10 columns):\n",
      " #   Column           Dtype   \n",
      "---  ------           -----   \n",
      " 0   YEAR             int32   \n",
      " 1   CITY             category\n",
      " 2   COUNTY           category\n",
      " 3   ST               category\n",
      " 4   LATITUDE         float64 \n",
      " 5   LONGITUDE        float64 \n",
      " 6   INDUSTRY_SECTOR  category\n",
      " 7   CHEMICAL         category\n",
      " 8   UNIT_OF_MEASURE  object  \n",
      " 9   TOTAL_RELEASES   float64 \n",
      "dtypes: category(5), float64(3), int32(1), object(1)\n",
      "memory usage: 212.5+ MB\n"
     ]
    }
   ],
   "source": [
    "final_data.info()"
   ]
  },
  {
   "cell_type": "code",
   "execution_count": 9,
   "metadata": {},
   "outputs": [
    {
     "data": {
      "text/html": [
       "<div>\n",
       "<style scoped>\n",
       "    .dataframe tbody tr th:only-of-type {\n",
       "        vertical-align: middle;\n",
       "    }\n",
       "\n",
       "    .dataframe tbody tr th {\n",
       "        vertical-align: top;\n",
       "    }\n",
       "\n",
       "    .dataframe thead th {\n",
       "        text-align: right;\n",
       "    }\n",
       "</style>\n",
       "<table border=\"1\" class=\"dataframe\">\n",
       "  <thead>\n",
       "    <tr style=\"text-align: right;\">\n",
       "      <th></th>\n",
       "      <th>YEAR</th>\n",
       "      <th>CITY</th>\n",
       "      <th>COUNTY</th>\n",
       "      <th>ST</th>\n",
       "      <th>LATITUDE</th>\n",
       "      <th>LONGITUDE</th>\n",
       "      <th>INDUSTRY_SECTOR</th>\n",
       "      <th>CHEMICAL</th>\n",
       "      <th>UNIT_OF_MEASURE</th>\n",
       "      <th>TOTAL_RELEASES</th>\n",
       "    </tr>\n",
       "  </thead>\n",
       "  <tbody>\n",
       "    <tr>\n",
       "      <th>0</th>\n",
       "      <td>2016</td>\n",
       "      <td>NEW CARLISLE</td>\n",
       "      <td>ST JOSEPH</td>\n",
       "      <td>IN</td>\n",
       "      <td>41.69</td>\n",
       "      <td>-86.46</td>\n",
       "      <td>Fabricated Metals</td>\n",
       "      <td>CHROMIUM COMPOUNDS(EXCEPT CHROMITE ORE MINED I...</td>\n",
       "      <td>Pounds</td>\n",
       "      <td>1170.41</td>\n",
       "    </tr>\n",
       "    <tr>\n",
       "      <th>1</th>\n",
       "      <td>2016</td>\n",
       "      <td>NEWBURYPORT</td>\n",
       "      <td>ESSEX</td>\n",
       "      <td>MA</td>\n",
       "      <td>42.80</td>\n",
       "      <td>-70.89</td>\n",
       "      <td>Chemicals</td>\n",
       "      <td>CERTAIN GLYCOL ETHERS</td>\n",
       "      <td>Pounds</td>\n",
       "      <td>18.00</td>\n",
       "    </tr>\n",
       "    <tr>\n",
       "      <th>2</th>\n",
       "      <td>2016</td>\n",
       "      <td>WOOSTER</td>\n",
       "      <td>WAYNE</td>\n",
       "      <td>OH</td>\n",
       "      <td>40.78</td>\n",
       "      <td>-81.94</td>\n",
       "      <td>Food</td>\n",
       "      <td>ZINC COMPOUNDS</td>\n",
       "      <td>Pounds</td>\n",
       "      <td>0.00</td>\n",
       "    </tr>\n",
       "    <tr>\n",
       "      <th>3</th>\n",
       "      <td>2016</td>\n",
       "      <td>NEW BEDFORD</td>\n",
       "      <td>BRISTOL</td>\n",
       "      <td>MA</td>\n",
       "      <td>41.73</td>\n",
       "      <td>-70.96</td>\n",
       "      <td>Miscellaneous Manufacturing</td>\n",
       "      <td>DIISOCYANATES</td>\n",
       "      <td>Pounds</td>\n",
       "      <td>0.00</td>\n",
       "    </tr>\n",
       "    <tr>\n",
       "      <th>4</th>\n",
       "      <td>2016</td>\n",
       "      <td>FOREST PARK</td>\n",
       "      <td>CLAYTON</td>\n",
       "      <td>GA</td>\n",
       "      <td>33.63</td>\n",
       "      <td>-84.39</td>\n",
       "      <td>Chemicals</td>\n",
       "      <td>CERTAIN GLYCOL ETHERS</td>\n",
       "      <td>Pounds</td>\n",
       "      <td>50.00</td>\n",
       "    </tr>\n",
       "  </tbody>\n",
       "</table>\n",
       "</div>"
      ],
      "text/plain": [
       "   YEAR          CITY     COUNTY  ST  LATITUDE  LONGITUDE  \\\n",
       "0  2016  NEW CARLISLE  ST JOSEPH  IN     41.69     -86.46   \n",
       "1  2016   NEWBURYPORT      ESSEX  MA     42.80     -70.89   \n",
       "2  2016       WOOSTER      WAYNE  OH     40.78     -81.94   \n",
       "3  2016   NEW BEDFORD    BRISTOL  MA     41.73     -70.96   \n",
       "4  2016   FOREST PARK    CLAYTON  GA     33.63     -84.39   \n",
       "\n",
       "               INDUSTRY_SECTOR  \\\n",
       "0            Fabricated Metals   \n",
       "1                    Chemicals   \n",
       "2                         Food   \n",
       "3  Miscellaneous Manufacturing   \n",
       "4                    Chemicals   \n",
       "\n",
       "                                            CHEMICAL UNIT_OF_MEASURE  \\\n",
       "0  CHROMIUM COMPOUNDS(EXCEPT CHROMITE ORE MINED I...          Pounds   \n",
       "1                              CERTAIN GLYCOL ETHERS          Pounds   \n",
       "2                                     ZINC COMPOUNDS          Pounds   \n",
       "3                                      DIISOCYANATES          Pounds   \n",
       "4                              CERTAIN GLYCOL ETHERS          Pounds   \n",
       "\n",
       "   TOTAL_RELEASES  \n",
       "0         1170.41  \n",
       "1           18.00  \n",
       "2            0.00  \n",
       "3            0.00  \n",
       "4           50.00  "
      ]
     },
     "execution_count": 9,
     "metadata": {},
     "output_type": "execute_result"
    }
   ],
   "source": [
    "final_data.head()"
   ]
  },
  {
   "cell_type": "code",
   "execution_count": 10,
   "metadata": {},
   "outputs": [
    {
     "data": {
      "text/html": [
       "<div>\n",
       "<style scoped>\n",
       "    .dataframe tbody tr th:only-of-type {\n",
       "        vertical-align: middle;\n",
       "    }\n",
       "\n",
       "    .dataframe tbody tr th {\n",
       "        vertical-align: top;\n",
       "    }\n",
       "\n",
       "    .dataframe thead th {\n",
       "        text-align: right;\n",
       "    }\n",
       "</style>\n",
       "<table border=\"1\" class=\"dataframe\">\n",
       "  <thead>\n",
       "    <tr style=\"text-align: right;\">\n",
       "      <th></th>\n",
       "      <th>YEAR</th>\n",
       "      <th>CITY</th>\n",
       "      <th>COUNTY</th>\n",
       "      <th>ST</th>\n",
       "      <th>LATITUDE</th>\n",
       "      <th>LONGITUDE</th>\n",
       "      <th>INDUSTRY_SECTOR</th>\n",
       "      <th>CHEMICAL</th>\n",
       "      <th>UNIT_OF_MEASURE</th>\n",
       "      <th>TOTAL_RELEASES</th>\n",
       "    </tr>\n",
       "  </thead>\n",
       "  <tbody>\n",
       "    <tr>\n",
       "      <th>5051258</th>\n",
       "      <td>1987</td>\n",
       "      <td>FENTON</td>\n",
       "      <td>ST LOUIS</td>\n",
       "      <td>MO</td>\n",
       "      <td>38.55</td>\n",
       "      <td>-90.46</td>\n",
       "      <td>Transportation Equipment</td>\n",
       "      <td>BARIUM COMPOUNDS</td>\n",
       "      <td>Pounds</td>\n",
       "      <td>8950.00</td>\n",
       "    </tr>\n",
       "    <tr>\n",
       "      <th>5051259</th>\n",
       "      <td>1987</td>\n",
       "      <td>PHILADELPHIA</td>\n",
       "      <td>PHILADELPHIA</td>\n",
       "      <td>PA</td>\n",
       "      <td>39.96</td>\n",
       "      <td>-75.16</td>\n",
       "      <td>Chemicals</td>\n",
       "      <td>CARBON TETRACHLORIDE</td>\n",
       "      <td>Pounds</td>\n",
       "      <td>123932.00</td>\n",
       "    </tr>\n",
       "    <tr>\n",
       "      <th>5051260</th>\n",
       "      <td>1987</td>\n",
       "      <td>EL SEGUNDO</td>\n",
       "      <td>LOS ANGELES</td>\n",
       "      <td>CA</td>\n",
       "      <td>33.91</td>\n",
       "      <td>-118.41</td>\n",
       "      <td>Petroleum</td>\n",
       "      <td>COBALT COMPOUNDS</td>\n",
       "      <td>Pounds</td>\n",
       "      <td>441.00</td>\n",
       "    </tr>\n",
       "    <tr>\n",
       "      <th>5051261</th>\n",
       "      <td>1987</td>\n",
       "      <td>MILWAUKEE</td>\n",
       "      <td>MILWAUKEE</td>\n",
       "      <td>WI</td>\n",
       "      <td>43.13</td>\n",
       "      <td>-88.00</td>\n",
       "      <td>Chemicals</td>\n",
       "      <td>BARIUM</td>\n",
       "      <td>Pounds</td>\n",
       "      <td>110.00</td>\n",
       "    </tr>\n",
       "    <tr>\n",
       "      <th>5051262</th>\n",
       "      <td>1987</td>\n",
       "      <td>NEW MADRID</td>\n",
       "      <td>NEW MADRID</td>\n",
       "      <td>MO</td>\n",
       "      <td>36.51</td>\n",
       "      <td>-89.58</td>\n",
       "      <td>Primary Metals</td>\n",
       "      <td>COPPER</td>\n",
       "      <td>Pounds</td>\n",
       "      <td>0.00</td>\n",
       "    </tr>\n",
       "  </tbody>\n",
       "</table>\n",
       "</div>"
      ],
      "text/plain": [
       "         YEAR          CITY        COUNTY  ST  LATITUDE  LONGITUDE  \\\n",
       "5051258  1987        FENTON      ST LOUIS  MO     38.55     -90.46   \n",
       "5051259  1987  PHILADELPHIA  PHILADELPHIA  PA     39.96     -75.16   \n",
       "5051260  1987    EL SEGUNDO   LOS ANGELES  CA     33.91    -118.41   \n",
       "5051261  1987     MILWAUKEE     MILWAUKEE  WI     43.13     -88.00   \n",
       "5051262  1987    NEW MADRID    NEW MADRID  MO     36.51     -89.58   \n",
       "\n",
       "                  INDUSTRY_SECTOR              CHEMICAL UNIT_OF_MEASURE  \\\n",
       "5051258  Transportation Equipment      BARIUM COMPOUNDS          Pounds   \n",
       "5051259                 Chemicals  CARBON TETRACHLORIDE          Pounds   \n",
       "5051260                 Petroleum      COBALT COMPOUNDS          Pounds   \n",
       "5051261                 Chemicals                BARIUM          Pounds   \n",
       "5051262            Primary Metals                COPPER          Pounds   \n",
       "\n",
       "         TOTAL_RELEASES  \n",
       "5051258         8950.00  \n",
       "5051259       123932.00  \n",
       "5051260          441.00  \n",
       "5051261          110.00  \n",
       "5051262            0.00  "
      ]
     },
     "execution_count": 10,
     "metadata": {},
     "output_type": "execute_result"
    }
   ],
   "source": [
    "final_data.tail()"
   ]
  },
  {
   "cell_type": "code",
   "execution_count": 11,
   "metadata": {},
   "outputs": [
    {
     "data": {
      "text/plain": [
       "(238065, 10)"
      ]
     },
     "execution_count": 11,
     "metadata": {},
     "output_type": "execute_result"
    }
   ],
   "source": [
    "data_2016 = final_data[final_data.YEAR.eq(2016)]\n",
    "data_2016.shape"
   ]
  },
  {
   "cell_type": "code",
   "execution_count": 12,
   "metadata": {},
   "outputs": [
    {
     "data": {
      "text/html": [
       "<div>\n",
       "<style scoped>\n",
       "    .dataframe tbody tr th:only-of-type {\n",
       "        vertical-align: middle;\n",
       "    }\n",
       "\n",
       "    .dataframe tbody tr th {\n",
       "        vertical-align: top;\n",
       "    }\n",
       "\n",
       "    .dataframe thead th {\n",
       "        text-align: right;\n",
       "    }\n",
       "</style>\n",
       "<table border=\"1\" class=\"dataframe\">\n",
       "  <thead>\n",
       "    <tr style=\"text-align: right;\">\n",
       "      <th></th>\n",
       "      <th>INDUSTRY_SECTOR</th>\n",
       "      <th>TOTAL_RELEASES</th>\n",
       "    </tr>\n",
       "  </thead>\n",
       "  <tbody>\n",
       "    <tr>\n",
       "      <th>13</th>\n",
       "      <td>Metal Mining</td>\n",
       "      <td>4566381597.00</td>\n",
       "    </tr>\n",
       "    <tr>\n",
       "      <th>2</th>\n",
       "      <td>Chemicals</td>\n",
       "      <td>1562666663.73</td>\n",
       "    </tr>\n",
       "    <tr>\n",
       "      <th>5</th>\n",
       "      <td>Electric Utilities</td>\n",
       "      <td>1104794010.72</td>\n",
       "    </tr>\n",
       "    <tr>\n",
       "      <th>21</th>\n",
       "      <td>Primary Metals</td>\n",
       "      <td>1042358865.15</td>\n",
       "    </tr>\n",
       "    <tr>\n",
       "      <th>17</th>\n",
       "      <td>Paper</td>\n",
       "      <td>510239821.80</td>\n",
       "    </tr>\n",
       "    <tr>\n",
       "      <th>10</th>\n",
       "      <td>Hazardous Waste</td>\n",
       "      <td>438258931.05</td>\n",
       "    </tr>\n",
       "    <tr>\n",
       "      <th>8</th>\n",
       "      <td>Food</td>\n",
       "      <td>414914910.09</td>\n",
       "    </tr>\n",
       "    <tr>\n",
       "      <th>18</th>\n",
       "      <td>Petroleum</td>\n",
       "      <td>227341062.09</td>\n",
       "    </tr>\n",
       "    <tr>\n",
       "      <th>7</th>\n",
       "      <td>Fabricated Metals</td>\n",
       "      <td>139245009.09</td>\n",
       "    </tr>\n",
       "    <tr>\n",
       "      <th>16</th>\n",
       "      <td>Other</td>\n",
       "      <td>136175972.73</td>\n",
       "    </tr>\n",
       "    <tr>\n",
       "      <th>20</th>\n",
       "      <td>Plastics and Rubber</td>\n",
       "      <td>118764140.76</td>\n",
       "    </tr>\n",
       "    <tr>\n",
       "      <th>26</th>\n",
       "      <td>Transportation Equipment</td>\n",
       "      <td>115785480.36</td>\n",
       "    </tr>\n",
       "    <tr>\n",
       "      <th>15</th>\n",
       "      <td>Nonmetallic Mineral Product</td>\n",
       "      <td>89595749.40</td>\n",
       "    </tr>\n",
       "    <tr>\n",
       "      <th>4</th>\n",
       "      <td>Computers and Electronic Products</td>\n",
       "      <td>36532650.57</td>\n",
       "    </tr>\n",
       "    <tr>\n",
       "      <th>27</th>\n",
       "      <td>Wood Products</td>\n",
       "      <td>29366141.25</td>\n",
       "    </tr>\n",
       "    <tr>\n",
       "      <th>12</th>\n",
       "      <td>Machinery</td>\n",
       "      <td>19975408.26</td>\n",
       "    </tr>\n",
       "    <tr>\n",
       "      <th>3</th>\n",
       "      <td>Coal Mining</td>\n",
       "      <td>18087099.27</td>\n",
       "    </tr>\n",
       "    <tr>\n",
       "      <th>6</th>\n",
       "      <td>Electrical Equipment</td>\n",
       "      <td>16639398.06</td>\n",
       "    </tr>\n",
       "    <tr>\n",
       "      <th>9</th>\n",
       "      <td>Furniture</td>\n",
       "      <td>14814903.00</td>\n",
       "    </tr>\n",
       "    <tr>\n",
       "      <th>22</th>\n",
       "      <td>Printing</td>\n",
       "      <td>12427173.45</td>\n",
       "    </tr>\n",
       "    <tr>\n",
       "      <th>14</th>\n",
       "      <td>Miscellaneous Manufacturing</td>\n",
       "      <td>12251042.97</td>\n",
       "    </tr>\n",
       "    <tr>\n",
       "      <th>24</th>\n",
       "      <td>Textiles</td>\n",
       "      <td>10260105.48</td>\n",
       "    </tr>\n",
       "    <tr>\n",
       "      <th>11</th>\n",
       "      <td>Leather</td>\n",
       "      <td>7976830.29</td>\n",
       "    </tr>\n",
       "    <tr>\n",
       "      <th>0</th>\n",
       "      <td>Beverages</td>\n",
       "      <td>7478739.51</td>\n",
       "    </tr>\n",
       "    <tr>\n",
       "      <th>19</th>\n",
       "      <td>Petroleum Bulk Terminals</td>\n",
       "      <td>4910214.51</td>\n",
       "    </tr>\n",
       "    <tr>\n",
       "      <th>25</th>\n",
       "      <td>Tobacco</td>\n",
       "      <td>4044123.00</td>\n",
       "    </tr>\n",
       "    <tr>\n",
       "      <th>1</th>\n",
       "      <td>Chemical Wholesalers</td>\n",
       "      <td>3757931.22</td>\n",
       "    </tr>\n",
       "    <tr>\n",
       "      <th>23</th>\n",
       "      <td>Textile Product</td>\n",
       "      <td>1009739.16</td>\n",
       "    </tr>\n",
       "  </tbody>\n",
       "</table>\n",
       "</div>"
      ],
      "text/plain": [
       "                      INDUSTRY_SECTOR  TOTAL_RELEASES\n",
       "13                       Metal Mining   4566381597.00\n",
       "2                           Chemicals   1562666663.73\n",
       "5                  Electric Utilities   1104794010.72\n",
       "21                     Primary Metals   1042358865.15\n",
       "17                              Paper    510239821.80\n",
       "10                    Hazardous Waste    438258931.05\n",
       "8                                Food    414914910.09\n",
       "18                          Petroleum    227341062.09\n",
       "7                   Fabricated Metals    139245009.09\n",
       "16                              Other    136175972.73\n",
       "20                Plastics and Rubber    118764140.76\n",
       "26           Transportation Equipment    115785480.36\n",
       "15        Nonmetallic Mineral Product     89595749.40\n",
       "4   Computers and Electronic Products     36532650.57\n",
       "27                      Wood Products     29366141.25\n",
       "12                          Machinery     19975408.26\n",
       "3                         Coal Mining     18087099.27\n",
       "6                Electrical Equipment     16639398.06\n",
       "9                           Furniture     14814903.00\n",
       "22                           Printing     12427173.45\n",
       "14        Miscellaneous Manufacturing     12251042.97\n",
       "24                           Textiles     10260105.48\n",
       "11                            Leather      7976830.29\n",
       "0                           Beverages      7478739.51\n",
       "19           Petroleum Bulk Terminals      4910214.51\n",
       "25                            Tobacco      4044123.00\n",
       "1                Chemical Wholesalers      3757931.22\n",
       "23                    Textile Product      1009739.16"
      ]
     },
     "execution_count": 12,
     "metadata": {},
     "output_type": "execute_result"
    }
   ],
   "source": [
    "industry_releases = data_2016.groupby('INDUSTRY_SECTOR', as_index=False)['TOTAL_RELEASES'].sum()\n",
    "industry_releases.drop(industry_releases[industry_releases['INDUSTRY_SECTOR'] == 'INDUSTRY_SECTOR'].index, inplace = True)\n",
    "industry_releases.drop(industry_releases[industry_releases['TOTAL_RELEASES'] < 1000000].index, inplace = True)\n",
    "\n",
    "industry_releases = industry_releases.sort_values(by = ['TOTAL_RELEASES'], ascending=False)\n",
    "industry_releases"
   ]
  },
  {
   "cell_type": "code",
   "execution_count": 13,
   "metadata": {},
   "outputs": [
    {
     "data": {
      "text/html": [
       "<div>\n",
       "<style scoped>\n",
       "    .dataframe tbody tr th:only-of-type {\n",
       "        vertical-align: middle;\n",
       "    }\n",
       "\n",
       "    .dataframe tbody tr th {\n",
       "        vertical-align: top;\n",
       "    }\n",
       "\n",
       "    .dataframe thead th {\n",
       "        text-align: right;\n",
       "    }\n",
       "</style>\n",
       "<table border=\"1\" class=\"dataframe\">\n",
       "  <thead>\n",
       "    <tr style=\"text-align: right;\">\n",
       "      <th></th>\n",
       "      <th>INDUSTRY_SECTOR</th>\n",
       "      <th>TOTAL_RELEASES</th>\n",
       "    </tr>\n",
       "  </thead>\n",
       "  <tbody>\n",
       "    <tr>\n",
       "      <th>13</th>\n",
       "      <td>Metal Mining</td>\n",
       "      <td>4566381597.00</td>\n",
       "    </tr>\n",
       "    <tr>\n",
       "      <th>2</th>\n",
       "      <td>Chemicals</td>\n",
       "      <td>1562666663.73</td>\n",
       "    </tr>\n",
       "    <tr>\n",
       "      <th>5</th>\n",
       "      <td>Electric Utilities</td>\n",
       "      <td>1104794010.72</td>\n",
       "    </tr>\n",
       "    <tr>\n",
       "      <th>21</th>\n",
       "      <td>Primary Metals</td>\n",
       "      <td>1042358865.15</td>\n",
       "    </tr>\n",
       "    <tr>\n",
       "      <th>17</th>\n",
       "      <td>Paper</td>\n",
       "      <td>510239821.80</td>\n",
       "    </tr>\n",
       "  </tbody>\n",
       "</table>\n",
       "</div>"
      ],
      "text/plain": [
       "       INDUSTRY_SECTOR  TOTAL_RELEASES\n",
       "13        Metal Mining   4566381597.00\n",
       "2            Chemicals   1562666663.73\n",
       "5   Electric Utilities   1104794010.72\n",
       "21      Primary Metals   1042358865.15\n",
       "17               Paper    510239821.80"
      ]
     },
     "execution_count": 13,
     "metadata": {},
     "output_type": "execute_result"
    }
   ],
   "source": [
    "subset = data_2016.groupby(['INDUSTRY_SECTOR']).agg({'TOTAL_RELEASES': 'sum'})\n",
    "subset = subset.reset_index()\n",
    "subset_industry = industry_releases.head()\n",
    "subset_industry"
   ]
  },
  {
   "cell_type": "code",
   "execution_count": 15,
   "metadata": {},
   "outputs": [
    {
     "data": {
      "image/png": "[encoded data removed]",
      "text/plain": [
       "<Figure size 640x480 with 1 Axes>"
      ]
     },
     "metadata": {},
     "output_type": "display_data"
    }
   ],
   "source": [
    "import matplotlib.pyplot as plt;\n",
    "plt.rcdefaults()\n",
    "\n",
    "fig,ax = plt.subplots()\n",
    "subset_industry = industry_releases.head()\n",
    "ax.barh(subset_industry['INDUSTRY_SECTOR'],subset_industry['TOTAL_RELEASES'])\n",
    "plt.gcf().axes[0].xaxis.get_major_formatter().set_scientific(False)\n",
    "\n",
    "\n",
    "plt.title('Toxic Releases in 2016')\n",
    "plt.xlabel('Total Releases')\n",
    "plt.ylabel('Industry Sector')\n",
    "\n",
    "plt.show()"
   ]
  },
  {
   "cell_type": "code",
   "execution_count": 16,
   "metadata": {},
   "outputs": [
    {
     "data": {
      "text/plain": [
       "(28953, 10)"
      ]
     },
     "execution_count": 16,
     "metadata": {},
     "output_type": "execute_result"
    }
   ],
   "source": [
    "metal_mining_data = final_data[final_data['INDUSTRY_SECTOR'] == 'Metal Mining']\n",
    "metal_mining_data.loc[metal_mining_data['CHEMICAL'] == 'LEAD','CHEMICAL'] = \"LEAD COMPOUNDS\"\n",
    "metal_mining_data.shape"
   ]
  },
  {
   "cell_type": "code",
   "execution_count": 17,
   "metadata": {},
   "outputs": [
    {
     "data": {
      "image/png": "[encoded data removed]",
      "text/plain": [
       "<Figure size 640x480 with 1 Axes>"
      ]
     },
     "metadata": {},
     "output_type": "display_data"
    }
   ],
   "source": [
    "from PIL import Image\n",
    "from wordcloud import WordCloud, STOPWORDS, ImageColorGenerator\n",
    "\n",
    "#metal_chemicals = metal_mining_data['CHEMICAL']\n",
    "#wordcloud = WordCloud().generate(metal_chemicals)\n",
    "wordcloud2 = WordCloud(max_words=100, background_color=\"white\").generate(' '.join(metal_mining_data['CHEMICAL']))\n",
    "\n",
    "# Display the generated image:\n",
    "plt.imshow(wordcloud2, interpolation='bilinear')\n",
    "plt.axis(\"off\")\n",
    "plt.show()"
   ]
  },
  {
   "cell_type": "code",
   "execution_count": 18,
   "metadata": {},
   "outputs": [
    {
     "data": {
      "application/vnd.plotly.v1+json": {
       "config": {
        "linkText": "Export to plot.ly",
        "plotlyServerURL": "https://plot.ly",
        "showLink": false
       },
       "data": [
        {
         "name": "ZINC COMPOUNDS",
         "type": "scatter",
         "x": [
          1987,
          1988,
          1989,
          1990,
          1991,
          1992,
          1993,
          1994,
          1995,
          1996,
          1997,
          1998,
          1999,
          2000,
          2001,
          2002,
          2003,
          2004,
          2005,
          2006,
          2007,
          2008,
          2009,
          2010,
          2011,
          2012,
          2013,
          2014,
          2015,
          2016
         ],
         "y": [
          208856941.9,
          207653823.76,
          169955559.36,
          192663638.32,
          179408406.5,
          46562566,
          389184892.28,
          432722443.44000006,
          456127934.36,
          560931393.16,
          658320899.94,
          1971018698.2599998,
          2063825192.7199998,
          2105422050.1999998,
          1864358876.06,
          1490622973.880001,
          1486524583.179999,
          1537220377.879997,
          1581929172.7800012,
          1767672233.1799977,
          1645658449.0799992,
          1542013696.6599982,
          1522136279.52,
          1569956535.72,
          2539173952.499998,
          2476937343.4499984,
          2565267440.2500057,
          2942713393.1499968,
          1889556494.2499974,
          2225639997.7799973
         ]
        },
        {
         "name": "ARSENIC",
         "type": "scatter",
         "x": [
          1987,
          1988,
          1989,
          1990,
          1991,
          1992,
          1993,
          1994,
          1995,
          1996,
          1997,
          1998,
          1999,
          2000,
          2001,
          2002,
          2003,
          2004,
          2005,
          2006,
          2007,
          2008,
          2009,
          2010,
          2011,
          2012,
          2013,
          2014,
          2015,
          2016
         ],
         "y": [
          1445005,
          257506,
          443332,
          431259,
          2368511,
          26880,
          1054580,
          154774,
          233582,
          560972,
          1113550,
          153574864,
          72672702,
          3592396,
          2056845.4,
          3440953.9400000004,
          1649398.9399999997,
          1802119.2599999995,
          2443767.1399999997,
          1946844.9200000002,
          6335988.760000001,
          2049767.18,
          1896686.3800000006,
          3657241.119999999,
          6175567.289999999,
          4185898.049999997,
          4378096.440000001,
          2289772.98,
          2063288.5200000005,
          2385679.7700000005
         ]
        },
        {
         "name": "COPPER COMPOUNDS",
         "type": "scatter",
         "x": [
          1987,
          1988,
          1989,
          1990,
          1991,
          1992,
          1993,
          1994,
          1995,
          1996,
          1997,
          1998,
          1999,
          2000,
          2001,
          2002,
          2003,
          2004,
          2005,
          2006,
          2007,
          2008,
          2009,
          2010,
          2011,
          2012,
          2013,
          2014,
          2015,
          2016
         ],
         "y": [
          43285838,
          47166166,
          38846519,
          90072603,
          54853188,
          5080180,
          124843698,
          119645608,
          106956230,
          173225604.16,
          172122470.2,
          2157093870.76,
          2966470848.2,
          2089718547.92,
          1407824958.5799997,
          667757803.4999995,
          373675884.88000005,
          308055301.5399999,
          345030045.94,
          398811171.5999998,
          329372092.0999998,
          435306951.77999955,
          366748542.12,
          304828266.18000025,
          552122250.5399996,
          484966433.94000024,
          498569029.85999984,
          402971085.61999995,
          454093955.09999967,
          417958109.7900001
         ]
        }
       ],
       "layout": {
        "template": {
         "data": {
          "bar": [
           {
            "error_x": {
             "color": "#2a3f5f"
            },
            "error_y": {
             "color": "#2a3f5f"
            },
            "marker": {
             "line": {
              "color": "#E5ECF6",
              "width": 0.5
             }
            },
            "type": "bar"
           }
          ],
          "barpolar": [
           {
            "marker": {
             "line": {
              "color": "#E5ECF6",
              "width": 0.5
             }
            },
            "type": "barpolar"
           }
          ],
          "carpet": [
           {
            "aaxis": {
             "endlinecolor": "#2a3f5f",
             "gridcolor": "white",
             "linecolor": "white",
             "minorgridcolor": "white",
             "startlinecolor": "#2a3f5f"
            },
            "baxis": {
             "endlinecolor": "#2a3f5f",
             "gridcolor": "white",
             "linecolor": "white",
             "minorgridcolor": "white",
             "startlinecolor": "#2a3f5f"
            },
            "type": "carpet"
           }
          ],
          "choropleth": [
           {
            "colorbar": {
             "outlinewidth": 0,
             "ticks": ""
            },
            "type": "choropleth"
           }
          ],
          "contour": [
           {
            "colorbar": {
             "outlinewidth": 0,
             "ticks": ""
            },
            "colorscale": [
             [
              0,
              "#0d0887"
             ],
             [
              0.1111111111111111,
              "#46039f"
             ],
             [
              0.2222222222222222,
              "#7201a8"
             ],
             [
              0.3333333333333333,
              "#9c179e"
             ],
             [
              0.4444444444444444,
              "#bd3786"
             ],
             [
              0.5555555555555556,
              "#d8576b"
             ],
             [
              0.6666666666666666,
              "#ed7953"
             ],
             [
              0.7777777777777778,
              "#fb9f3a"
             ],
             [
              0.8888888888888888,
              "#fdca26"
             ],
             [
              1,
              "#f0f921"
             ]
            ],
            "type": "contour"
           }
          ],
          "contourcarpet": [
           {
            "colorbar": {
             "outlinewidth": 0,
             "ticks": ""
            },
            "type": "contourcarpet"
           }
          ],
          "heatmap": [
           {
            "colorbar": {
             "outlinewidth": 0,
             "ticks": ""
            },
            "colorscale": [
             [
              0,
              "#0d0887"
             ],
             [
              0.1111111111111111,
              "#46039f"
             ],
             [
              0.2222222222222222,
              "#7201a8"
             ],
             [
              0.3333333333333333,
              "#9c179e"
             ],
             [
              0.4444444444444444,
              "#bd3786"
             ],
             [
              0.5555555555555556,
              "#d8576b"
             ],
             [
              0.6666666666666666,
              "#ed7953"
             ],
             [
              0.7777777777777778,
              "#fb9f3a"
             ],
             [
              0.8888888888888888,
              "#fdca26"
             ],
             [
              1,
              "#f0f921"
             ]
            ],
            "type": "heatmap"
           }
          ],
          "heatmapgl": [
           {
            "colorbar": {
             "outlinewidth": 0,
             "ticks": ""
            },
            "colorscale": [
             [
              0,
              "#0d0887"
             ],
             [
              0.1111111111111111,
              "#46039f"
             ],
             [
              0.2222222222222222,
              "#7201a8"
             ],
             [
              0.3333333333333333,
              "#9c179e"
             ],
             [
              0.4444444444444444,
              "#bd3786"
             ],
             [
              0.5555555555555556,
              "#d8576b"
             ],
             [
              0.6666666666666666,
              "#ed7953"
             ],
             [
              0.7777777777777778,
              "#fb9f3a"
             ],
             [
              0.8888888888888888,
              "#fdca26"
             ],
             [
              1,
              "#f0f921"
             ]
            ],
            "type": "heatmapgl"
           }
          ],
          "histogram": [
           {
            "marker": {
             "colorbar": {
              "outlinewidth": 0,
              "ticks": ""
             }
            },
            "type": "histogram"
           }
          ],
          "histogram2d": [
           {
            "colorbar": {
             "outlinewidth": 0,
             "ticks": ""
            },
            "colorscale": [
             [
              0,
              "#0d0887"
             ],
             [
              0.1111111111111111,
              "#46039f"
             ],
             [
              0.2222222222222222,
              "#7201a8"
             ],
             [
              0.3333333333333333,
              "#9c179e"
             ],
             [
              0.4444444444444444,
              "#bd3786"
             ],
             [
              0.5555555555555556,
              "#d8576b"
             ],
             [
              0.6666666666666666,
              "#ed7953"
             ],
             [
              0.7777777777777778,
              "#fb9f3a"
             ],
             [
              0.8888888888888888,
              "#fdca26"
             ],
             [
              1,
              "#f0f921"
             ]
            ],
            "type": "histogram2d"
           }
          ],
          "histogram2dcontour": [
           {
            "colorbar": {
             "outlinewidth": 0,
             "ticks": ""
            },
            "colorscale": [
             [
              0,
              "#0d0887"
             ],
             [
              0.1111111111111111,
              "#46039f"
             ],
             [
              0.2222222222222222,
              "#7201a8"
             ],
             [
              0.3333333333333333,
              "#9c179e"
             ],
             [
              0.4444444444444444,
              "#bd3786"
             ],
             [
              0.5555555555555556,
              "#d8576b"
             ],
             [
              0.6666666666666666,
              "#ed7953"
             ],
             [
              0.7777777777777778,
              "#fb9f3a"
             ],
             [
              0.8888888888888888,
              "#fdca26"
             ],
             [
              1,
              "#f0f921"
             ]
            ],
            "type": "histogram2dcontour"
           }
          ],
          "mesh3d": [
           {
            "colorbar": {
             "outlinewidth": 0,
             "ticks": ""
            },
            "type": "mesh3d"
           }
          ],
          "parcoords": [
           {
            "line": {
             "colorbar": {
              "outlinewidth": 0,
              "ticks": ""
             }
            },
            "type": "parcoords"
           }
          ],
          "pie": [
           {
            "automargin": true,
            "type": "pie"
           }
          ],
          "scatter": [
           {
            "marker": {
             "colorbar": {
              "outlinewidth": 0,
              "ticks": ""
             }
            },
            "type": "scatter"
           }
          ],
          "scatter3d": [
           {
            "line": {
             "colorbar": {
              "outlinewidth": 0,
              "ticks": ""
             }
            },
            "marker": {
             "colorbar": {
              "outlinewidth": 0,
              "ticks": ""
             }
            },
            "type": "scatter3d"
           }
          ],
          "scattercarpet": [
           {
            "marker": {
             "colorbar": {
              "outlinewidth": 0,
              "ticks": ""
             }
            },
            "type": "scattercarpet"
           }
          ],
          "scattergeo": [
           {
            "marker": {
             "colorbar": {
              "outlinewidth": 0,
              "ticks": ""
             }
            },
            "type": "scattergeo"
           }
          ],
          "scattergl": [
           {
            "marker": {
             "colorbar": {
              "outlinewidth": 0,
              "ticks": ""
             }
            },
            "type": "scattergl"
           }
          ],
          "scattermapbox": [
           {
            "marker": {
             "colorbar": {
              "outlinewidth": 0,
              "ticks": ""
             }
            },
            "type": "scattermapbox"
           }
          ],
          "scatterpolar": [
           {
            "marker": {
             "colorbar": {
              "outlinewidth": 0,
              "ticks": ""
             }
            },
            "type": "scatterpolar"
           }
          ],
          "scatterpolargl": [
           {
            "marker": {
             "colorbar": {
              "outlinewidth": 0,
              "ticks": ""
             }
            },
            "type": "scatterpolargl"
           }
          ],
          "scatterternary": [
           {
            "marker": {
             "colorbar": {
              "outlinewidth": 0,
              "ticks": ""
             }
            },
            "type": "scatterternary"
           }
          ],
          "surface": [
           {
            "colorbar": {
             "outlinewidth": 0,
             "ticks": ""
            },
            "colorscale": [
             [
              0,
              "#0d0887"
             ],
             [
              0.1111111111111111,
              "#46039f"
             ],
             [
              0.2222222222222222,
              "#7201a8"
             ],
             [
              0.3333333333333333,
              "#9c179e"
             ],
             [
              0.4444444444444444,
              "#bd3786"
             ],
             [
              0.5555555555555556,
              "#d8576b"
             ],
             [
              0.6666666666666666,
              "#ed7953"
             ],
             [
              0.7777777777777778,
              "#fb9f3a"
             ],
             [
              0.8888888888888888,
              "#fdca26"
             ],
             [
              1,
              "#f0f921"
             ]
            ],
            "type": "surface"
           }
          ],
          "table": [
           {
            "cells": {
             "fill": {
              "color": "#EBF0F8"
             },
             "line": {
              "color": "white"
             }
            },
            "header": {
             "fill": {
              "color": "#C8D4E3"
             },
             "line": {
              "color": "white"
             }
            },
            "type": "table"
           }
          ]
         },
         "layout": {
          "annotationdefaults": {
           "arrowcolor": "#2a3f5f",
           "arrowhead": 0,
           "arrowwidth": 1
          },
          "autotypenumbers": "strict",
          "coloraxis": {
           "colorbar": {
            "outlinewidth": 0,
            "ticks": ""
           }
          },
          "colorscale": {
           "diverging": [
            [
             0,
             "#8e0152"
            ],
            [
             0.1,
             "#c51b7d"
            ],
            [
             0.2,
             "#de77ae"
            ],
            [
             0.3,
             "#f1b6da"
            ],
            [
             0.4,
             "#fde0ef"
            ],
            [
             0.5,
             "#f7f7f7"
            ],
            [
             0.6,
             "#e6f5d0"
            ],
            [
             0.7,
             "#b8e186"
            ],
            [
             0.8,
             "#7fbc41"
            ],
            [
             0.9,
             "#4d9221"
            ],
            [
             1,
             "#276419"
            ]
           ],
           "sequential": [
            [
             0,
             "#0d0887"
            ],
            [
             0.1111111111111111,
             "#46039f"
            ],
            [
             0.2222222222222222,
             "#7201a8"
            ],
            [
             0.3333333333333333,
             "#9c179e"
            ],
            [
             0.4444444444444444,
             "#bd3786"
            ],
            [
             0.5555555555555556,
             "#d8576b"
            ],
            [
             0.6666666666666666,
             "#ed7953"
            ],
            [
             0.7777777777777778,
             "#fb9f3a"
            ],
            [
             0.8888888888888888,
             "#fdca26"
            ],
            [
             1,
             "#f0f921"
            ]
           ],
           "sequentialminus": [
            [
             0,
             "#0d0887"
            ],
            [
             0.1111111111111111,
             "#46039f"
            ],
            [
             0.2222222222222222,
             "#7201a8"
            ],
            [
             0.3333333333333333,
             "#9c179e"
            ],
            [
             0.4444444444444444,
             "#bd3786"
            ],
            [
             0.5555555555555556,
             "#d8576b"
            ],
            [
             0.6666666666666666,
             "#ed7953"
            ],
            [
             0.7777777777777778,
             "#fb9f3a"
            ],
            [
             0.8888888888888888,
             "#fdca26"
            ],
            [
             1,
             "#f0f921"
            ]
           ]
          },
          "colorway": [
           "#636efa",
           "#EF553B",
           "#00cc96",
           "#ab63fa",
           "#FFA15A",
           "#19d3f3",
           "#FF6692",
           "#B6E880",
           "#FF97FF",
           "#FECB52"
          ],
          "font": {
           "color": "#2a3f5f"
          },
          "geo": {
           "bgcolor": "white",
           "lakecolor": "white",
           "landcolor": "#E5ECF6",
           "showlakes": true,
           "showland": true,
           "subunitcolor": "white"
          },
          "hoverlabel": {
           "align": "left"
          },
          "hovermode": "closest",
          "mapbox": {
           "style": "light"
          },
          "paper_bgcolor": "white",
          "plot_bgcolor": "#E5ECF6",
          "polar": {
           "angularaxis": {
            "gridcolor": "white",
            "linecolor": "white",
            "ticks": ""
           },
           "bgcolor": "#E5ECF6",
           "radialaxis": {
            "gridcolor": "white",
            "linecolor": "white",
            "ticks": ""
           }
          },
          "scene": {
           "xaxis": {
            "backgroundcolor": "#E5ECF6",
            "gridcolor": "white",
            "gridwidth": 2,
            "linecolor": "white",
            "showbackground": true,
            "ticks": "",
            "zerolinecolor": "white"
           },
           "yaxis": {
            "backgroundcolor": "#E5ECF6",
            "gridcolor": "white",
            "gridwidth": 2,
            "linecolor": "white",
            "showbackground": true,
            "ticks": "",
            "zerolinecolor": "white"
           },
           "zaxis": {
            "backgroundcolor": "#E5ECF6",
            "gridcolor": "white",
            "gridwidth": 2,
            "linecolor": "white",
            "showbackground": true,
            "ticks": "",
            "zerolinecolor": "white"
           }
          },
          "shapedefaults": {
           "line": {
            "color": "#2a3f5f"
           }
          },
          "ternary": {
           "aaxis": {
            "gridcolor": "white",
            "linecolor": "white",
            "ticks": ""
           },
           "baxis": {
            "gridcolor": "white",
            "linecolor": "white",
            "ticks": ""
           },
           "bgcolor": "#E5ECF6",
           "caxis": {
            "gridcolor": "white",
            "linecolor": "white",
            "ticks": ""
           }
          },
          "title": {
           "x": 0.05
          },
          "xaxis": {
           "automargin": true,
           "gridcolor": "white",
           "linecolor": "white",
           "ticks": "",
           "title": {
            "standoff": 15
           },
           "zerolinecolor": "white",
           "zerolinewidth": 2
          },
          "yaxis": {
           "automargin": true,
           "gridcolor": "white",
           "linecolor": "white",
           "ticks": "",
           "title": {
            "standoff": 15
           },
           "zerolinecolor": "white",
           "zerolinewidth": 2
          }
         }
        },
        "title": {
         "text": "On-Site Land Disposal by Chemicals in the US"
        },
        "xaxis": {
         "title": {
          "text": "Year"
         }
        },
        "yaxis": {
         "title": {
          "text": "Pounds"
         }
        }
       }
      },
      "text/html": [
       "<div>                            <div id=\"65079f2d-b966-4c89-a79e-66384b30960d\" class=\"plotly-graph-div\" style=\"height:525px; width:100%;\"></div>            <script type=\"text/javascript\">                require([\"plotly\"], function(Plotly) {                    window.PLOTLYENV=window.PLOTLYENV || {};                                    if (document.getElementById(\"65079f2d-b966-4c89-a79e-66384b30960d\")) {                    Plotly.newPlot(                        \"65079f2d-b966-4c89-a79e-66384b30960d\",                        [{\"name\": \"ZINC COMPOUNDS\", \"type\": \"scatter\", \"x\": [1987, 1988, 1989, 1990, 1991, 1992, 1993, 1994, 1995, 1996, 1997, 1998, 1999, 2000, 2001, 2002, 2003, 2004, 2005, 2006, 2007, 2008, 2009, 2010, 2011, 2012, 2013, 2014, 2015, 2016], \"y\": [208856941.9, 207653823.76, 169955559.36, 192663638.32, 179408406.5, 46562566.0, 389184892.28, 432722443.44000006, 456127934.36, 560931393.16, 658320899.94, 1971018698.2599998, 2063825192.7199998, 2105422050.1999998, 1864358876.06, 1490622973.880001, 1486524583.179999, 1537220377.879997, 1581929172.7800012, 1767672233.1799977, 1645658449.0799992, 1542013696.6599982, 1522136279.52, 1569956535.72, 2539173952.499998, 2476937343.4499984, 2565267440.2500057, 2942713393.1499968, 1889556494.2499974, 2225639997.7799973]}, {\"name\": \"ARSENIC\", \"type\": \"scatter\", \"x\": [1987, 1988, 1989, 1990, 1991, 1992, 1993, 1994, 1995, 1996, 1997, 1998, 1999, 2000, 2001, 2002, 2003, 2004, 2005, 2006, 2007, 2008, 2009, 2010, 2011, 2012, 2013, 2014, 2015, 2016], \"y\": [1445005.0, 257506.0, 443332.0, 431259.0, 2368511.0, 26880.0, 1054580.0, 154774.0, 233582.0, 560972.0, 1113550.0, 153574864.0, 72672702.0, 3592396.0, 2056845.4, 3440953.9400000004, 1649398.9399999997, 1802119.2599999995, 2443767.1399999997, 1946844.9200000002, 6335988.760000001, 2049767.18, 1896686.3800000006, 3657241.119999999, 6175567.289999999, 4185898.049999997, 4378096.440000001, 2289772.98, 2063288.5200000005, 2385679.7700000005]}, {\"name\": \"COPPER COMPOUNDS\", \"type\": \"scatter\", \"x\": [1987, 1988, 1989, 1990, 1991, 1992, 1993, 1994, 1995, 1996, 1997, 1998, 1999, 2000, 2001, 2002, 2003, 2004, 2005, 2006, 2007, 2008, 2009, 2010, 2011, 2012, 2013, 2014, 2015, 2016], \"y\": [43285838.0, 47166166.0, 38846519.0, 90072603.0, 54853188.0, 5080180.0, 124843698.0, 119645608.0, 106956230.0, 173225604.16, 172122470.2, 2157093870.76, 2966470848.2, 2089718547.92, 1407824958.5799997, 667757803.4999995, 373675884.88000005, 308055301.5399999, 345030045.94, 398811171.5999998, 329372092.0999998, 435306951.77999955, 366748542.12, 304828266.18000025, 552122250.5399996, 484966433.94000024, 498569029.85999984, 402971085.61999995, 454093955.09999967, 417958109.7900001]}],                        {\"template\": {\"data\": {\"bar\": [{\"error_x\": {\"color\": \"#2a3f5f\"}, \"error_y\": {\"color\": \"#2a3f5f\"}, \"marker\": {\"line\": {\"color\": \"#E5ECF6\", \"width\": 0.5}}, \"type\": \"bar\"}], \"barpolar\": [{\"marker\": {\"line\": {\"color\": \"#E5ECF6\", \"width\": 0.5}}, \"type\": \"barpolar\"}], \"carpet\": [{\"aaxis\": {\"endlinecolor\": \"#2a3f5f\", \"gridcolor\": \"white\", \"linecolor\": \"white\", \"minorgridcolor\": \"white\", \"startlinecolor\": \"#2a3f5f\"}, \"baxis\": {\"endlinecolor\": \"#2a3f5f\", \"gridcolor\": \"white\", \"linecolor\": \"white\", \"minorgridcolor\": \"white\", \"startlinecolor\": \"#2a3f5f\"}, \"type\": \"carpet\"}], \"choropleth\": [{\"colorbar\": {\"outlinewidth\": 0, \"ticks\": \"\"}, \"type\": \"choropleth\"}], \"contour\": [{\"colorbar\": {\"outlinewidth\": 0, \"ticks\": \"\"}, \"colorscale\": [[0.0, \"#0d0887\"], [0.1111111111111111, \"#46039f\"], [0.2222222222222222, \"#7201a8\"], [0.3333333333333333, \"#9c179e\"], [0.4444444444444444, \"#bd3786\"], [0.5555555555555556, \"#d8576b\"], [0.6666666666666666, \"#ed7953\"], [0.7777777777777778, \"#fb9f3a\"], [0.8888888888888888, \"#fdca26\"], [1.0, \"#f0f921\"]], \"type\": \"contour\"}], \"contourcarpet\": [{\"colorbar\": {\"outlinewidth\": 0, \"ticks\": \"\"}, \"type\": \"contourcarpet\"}], \"heatmap\": [{\"colorbar\": {\"outlinewidth\": 0, \"ticks\": \"\"}, \"colorscale\": [[0.0, \"#0d0887\"], [0.1111111111111111, \"#46039f\"], [0.2222222222222222, \"#7201a8\"], [0.3333333333333333, \"#9c179e\"], [0.4444444444444444, \"#bd3786\"], [0.5555555555555556, \"#d8576b\"], [0.6666666666666666, \"#ed7953\"], [0.7777777777777778, \"#fb9f3a\"], [0.8888888888888888, \"#fdca26\"], [1.0, \"#f0f921\"]], \"type\": \"heatmap\"}], \"heatmapgl\": [{\"colorbar\": {\"outlinewidth\": 0, \"ticks\": \"\"}, \"colorscale\": [[0.0, \"#0d0887\"], [0.1111111111111111, \"#46039f\"], [0.2222222222222222, \"#7201a8\"], [0.3333333333333333, \"#9c179e\"], [0.4444444444444444, \"#bd3786\"], [0.5555555555555556, \"#d8576b\"], [0.6666666666666666, \"#ed7953\"], [0.7777777777777778, \"#fb9f3a\"], [0.8888888888888888, \"#fdca26\"], [1.0, \"#f0f921\"]], \"type\": \"heatmapgl\"}], \"histogram\": [{\"marker\": {\"colorbar\": {\"outlinewidth\": 0, \"ticks\": \"\"}}, \"type\": \"histogram\"}], \"histogram2d\": [{\"colorbar\": {\"outlinewidth\": 0, \"ticks\": \"\"}, \"colorscale\": [[0.0, \"#0d0887\"], [0.1111111111111111, \"#46039f\"], [0.2222222222222222, \"#7201a8\"], [0.3333333333333333, \"#9c179e\"], [0.4444444444444444, \"#bd3786\"], [0.5555555555555556, \"#d8576b\"], [0.6666666666666666, \"#ed7953\"], [0.7777777777777778, \"#fb9f3a\"], [0.8888888888888888, \"#fdca26\"], [1.0, \"#f0f921\"]], \"type\": \"histogram2d\"}], \"histogram2dcontour\": [{\"colorbar\": {\"outlinewidth\": 0, \"ticks\": \"\"}, \"colorscale\": [[0.0, \"#0d0887\"], [0.1111111111111111, \"#46039f\"], [0.2222222222222222, \"#7201a8\"], [0.3333333333333333, \"#9c179e\"], [0.4444444444444444, \"#bd3786\"], [0.5555555555555556, \"#d8576b\"], [0.6666666666666666, \"#ed7953\"], [0.7777777777777778, \"#fb9f3a\"], [0.8888888888888888, \"#fdca26\"], [1.0, \"#f0f921\"]], \"type\": \"histogram2dcontour\"}], \"mesh3d\": [{\"colorbar\": {\"outlinewidth\": 0, \"ticks\": \"\"}, \"type\": \"mesh3d\"}], \"parcoords\": [{\"line\": {\"colorbar\": {\"outlinewidth\": 0, \"ticks\": \"\"}}, \"type\": \"parcoords\"}], \"pie\": [{\"automargin\": true, \"type\": \"pie\"}], \"scatter\": [{\"marker\": {\"colorbar\": {\"outlinewidth\": 0, \"ticks\": \"\"}}, \"type\": \"scatter\"}], \"scatter3d\": [{\"line\": {\"colorbar\": {\"outlinewidth\": 0, \"ticks\": \"\"}}, \"marker\": {\"colorbar\": {\"outlinewidth\": 0, \"ticks\": \"\"}}, \"type\": \"scatter3d\"}], \"scattercarpet\": [{\"marker\": {\"colorbar\": {\"outlinewidth\": 0, \"ticks\": \"\"}}, \"type\": \"scattercarpet\"}], \"scattergeo\": [{\"marker\": {\"colorbar\": {\"outlinewidth\": 0, \"ticks\": \"\"}}, \"type\": \"scattergeo\"}], \"scattergl\": [{\"marker\": {\"colorbar\": {\"outlinewidth\": 0, \"ticks\": \"\"}}, \"type\": \"scattergl\"}], \"scattermapbox\": [{\"marker\": {\"colorbar\": {\"outlinewidth\": 0, \"ticks\": \"\"}}, \"type\": \"scattermapbox\"}], \"scatterpolar\": [{\"marker\": {\"colorbar\": {\"outlinewidth\": 0, \"ticks\": \"\"}}, \"type\": \"scatterpolar\"}], \"scatterpolargl\": [{\"marker\": {\"colorbar\": {\"outlinewidth\": 0, \"ticks\": \"\"}}, \"type\": \"scatterpolargl\"}], \"scatterternary\": [{\"marker\": {\"colorbar\": {\"outlinewidth\": 0, \"ticks\": \"\"}}, \"type\": \"scatterternary\"}], \"surface\": [{\"colorbar\": {\"outlinewidth\": 0, \"ticks\": \"\"}, \"colorscale\": [[0.0, \"#0d0887\"], [0.1111111111111111, \"#46039f\"], [0.2222222222222222, \"#7201a8\"], [0.3333333333333333, \"#9c179e\"], [0.4444444444444444, \"#bd3786\"], [0.5555555555555556, \"#d8576b\"], [0.6666666666666666, \"#ed7953\"], [0.7777777777777778, \"#fb9f3a\"], [0.8888888888888888, \"#fdca26\"], [1.0, \"#f0f921\"]], \"type\": \"surface\"}], \"table\": [{\"cells\": {\"fill\": {\"color\": \"#EBF0F8\"}, \"line\": {\"color\": \"white\"}}, \"header\": {\"fill\": {\"color\": \"#C8D4E3\"}, \"line\": {\"color\": \"white\"}}, \"type\": \"table\"}]}, \"layout\": {\"annotationdefaults\": {\"arrowcolor\": \"#2a3f5f\", \"arrowhead\": 0, \"arrowwidth\": 1}, \"autotypenumbers\": \"strict\", \"coloraxis\": {\"colorbar\": {\"outlinewidth\": 0, \"ticks\": \"\"}}, \"colorscale\": {\"diverging\": [[0, \"#8e0152\"], [0.1, \"#c51b7d\"], [0.2, \"#de77ae\"], [0.3, \"#f1b6da\"], [0.4, \"#fde0ef\"], [0.5, \"#f7f7f7\"], [0.6, \"#e6f5d0\"], [0.7, \"#b8e186\"], [0.8, \"#7fbc41\"], [0.9, \"#4d9221\"], [1, \"#276419\"]], \"sequential\": [[0.0, \"#0d0887\"], [0.1111111111111111, \"#46039f\"], [0.2222222222222222, \"#7201a8\"], [0.3333333333333333, \"#9c179e\"], [0.4444444444444444, \"#bd3786\"], [0.5555555555555556, \"#d8576b\"], [0.6666666666666666, \"#ed7953\"], [0.7777777777777778, \"#fb9f3a\"], [0.8888888888888888, \"#fdca26\"], [1.0, \"#f0f921\"]], \"sequentialminus\": [[0.0, \"#0d0887\"], [0.1111111111111111, \"#46039f\"], [0.2222222222222222, \"#7201a8\"], [0.3333333333333333, \"#9c179e\"], [0.4444444444444444, \"#bd3786\"], [0.5555555555555556, \"#d8576b\"], [0.6666666666666666, \"#ed7953\"], [0.7777777777777778, \"#fb9f3a\"], [0.8888888888888888, \"#fdca26\"], [1.0, \"#f0f921\"]]}, \"colorway\": [\"#636efa\", \"#EF553B\", \"#00cc96\", \"#ab63fa\", \"#FFA15A\", \"#19d3f3\", \"#FF6692\", \"#B6E880\", \"#FF97FF\", \"#FECB52\"], \"font\": {\"color\": \"#2a3f5f\"}, \"geo\": {\"bgcolor\": \"white\", \"lakecolor\": \"white\", \"landcolor\": \"#E5ECF6\", \"showlakes\": true, \"showland\": true, \"subunitcolor\": \"white\"}, \"hoverlabel\": {\"align\": \"left\"}, \"hovermode\": \"closest\", \"mapbox\": {\"style\": \"light\"}, \"paper_bgcolor\": \"white\", \"plot_bgcolor\": \"#E5ECF6\", \"polar\": {\"angularaxis\": {\"gridcolor\": \"white\", \"linecolor\": \"white\", \"ticks\": \"\"}, \"bgcolor\": \"#E5ECF6\", \"radialaxis\": {\"gridcolor\": \"white\", \"linecolor\": \"white\", \"ticks\": \"\"}}, \"scene\": {\"xaxis\": {\"backgroundcolor\": \"#E5ECF6\", \"gridcolor\": \"white\", \"gridwidth\": 2, \"linecolor\": \"white\", \"showbackground\": true, \"ticks\": \"\", \"zerolinecolor\": \"white\"}, \"yaxis\": {\"backgroundcolor\": \"#E5ECF6\", \"gridcolor\": \"white\", \"gridwidth\": 2, \"linecolor\": \"white\", \"showbackground\": true, \"ticks\": \"\", \"zerolinecolor\": \"white\"}, \"zaxis\": {\"backgroundcolor\": \"#E5ECF6\", \"gridcolor\": \"white\", \"gridwidth\": 2, \"linecolor\": \"white\", \"showbackground\": true, \"ticks\": \"\", \"zerolinecolor\": \"white\"}}, \"shapedefaults\": {\"line\": {\"color\": \"#2a3f5f\"}}, \"ternary\": {\"aaxis\": {\"gridcolor\": \"white\", \"linecolor\": \"white\", \"ticks\": \"\"}, \"baxis\": {\"gridcolor\": \"white\", \"linecolor\": \"white\", \"ticks\": \"\"}, \"bgcolor\": \"#E5ECF6\", \"caxis\": {\"gridcolor\": \"white\", \"linecolor\": \"white\", \"ticks\": \"\"}}, \"title\": {\"x\": 0.05}, \"xaxis\": {\"automargin\": true, \"gridcolor\": \"white\", \"linecolor\": \"white\", \"ticks\": \"\", \"title\": {\"standoff\": 15}, \"zerolinecolor\": \"white\", \"zerolinewidth\": 2}, \"yaxis\": {\"automargin\": true, \"gridcolor\": \"white\", \"linecolor\": \"white\", \"ticks\": \"\", \"title\": {\"standoff\": 15}, \"zerolinecolor\": \"white\", \"zerolinewidth\": 2}}}, \"title\": {\"text\": \"On-Site Land Disposal by Chemicals in the US\"}, \"xaxis\": {\"title\": {\"text\": \"Year\"}}, \"yaxis\": {\"title\": {\"text\": \"Pounds\"}}},                        {\"responsive\": true}                    ).then(function(){\n",
       "                            \n",
       "var gd = document.getElementById('65079f2d-b966-4c89-a79e-66384b30960d');\n",
       "var x = new MutationObserver(function (mutations, observer) {{\n",
       "        var display = window.getComputedStyle(gd).display;\n",
       "        if (!display || display === 'none') {{\n",
       "            console.log([gd, 'removed!']);\n",
       "            Plotly.purge(gd);\n",
       "            observer.disconnect();\n",
       "        }}\n",
       "}});\n",
       "\n",
       "// Listen for the removal of the full notebook cells\n",
       "var notebookContainer = gd.closest('#notebook-container');\n",
       "if (notebookContainer) {{\n",
       "    x.observe(notebookContainer, {childList: true});\n",
       "}}\n",
       "\n",
       "// Listen for the clearing of the current output cell\n",
       "var outputEl = gd.closest('.output');\n",
       "if (outputEl) {{\n",
       "    x.observe(outputEl, {childList: true});\n",
       "}}\n",
       "\n",
       "                        })                };                });            </script>        </div>"
      ]
     },
     "metadata": {},
     "output_type": "display_data"
    }
   ],
   "source": [
    "#plot on site land disposal chemicals over time\n",
    "temp = final_data.groupby(['CHEMICAL', 'YEAR']).agg({'TOTAL_RELEASES': 'sum'})\n",
    "temp = temp.reset_index()\n",
    "\n",
    "traces = []\n",
    "for i in ['ZINC COMPOUNDS',\n",
    "         'ARSENIC','COPPER COMPOUNDS']:\n",
    "    temp_ = temp[temp['CHEMICAL'] == i]\n",
    "    trace = go.Scatter(x=temp_['YEAR'], y=temp_['TOTAL_RELEASES'], name=i)\n",
    "    traces.append(trace)\n",
    "    \n",
    "layout = go.Layout(title='On-Site Land Disposal by Chemicals in the US',\n",
    "                  yaxis=dict(title='Pounds'), xaxis=dict(title='Year'))    \n",
    "fig = go.Figure(data = traces, layout=layout)\n",
    "py.iplot(fig)"
   ]
  },
  {
   "cell_type": "code",
   "execution_count": 19,
   "metadata": {},
   "outputs": [],
   "source": [
    "years = [i for i in range(1987, 2016+1)]\n",
    "\n",
    "# create steps for slider\n",
    "def get_steps(years):\n",
    "    steps = []\n",
    "    for i in range(0,len(years)):\n",
    "        step = dict(method = \"restyle\",\n",
    "                    args = [\"visible\", [False]*len(years)],\n",
    "                    label = years[i]) \n",
    "        step['args'][1][i] = True\n",
    "        steps.append(step)\n",
    "    return steps\n",
    "\n",
    "# Sliders layout:\n",
    "def get_sliders(steps):\n",
    "    sliders = [dict(active = 10,\n",
    "                    currentvalue = {\"prefix\": \"Year: \"},\n",
    "                    pad = {\"t\": 50},\n",
    "                    steps = steps)]\n",
    "    return sliders\n",
    "\n",
    "# get dataframe of only selected chemical \n",
    "def get_cont_sites(chemicals): \n",
    "    return final_data[final_data.CHEMICAL.isin([chemicals])]\n",
    "\n",
    "# make dataframe with values for choropleth colors\n",
    "def get_state_counts(cont_sites):\n",
    "    # fill each year column with the number of contaminated sites in each state\n",
    "    state_counts = pd.DataFrame(index=final_data[final_data.YEAR == 2016].ST.value_counts().sort_index().index.tolist(), columns=years)\n",
    "    for i in years: \n",
    "        totals_temp = cont_sites[cont_sites.YEAR == i][['ST', 'TOTAL_RELEASES']].groupby(['ST']).sum().unstack()\n",
    "        state_counts[i] = pd.DataFrame(index=totals_temp.index.levels[1].tolist(), data=totals_temp.values, columns=[i])\n",
    "\n",
    "    state_counts.loc['norm'] = state_counts.max().max()\n",
    "    return state_counts\n",
    "\n",
    "\n",
    "\n",
    "steps = get_steps(years)\n",
    "sliders = get_sliders(steps)\n",
    "\n",
    "def plot_choro(Chemical='LEAD COMPOUNDS'):\n",
    "    cont_sites = get_cont_sites(Chemical)\n",
    "    state_counts = get_state_counts(cont_sites)\n",
    "\n",
    "    # create a list and loop through every year, store the trace in data_bal and then update with a new year\n",
    "    data_bal = []\n",
    "    for i in years:\n",
    "        data_upd = [dict(type='choropleth',\n",
    "                         name=i,\n",
    "                          colorscale = 'Reds',\n",
    "                          reversescale=False,\n",
    "                          locations = state_counts[i].index,\n",
    "                          z = state_counts[i].values,\n",
    "                          locationmode = 'USA-states',\n",
    "                          colorbar = dict(title='Pounds Released Per Year')\n",
    "                        )\n",
    "                   ]\n",
    "\n",
    "        data_bal.extend(data_upd)\n",
    "\n",
    "\n",
    "    # Set the layout\n",
    "    layout = dict(title = 'Total Released ' + Chemical + ' In Pounds',\n",
    "                  geo = dict(scope='usa',\n",
    "                             projection=dict( type='albers usa')),\n",
    "                  sliders = sliders)\n",
    "\n",
    "    fig = dict(data=data_bal, layout=layout)\n",
    "    py.iplot(fig)"
   ]
  },
  {
   "cell_type": "code",
   "execution_count": 20,
   "metadata": {},
   "outputs": [
    {
     "data": {
      "application/vnd.plotly.v1+json": {
       "config": {
        "linkText": "Export to plot.ly",
        "plotlyServerURL": "https://plot.ly",
        "showLink": false
       },
       "data": [
        {
         "colorbar": {
          "title": {
           "text": "Pounds Released Per Year"
          }
         },
         "colorscale": [
          [
           0,
           "rgb(255,245,240)"
          ],
          [
           0.125,
           "rgb(254,224,210)"
          ],
          [
           0.25,
           "rgb(252,187,161)"
          ],
          [
           0.375,
           "rgb(252,146,114)"
          ],
          [
           0.5,
           "rgb(251,106,74)"
          ],
          [
           0.625,
           "rgb(239,59,44)"
          ],
          [
           0.75,
           "rgb(203,24,29)"
          ],
          [
           0.875,
           "rgb(165,15,21)"
          ],
          [
           1,
           "rgb(103,0,13)"
          ]
         ],
         "locationmode": "USA-states",
         "locations": [
          "AK",
          "AL",
          "AR",
          "AS",
          "AZ",
          "CA",
          "CO",
          "CT",
          "DC",
          "DE",
          "FL",
          "GA",
          "GU",
          "HI",
          "IA",
          "ID",
          "IL",
          "IN",
          "KS",
          "KY",
          "LA",
          "MA",
          "MD",
          "ME",
          "MI",
          "MN",
          "MO",
          "MP",
          "MS",
          "MT",
          "NC",
          "ND",
          "NE",
          "NH",
          "NJ",
          "NM",
          "NV",
          "NY",
          "OH",
          "OK",
          "OR",
          "PA",
          "PR",
          "RI",
          "SC",
          "SD",
          "TN",
          "TX",
          "UT",
          "VA",
          "VI",
          "VT",
          "WA",
          "WI",
          "WV",
          "WY",
          "norm"
         ],
         "name": "1987",
         "reversescale": false,
         "type": "choropleth",
         "z": [
          0,
          249856,
          82388,
          0,
          3955139,
          603065,
          35832,
          29241,
          0,
          32758,
          27820,
          37708,
          0,
          0,
          28223,
          160300,
          551785,
          2145293,
          61313,
          584187,
          141482,
          18577,
          15514,
          0,
          1744963,
          24018,
          1639201,
          0,
          17454,
          2359091,
          33939,
          12029,
          109553,
          54985,
          230409,
          19611,
          0,
          2656389,
          3981615,
          28329,
          457773,
          1440379,
          1030,
          20291,
          130500,
          0,
          54040,
          975566,
          4863,
          261828,
          1400,
          250,
          80124,
          2520108,
          21123,
          0,
          1463539318.1099997
         ]
        },
        {
         "colorbar": {
          "title": {
           "text": "Pounds Released Per Year"
          }
         },
         "colorscale": [
          [
           0,
           "rgb(255,245,240)"
          ],
          [
           0.125,
           "rgb(254,224,210)"
          ],
          [
           0.25,
           "rgb(252,187,161)"
          ],
          [
           0.375,
           "rgb(252,146,114)"
          ],
          [
           0.5,
           "rgb(251,106,74)"
          ],
          [
           0.625,
           "rgb(239,59,44)"
          ],
          [
           0.75,
           "rgb(203,24,29)"
          ],
          [
           0.875,
           "rgb(165,15,21)"
          ],
          [
           1,
           "rgb(103,0,13)"
          ]
         ],
         "locationmode": "USA-states",
         "locations": [
          "AK",
          "AL",
          "AR",
          "AS",
          "AZ",
          "CA",
          "CO",
          "CT",
          "DC",
          "DE",
          "FL",
          "GA",
          "GU",
          "HI",
          "IA",
          "ID",
          "IL",
          "IN",
          "KS",
          "KY",
          "LA",
          "MA",
          "MD",
          "ME",
          "MI",
          "MN",
          "MO",
          "MP",
          "MS",
          "MT",
          "NC",
          "ND",
          "NE",
          "NH",
          "NJ",
          "NM",
          "NV",
          "NY",
          "OH",
          "OK",
          "OR",
          "PA",
          "PR",
          "RI",
          "SC",
          "SD",
          "TN",
          "TX",
          "UT",
          "VA",
          "VI",
          "VT",
          "WA",
          "WI",
          "WV",
          "WY",
          "norm"
         ],
         "name": "1988",
         "reversescale": false,
         "type": "choropleth",
         "z": [
          0,
          172052,
          17237,
          0,
          3853432,
          785489,
          5121,
          87297,
          0,
          12927,
          133637,
          30529,
          0,
          0,
          478126,
          0,
          1566786,
          2734939,
          222395,
          558410,
          181957,
          43173,
          295576,
          500,
          1509655,
          391079,
          8460637,
          0,
          1105887,
          2158033,
          78758,
          383,
          413607,
          47233,
          436128,
          1127326,
          12000,
          2072878,
          2274403,
          10585,
          385350,
          1914925,
          12351,
          23361,
          203606,
          0,
          53498,
          1820190,
          8353,
          155488,
          400,
          2211,
          52475,
          1197691,
          352585,
          0,
          1463539318.1099997
         ]
        },
        {
         "colorbar": {
          "title": {
           "text": "Pounds Released Per Year"
          }
         },
         "colorscale": [
          [
           0,
           "rgb(255,245,240)"
          ],
          [
           0.125,
           "rgb(254,224,210)"
          ],
          [
           0.25,
           "rgb(252,187,161)"
          ],
          [
           0.375,
           "rgb(252,146,114)"
          ],
          [
           0.5,
           "rgb(251,106,74)"
          ],
          [
           0.625,
           "rgb(239,59,44)"
          ],
          [
           0.75,
           "rgb(203,24,29)"
          ],
          [
           0.875,
           "rgb(165,15,21)"
          ],
          [
           1,
           "rgb(103,0,13)"
          ]
         ],
         "locationmode": "USA-states",
         "locations": [
          "AK",
          "AL",
          "AR",
          "AS",
          "AZ",
          "CA",
          "CO",
          "CT",
          "DC",
          "DE",
          "FL",
          "GA",
          "GU",
          "HI",
          "IA",
          "ID",
          "IL",
          "IN",
          "KS",
          "KY",
          "LA",
          "MA",
          "MD",
          "ME",
          "MI",
          "MN",
          "MO",
          "MP",
          "MS",
          "MT",
          "NC",
          "ND",
          "NE",
          "NH",
          "NJ",
          "NM",
          "NV",
          "NY",
          "OH",
          "OK",
          "OR",
          "PA",
          "PR",
          "RI",
          "SC",
          "SD",
          "TN",
          "TX",
          "UT",
          "VA",
          "VI",
          "VT",
          "WA",
          "WI",
          "WV",
          "WY",
          "norm"
         ],
         "name": "1989",
         "reversescale": false,
         "type": "choropleth",
         "z": [
          0,
          248464,
          27800,
          0,
          1422597,
          456363,
          1184,
          177565,
          0,
          13368,
          59116,
          108135,
          0,
          0,
          62584,
          0,
          1761406,
          2654942,
          802316,
          624836,
          251312,
          72345,
          51466,
          276,
          104833,
          261481,
          7046013,
          0,
          14282,
          3091305,
          172972,
          199,
          552268,
          130156,
          783835,
          72976,
          0,
          2588629,
          1901020,
          5711,
          57548,
          1959535,
          9054,
          52562,
          825552,
          0,
          73362,
          1133867,
          8955,
          260425,
          1110,
          1935,
          137584,
          2076117,
          28998,
          258,
          1463539318.1099997
         ]
        },
        {
         "colorbar": {
          "title": {
           "text": "Pounds Released Per Year"
          }
         },
         "colorscale": [
          [
           0,
           "rgb(255,245,240)"
          ],
          [
           0.125,
           "rgb(254,224,210)"
          ],
          [
           0.25,
           "rgb(252,187,161)"
          ],
          [
           0.375,
           "rgb(252,146,114)"
          ],
          [
           0.5,
           "rgb(251,106,74)"
          ],
          [
           0.625,
           "rgb(239,59,44)"
          ],
          [
           0.75,
           "rgb(203,24,29)"
          ],
          [
           0.875,
           "rgb(165,15,21)"
          ],
          [
           1,
           "rgb(103,0,13)"
          ]
         ],
         "locationmode": "USA-states",
         "locations": [
          "AK",
          "AL",
          "AR",
          "AS",
          "AZ",
          "CA",
          "CO",
          "CT",
          "DC",
          "DE",
          "FL",
          "GA",
          "GU",
          "HI",
          "IA",
          "ID",
          "IL",
          "IN",
          "KS",
          "KY",
          "LA",
          "MA",
          "MD",
          "ME",
          "MI",
          "MN",
          "MO",
          "MP",
          "MS",
          "MT",
          "NC",
          "ND",
          "NE",
          "NH",
          "NJ",
          "NM",
          "NV",
          "NY",
          "OH",
          "OK",
          "OR",
          "PA",
          "PR",
          "RI",
          "SC",
          "SD",
          "TN",
          "TX",
          "UT",
          "VA",
          "VI",
          "VT",
          "WA",
          "WI",
          "WV",
          "WY",
          "norm"
         ],
         "name": "1990",
         "reversescale": false,
         "type": "choropleth",
         "z": [
          0,
          323620,
          352908,
          0,
          2385789,
          805188,
          1127,
          222500,
          0,
          2728,
          47723,
          171332,
          0,
          0,
          84902,
          0,
          2304303,
          1923103,
          240745,
          508509,
          217148,
          76935,
          31899,
          453,
          241760,
          252355,
          5880675,
          0,
          8841,
          3112484,
          113441,
          42341,
          705606,
          44800,
          1376910,
          196369,
          5,
          1837667,
          1959752,
          32201,
          28037,
          2326851,
          220,
          24563,
          131793,
          0,
          83137,
          735019,
          30244887,
          162755,
          18162,
          2349,
          103451,
          141124,
          44476,
          884,
          1463539318.1099997
         ]
        },
        {
         "colorbar": {
          "title": {
           "text": "Pounds Released Per Year"
          }
         },
         "colorscale": [
          [
           0,
           "rgb(255,245,240)"
          ],
          [
           0.125,
           "rgb(254,224,210)"
          ],
          [
           0.25,
           "rgb(252,187,161)"
          ],
          [
           0.375,
           "rgb(252,146,114)"
          ],
          [
           0.5,
           "rgb(251,106,74)"
          ],
          [
           0.625,
           "rgb(239,59,44)"
          ],
          [
           0.75,
           "rgb(203,24,29)"
          ],
          [
           0.875,
           "rgb(165,15,21)"
          ],
          [
           1,
           "rgb(103,0,13)"
          ]
         ],
         "locationmode": "USA-states",
         "locations": [
          "AK",
          "AL",
          "AR",
          "AS",
          "AZ",
          "CA",
          "CO",
          "CT",
          "DC",
          "DE",
          "FL",
          "GA",
          "GU",
          "HI",
          "IA",
          "ID",
          "IL",
          "IN",
          "KS",
          "KY",
          "LA",
          "MA",
          "MD",
          "ME",
          "MI",
          "MN",
          "MO",
          "MP",
          "MS",
          "MT",
          "NC",
          "ND",
          "NE",
          "NH",
          "NJ",
          "NM",
          "NV",
          "NY",
          "OH",
          "OK",
          "OR",
          "PA",
          "PR",
          "RI",
          "SC",
          "SD",
          "TN",
          "TX",
          "UT",
          "VA",
          "VI",
          "VT",
          "WA",
          "WI",
          "WV",
          "WY",
          "norm"
         ],
         "name": "1991",
         "reversescale": false,
         "type": "choropleth",
         "z": [
          0,
          267718,
          144934,
          0,
          2939352,
          1457371,
          14786,
          195406,
          0,
          5618,
          411040,
          256445,
          0,
          0,
          125302,
          0,
          1007046,
          1442361,
          15673,
          204461,
          22309,
          119917,
          16613,
          25,
          388664,
          265948,
          5354336,
          0,
          61802,
          3033137,
          92738,
          3462,
          307042,
          7283,
          929397,
          580462,
          0,
          1352735,
          2654837,
          8432,
          2155,
          1770384,
          63925,
          102615,
          430189,
          0,
          180954,
          902857,
          1307381,
          117913,
          1300,
          3762,
          16802,
          694086,
          25806,
          0,
          1463539318.1099997
         ]
        },
        {
         "colorbar": {
          "title": {
           "text": "Pounds Released Per Year"
          }
         },
         "colorscale": [
          [
           0,
           "rgb(255,245,240)"
          ],
          [
           0.125,
           "rgb(254,224,210)"
          ],
          [
           0.25,
           "rgb(252,187,161)"
          ],
          [
           0.375,
           "rgb(252,146,114)"
          ],
          [
           0.5,
           "rgb(251,106,74)"
          ],
          [
           0.625,
           "rgb(239,59,44)"
          ],
          [
           0.75,
           "rgb(203,24,29)"
          ],
          [
           0.875,
           "rgb(165,15,21)"
          ],
          [
           1,
           "rgb(103,0,13)"
          ]
         ],
         "locationmode": "USA-states",
         "locations": [
          "AK",
          "AL",
          "AR",
          "AS",
          "AZ",
          "CA",
          "CO",
          "CT",
          "DC",
          "DE",
          "FL",
          "GA",
          "GU",
          "HI",
          "IA",
          "ID",
          "IL",
          "IN",
          "KS",
          "KY",
          "LA",
          "MA",
          "MD",
          "ME",
          "MI",
          "MN",
          "MO",
          "MP",
          "MS",
          "MT",
          "NC",
          "ND",
          "NE",
          "NH",
          "NJ",
          "NM",
          "NV",
          "NY",
          "OH",
          "OK",
          "OR",
          "PA",
          "PR",
          "RI",
          "SC",
          "SD",
          "TN",
          "TX",
          "UT",
          "VA",
          "VI",
          "VT",
          "WA",
          "WI",
          "WV",
          "WY",
          "norm"
         ],
         "name": "1992",
         "reversescale": false,
         "type": "choropleth",
         "z": [
          0,
          83875,
          14595,
          0,
          1267,
          4485,
          221,
          13843,
          0,
          0,
          0,
          2049,
          0,
          0,
          4826,
          0,
          40214,
          489592,
          5098,
          3361,
          305,
          5260,
          0,
          0,
          5460,
          2403,
          67836,
          0,
          5,
          0,
          6535,
          0,
          55700,
          0,
          64908,
          500,
          0,
          870896,
          636561,
          250,
          0,
          694951,
          0,
          15,
          69971,
          0,
          500,
          9364,
          0,
          1087,
          57181,
          0,
          500,
          255,
          0,
          0,
          1463539318.1099997
         ]
        },
        {
         "colorbar": {
          "title": {
           "text": "Pounds Released Per Year"
          }
         },
         "colorscale": [
          [
           0,
           "rgb(255,245,240)"
          ],
          [
           0.125,
           "rgb(254,224,210)"
          ],
          [
           0.25,
           "rgb(252,187,161)"
          ],
          [
           0.375,
           "rgb(252,146,114)"
          ],
          [
           0.5,
           "rgb(251,106,74)"
          ],
          [
           0.625,
           "rgb(239,59,44)"
          ],
          [
           0.75,
           "rgb(203,24,29)"
          ],
          [
           0.875,
           "rgb(165,15,21)"
          ],
          [
           1,
           "rgb(103,0,13)"
          ]
         ],
         "locationmode": "USA-states",
         "locations": [
          "AK",
          "AL",
          "AR",
          "AS",
          "AZ",
          "CA",
          "CO",
          "CT",
          "DC",
          "DE",
          "FL",
          "GA",
          "GU",
          "HI",
          "IA",
          "ID",
          "IL",
          "IN",
          "KS",
          "KY",
          "LA",
          "MA",
          "MD",
          "ME",
          "MI",
          "MN",
          "MO",
          "MP",
          "MS",
          "MT",
          "NC",
          "ND",
          "NE",
          "NH",
          "NJ",
          "NM",
          "NV",
          "NY",
          "OH",
          "OK",
          "OR",
          "PA",
          "PR",
          "RI",
          "SC",
          "SD",
          "TN",
          "TX",
          "UT",
          "VA",
          "VI",
          "VT",
          "WA",
          "WI",
          "WV",
          "WY",
          "norm"
         ],
         "name": "1993",
         "reversescale": false,
         "type": "choropleth",
         "z": [
          0,
          680458,
          358258,
          0,
          1050594,
          2376594,
          47248,
          341758,
          0,
          65796,
          589632,
          419380,
          0,
          0,
          122962,
          0,
          3021922,
          8695636,
          189500,
          199516,
          193610,
          215404,
          32228,
          20,
          348112,
          293716,
          5229182,
          0,
          64008,
          8192574,
          153840,
          644,
          1332852,
          9696,
          1174832,
          2707544,
          0,
          1715118,
          3297144,
          523196,
          5150,
          18025026,
          39190,
          84196,
          706018,
          0,
          457834,
          1537782,
          6703996,
          218918,
          950,
          2200,
          10192,
          777748,
          12120,
          0,
          1463539318.1099997
         ]
        },
        {
         "colorbar": {
          "title": {
           "text": "Pounds Released Per Year"
          }
         },
         "colorscale": [
          [
           0,
           "rgb(255,245,240)"
          ],
          [
           0.125,
           "rgb(254,224,210)"
          ],
          [
           0.25,
           "rgb(252,187,161)"
          ],
          [
           0.375,
           "rgb(252,146,114)"
          ],
          [
           0.5,
           "rgb(251,106,74)"
          ],
          [
           0.625,
           "rgb(239,59,44)"
          ],
          [
           0.75,
           "rgb(203,24,29)"
          ],
          [
           0.875,
           "rgb(165,15,21)"
          ],
          [
           1,
           "rgb(103,0,13)"
          ]
         ],
         "locationmode": "USA-states",
         "locations": [
          "AK",
          "AL",
          "AR",
          "AS",
          "AZ",
          "CA",
          "CO",
          "CT",
          "DC",
          "DE",
          "FL",
          "GA",
          "GU",
          "HI",
          "IA",
          "ID",
          "IL",
          "IN",
          "KS",
          "KY",
          "LA",
          "MA",
          "MD",
          "ME",
          "MI",
          "MN",
          "MO",
          "MP",
          "MS",
          "MT",
          "NC",
          "ND",
          "NE",
          "NH",
          "NJ",
          "NM",
          "NV",
          "NY",
          "OH",
          "OK",
          "OR",
          "PA",
          "PR",
          "RI",
          "SC",
          "SD",
          "TN",
          "TX",
          "UT",
          "VA",
          "VI",
          "VT",
          "WA",
          "WI",
          "WV",
          "WY",
          "norm"
         ],
         "name": "1994",
         "reversescale": false,
         "type": "choropleth",
         "z": [
          0,
          265382,
          613098,
          0,
          5468644,
          4278610,
          26946,
          258882,
          0,
          13936,
          533624,
          654334,
          0,
          0,
          167548,
          22268,
          3481158,
          5404856,
          181514,
          344712,
          355766,
          312344,
          25846,
          0,
          388306,
          208332,
          14006832,
          0,
          54112,
          9625382,
          100670,
          14518,
          2286362,
          14510,
          1180118,
          2562814,
          0,
          6883638,
          3731408,
          657796,
          6932,
          16456074,
          28812,
          126172,
          590194,
          50,
          407460,
          1793382,
          3439688,
          261072,
          0,
          400,
          8010,
          955878,
          127254,
          0,
          1463539318.1099997
         ]
        },
        {
         "colorbar": {
          "title": {
           "text": "Pounds Released Per Year"
          }
         },
         "colorscale": [
          [
           0,
           "rgb(255,245,240)"
          ],
          [
           0.125,
           "rgb(254,224,210)"
          ],
          [
           0.25,
           "rgb(252,187,161)"
          ],
          [
           0.375,
           "rgb(252,146,114)"
          ],
          [
           0.5,
           "rgb(251,106,74)"
          ],
          [
           0.625,
           "rgb(239,59,44)"
          ],
          [
           0.75,
           "rgb(203,24,29)"
          ],
          [
           0.875,
           "rgb(165,15,21)"
          ],
          [
           1,
           "rgb(103,0,13)"
          ]
         ],
         "locationmode": "USA-states",
         "locations": [
          "AK",
          "AL",
          "AR",
          "AS",
          "AZ",
          "CA",
          "CO",
          "CT",
          "DC",
          "DE",
          "FL",
          "GA",
          "GU",
          "HI",
          "IA",
          "ID",
          "IL",
          "IN",
          "KS",
          "KY",
          "LA",
          "MA",
          "MD",
          "ME",
          "MI",
          "MN",
          "MO",
          "MP",
          "MS",
          "MT",
          "NC",
          "ND",
          "NE",
          "NH",
          "NJ",
          "NM",
          "NV",
          "NY",
          "OH",
          "OK",
          "OR",
          "PA",
          "PR",
          "RI",
          "SC",
          "SD",
          "TN",
          "TX",
          "UT",
          "VA",
          "VI",
          "VT",
          "WA",
          "WI",
          "WV",
          "WY",
          "norm"
         ],
         "name": "1995",
         "reversescale": false,
         "type": "choropleth",
         "z": [
          0,
          529834,
          201732,
          0,
          7195952,
          5095312,
          10806,
          261070,
          0,
          149178,
          1009394,
          953188,
          0,
          0,
          174828,
          46134,
          3197538,
          5682802,
          290158,
          426236,
          368440,
          524116,
          26206,
          14,
          371048,
          254156,
          3971516,
          0,
          339490,
          8072454,
          137798,
          816,
          1961834,
          20244,
          704054,
          2390710,
          0,
          1906324,
          3683368,
          373556,
          2938,
          12809170,
          27116,
          209658,
          523122,
          50,
          482798,
          1778848,
          1865866,
          165264,
          0,
          3300,
          6920,
          600818,
          98628,
          0,
          1463539318.1099997
         ]
        },
        {
         "colorbar": {
          "title": {
           "text": "Pounds Released Per Year"
          }
         },
         "colorscale": [
          [
           0,
           "rgb(255,245,240)"
          ],
          [
           0.125,
           "rgb(254,224,210)"
          ],
          [
           0.25,
           "rgb(252,187,161)"
          ],
          [
           0.375,
           "rgb(252,146,114)"
          ],
          [
           0.5,
           "rgb(251,106,74)"
          ],
          [
           0.625,
           "rgb(239,59,44)"
          ],
          [
           0.75,
           "rgb(203,24,29)"
          ],
          [
           0.875,
           "rgb(165,15,21)"
          ],
          [
           1,
           "rgb(103,0,13)"
          ]
         ],
         "locationmode": "USA-states",
         "locations": [
          "AK",
          "AL",
          "AR",
          "AS",
          "AZ",
          "CA",
          "CO",
          "CT",
          "DC",
          "DE",
          "FL",
          "GA",
          "GU",
          "HI",
          "IA",
          "ID",
          "IL",
          "IN",
          "KS",
          "KY",
          "LA",
          "MA",
          "MD",
          "ME",
          "MI",
          "MN",
          "MO",
          "MP",
          "MS",
          "MT",
          "NC",
          "ND",
          "NE",
          "NH",
          "NJ",
          "NM",
          "NV",
          "NY",
          "OH",
          "OK",
          "OR",
          "PA",
          "PR",
          "RI",
          "SC",
          "SD",
          "TN",
          "TX",
          "UT",
          "VA",
          "VI",
          "VT",
          "WA",
          "WI",
          "WV",
          "WY",
          "norm"
         ],
         "name": "1996",
         "reversescale": false,
         "type": "choropleth",
         "z": [
          0,
          590012,
          440830,
          0,
          7383886,
          5321344,
          51086,
          190408,
          0,
          151904,
          1570022,
          2511742,
          0,
          0,
          208502,
          87570,
          3015584,
          5525314,
          566434,
          337192,
          309576,
          189082,
          34656,
          8,
          120930,
          222872,
          3981912,
          0,
          368898,
          7481620,
          546950,
          5170,
          1645846,
          26172,
          975446,
          1817896,
          0,
          1070646,
          4906130,
          370342,
          787186,
          10983162,
          30684,
          131164,
          1143028,
          50,
          2364660,
          1367136,
          2596210,
          234320,
          0,
          1192,
          13692,
          443510,
          158834,
          0,
          1463539318.1099997
         ]
        },
        {
         "colorbar": {
          "title": {
           "text": "Pounds Released Per Year"
          }
         },
         "colorscale": [
          [
           0,
           "rgb(255,245,240)"
          ],
          [
           0.125,
           "rgb(254,224,210)"
          ],
          [
           0.25,
           "rgb(252,187,161)"
          ],
          [
           0.375,
           "rgb(252,146,114)"
          ],
          [
           0.5,
           "rgb(251,106,74)"
          ],
          [
           0.625,
           "rgb(239,59,44)"
          ],
          [
           0.75,
           "rgb(203,24,29)"
          ],
          [
           0.875,
           "rgb(165,15,21)"
          ],
          [
           1,
           "rgb(103,0,13)"
          ]
         ],
         "locationmode": "USA-states",
         "locations": [
          "AK",
          "AL",
          "AR",
          "AS",
          "AZ",
          "CA",
          "CO",
          "CT",
          "DC",
          "DE",
          "FL",
          "GA",
          "GU",
          "HI",
          "IA",
          "ID",
          "IL",
          "IN",
          "KS",
          "KY",
          "LA",
          "MA",
          "MD",
          "ME",
          "MI",
          "MN",
          "MO",
          "MP",
          "MS",
          "MT",
          "NC",
          "ND",
          "NE",
          "NH",
          "NJ",
          "NM",
          "NV",
          "NY",
          "OH",
          "OK",
          "OR",
          "PA",
          "PR",
          "RI",
          "SC",
          "SD",
          "TN",
          "TX",
          "UT",
          "VA",
          "VI",
          "VT",
          "WA",
          "WI",
          "WV",
          "WY",
          "norm"
         ],
         "name": "1997",
         "reversescale": false,
         "type": "choropleth",
         "z": [
          0,
          859730,
          1117478,
          0,
          6559502,
          4892450,
          130358,
          80368,
          0,
          212230,
          1634429.2,
          3837412,
          0,
          0,
          508810,
          37672,
          4715104,
          7063086,
          350504,
          722350,
          230010,
          345396,
          49838,
          18,
          194526,
          312742,
          4414596,
          0,
          600158,
          7804696,
          646098,
          5836,
          11443504,
          33118,
          899348,
          1694954,
          0,
          2642890,
          4244016,
          505982,
          960180,
          8095360,
          9204,
          161644,
          1337932,
          50,
          1078998,
          3179512,
          10841398,
          373892,
          0,
          662,
          672956,
          1423452,
          214086,
          0,
          1463539318.1099997
         ]
        },
        {
         "colorbar": {
          "title": {
           "text": "Pounds Released Per Year"
          }
         },
         "colorscale": [
          [
           0,
           "rgb(255,245,240)"
          ],
          [
           0.125,
           "rgb(254,224,210)"
          ],
          [
           0.25,
           "rgb(252,187,161)"
          ],
          [
           0.375,
           "rgb(252,146,114)"
          ],
          [
           0.5,
           "rgb(251,106,74)"
          ],
          [
           0.625,
           "rgb(239,59,44)"
          ],
          [
           0.75,
           "rgb(203,24,29)"
          ],
          [
           0.875,
           "rgb(165,15,21)"
          ],
          [
           1,
           "rgb(103,0,13)"
          ]
         ],
         "locationmode": "USA-states",
         "locations": [
          "AK",
          "AL",
          "AR",
          "AS",
          "AZ",
          "CA",
          "CO",
          "CT",
          "DC",
          "DE",
          "FL",
          "GA",
          "GU",
          "HI",
          "IA",
          "ID",
          "IL",
          "IN",
          "KS",
          "KY",
          "LA",
          "MA",
          "MD",
          "ME",
          "MI",
          "MN",
          "MO",
          "MP",
          "MS",
          "MT",
          "NC",
          "ND",
          "NE",
          "NH",
          "NJ",
          "NM",
          "NV",
          "NY",
          "OH",
          "OK",
          "OR",
          "PA",
          "PR",
          "RI",
          "SC",
          "SD",
          "TN",
          "TX",
          "UT",
          "VA",
          "VI",
          "VT",
          "WA",
          "WI",
          "WV",
          "WY",
          "norm"
         ],
         "name": "1998",
         "reversescale": false,
         "type": "choropleth",
         "z": [
          165861954,
          8255730,
          722488,
          0,
          35142872,
          13763778.18,
          2208570,
          97444,
          0,
          269172,
          3560188,
          3288042,
          0,
          0,
          1296802,
          13809300,
          7937930,
          8669684,
          295236,
          1906762,
          774504,
          2829824,
          46564,
          0,
          4967784,
          742514,
          56431362,
          0,
          383332,
          31926014,
          436628,
          280648,
          756530,
          30934,
          1376412,
          13330770,
          120519194,
          7974204,
          7337846,
          3965838,
          1813532,
          15968092,
          9866,
          82372,
          2449606,
          40,
          2278834,
          5730282,
          18423502,
          612628.58,
          0,
          740,
          1171534,
          549320,
          993976,
          559710,
          1463539318.1099997
         ]
        },
        {
         "colorbar": {
          "title": {
           "text": "Pounds Released Per Year"
          }
         },
         "colorscale": [
          [
           0,
           "rgb(255,245,240)"
          ],
          [
           0.125,
           "rgb(254,224,210)"
          ],
          [
           0.25,
           "rgb(252,187,161)"
          ],
          [
           0.375,
           "rgb(252,146,114)"
          ],
          [
           0.5,
           "rgb(251,106,74)"
          ],
          [
           0.625,
           "rgb(239,59,44)"
          ],
          [
           0.75,
           "rgb(203,24,29)"
          ],
          [
           0.875,
           "rgb(165,15,21)"
          ],
          [
           1,
           "rgb(103,0,13)"
          ]
         ],
         "locationmode": "USA-states",
         "locations": [
          "AK",
          "AL",
          "AR",
          "AS",
          "AZ",
          "CA",
          "CO",
          "CT",
          "DC",
          "DE",
          "FL",
          "GA",
          "GU",
          "HI",
          "IA",
          "ID",
          "IL",
          "IN",
          "KS",
          "KY",
          "LA",
          "MA",
          "MD",
          "ME",
          "MI",
          "MN",
          "MO",
          "MP",
          "MS",
          "MT",
          "NC",
          "ND",
          "NE",
          "NH",
          "NJ",
          "NM",
          "NV",
          "NY",
          "OH",
          "OK",
          "OR",
          "PA",
          "PR",
          "RI",
          "SC",
          "SD",
          "TN",
          "TX",
          "UT",
          "VA",
          "VI",
          "VT",
          "WA",
          "WI",
          "WV",
          "WY",
          "norm"
         ],
         "name": "1999",
         "reversescale": false,
         "type": "choropleth",
         "z": [
          174621504,
          6956024,
          3100404,
          0,
          16646856,
          5819308.039999999,
          479520,
          83070,
          0,
          156292,
          987967.8,
          3127528,
          0,
          0,
          1739070,
          13183378,
          7494188,
          7796216,
          370146,
          2014760,
          1203556,
          1671122,
          37046,
          0,
          9372992,
          624398,
          60238194,
          0,
          509330,
          27837248,
          519478,
          279152,
          824330,
          12004,
          2160680,
          18505816,
          73736842,
          11284192,
          6980916,
          4904946,
          1664032,
          13132598,
          8266,
          43814,
          1376532,
          0,
          2719802,
          2159710,
          92043224,
          516960.56,
          0,
          4410,
          631882,
          564880,
          882406,
          882400,
          1463539318.1099997
         ]
        },
        {
         "colorbar": {
          "title": {
           "text": "Pounds Released Per Year"
          }
         },
         "colorscale": [
          [
           0,
           "rgb(255,245,240)"
          ],
          [
           0.125,
           "rgb(254,224,210)"
          ],
          [
           0.25,
           "rgb(252,187,161)"
          ],
          [
           0.375,
           "rgb(252,146,114)"
          ],
          [
           0.5,
           "rgb(251,106,74)"
          ],
          [
           0.625,
           "rgb(239,59,44)"
          ],
          [
           0.75,
           "rgb(203,24,29)"
          ],
          [
           0.875,
           "rgb(165,15,21)"
          ],
          [
           1,
           "rgb(103,0,13)"
          ]
         ],
         "locationmode": "USA-states",
         "locations": [
          "AK",
          "AL",
          "AR",
          "AS",
          "AZ",
          "CA",
          "CO",
          "CT",
          "DC",
          "DE",
          "FL",
          "GA",
          "GU",
          "HI",
          "IA",
          "ID",
          "IL",
          "IN",
          "KS",
          "KY",
          "LA",
          "MA",
          "MD",
          "ME",
          "MI",
          "MN",
          "MO",
          "MP",
          "MS",
          "MT",
          "NC",
          "ND",
          "NE",
          "NH",
          "NJ",
          "NM",
          "NV",
          "NY",
          "OH",
          "OK",
          "OR",
          "PA",
          "PR",
          "RI",
          "SC",
          "SD",
          "TN",
          "TX",
          "UT",
          "VA",
          "VI",
          "VT",
          "WA",
          "WI",
          "WV",
          "WY",
          "norm"
         ],
         "name": "2000",
         "reversescale": false,
         "type": "choropleth",
         "z": [
          273284228,
          4680938,
          5265154,
          0,
          5097578,
          8971011.56,
          822974,
          104594,
          0,
          101852,
          1214706,
          2622158,
          0,
          0,
          1872704,
          14580914,
          6800215.800000001,
          6823088,
          153312.40000000002,
          1884314.2400000002,
          619354,
          657331.72,
          82392,
          0,
          2209706,
          683511,
          55254900,
          0,
          922506,
          36543862,
          710142,
          332738,
          2826182,
          11146,
          1792442,
          20443412,
          116874144,
          1759408,
          7106786.199999999,
          945680,
          3331462,
          13240596,
          9532,
          45666,
          1560380,
          36406,
          2761308,
          2783568,
          46719202,
          485251.10000000003,
          0,
          6056,
          569100,
          582694,
          1028128,
          860554,
          1463539318.1099997
         ]
        },
        {
         "colorbar": {
          "title": {
           "text": "Pounds Released Per Year"
          }
         },
         "colorscale": [
          [
           0,
           "rgb(255,245,240)"
          ],
          [
           0.125,
           "rgb(254,224,210)"
          ],
          [
           0.25,
           "rgb(252,187,161)"
          ],
          [
           0.375,
           "rgb(252,146,114)"
          ],
          [
           0.5,
           "rgb(251,106,74)"
          ],
          [
           0.625,
           "rgb(239,59,44)"
          ],
          [
           0.75,
           "rgb(203,24,29)"
          ],
          [
           0.875,
           "rgb(165,15,21)"
          ],
          [
           1,
           "rgb(103,0,13)"
          ]
         ],
         "locationmode": "USA-states",
         "locations": [
          "AK",
          "AL",
          "AR",
          "AS",
          "AZ",
          "CA",
          "CO",
          "CT",
          "DC",
          "DE",
          "FL",
          "GA",
          "GU",
          "HI",
          "IA",
          "ID",
          "IL",
          "IN",
          "KS",
          "KY",
          "LA",
          "MA",
          "MD",
          "ME",
          "MI",
          "MN",
          "MO",
          "MP",
          "MS",
          "MT",
          "NC",
          "ND",
          "NE",
          "NH",
          "NJ",
          "NM",
          "NV",
          "NY",
          "OH",
          "OK",
          "OR",
          "PA",
          "PR",
          "RI",
          "SC",
          "SD",
          "TN",
          "TX",
          "UT",
          "VA",
          "VI",
          "VT",
          "WA",
          "WI",
          "WV",
          "WY",
          "norm"
         ],
         "name": "2001",
         "reversescale": false,
         "type": "choropleth",
         "z": [
          290358497.6000001,
          5103967.820000001,
          3394347.539999999,
          0,
          22877870.660000004,
          2158061.900000001,
          16381468.120000003,
          1424203.94,
          0,
          172348.68,
          1806367.6199999994,
          940824.14,
          254.60000000000002,
          18884,
          1738019.86,
          7426643.42,
          5906012.079999998,
          7719667.360000001,
          259092.34,
          2677356.8800000004,
          1415140.7400000002,
          668432.3800000001,
          392680.56,
          605512.5199999999,
          3427127.7799999984,
          975592.7999999996,
          63636759.90000001,
          9.6,
          815879.2399999998,
          24366575.720000003,
          1330169.5199999996,
          371638.69999999995,
          2617016.46,
          11193.940000000002,
          6631375.28,
          14514835.399999999,
          75961661.1,
          2347504.319999999,
          6853694.8,
          954225.8399999999,
          1741202.6000000003,
          10668716.060000002,
          34105.82,
          20107.94,
          2365281.6199999996,
          5972890.899999999,
          12968061.54,
          4916060.06,
          192611239.23999995,
          867689.1799999999,
          926,
          10230.58,
          699303.6599999999,
          829852.5000000003,
          1361590.8,
          694504.0399999999,
          1463539318.1099997
         ]
        },
        {
         "colorbar": {
          "title": {
           "text": "Pounds Released Per Year"
          }
         },
         "colorscale": [
          [
           0,
           "rgb(255,245,240)"
          ],
          [
           0.125,
           "rgb(254,224,210)"
          ],
          [
           0.25,
           "rgb(252,187,161)"
          ],
          [
           0.375,
           "rgb(252,146,114)"
          ],
          [
           0.5,
           "rgb(251,106,74)"
          ],
          [
           0.625,
           "rgb(239,59,44)"
          ],
          [
           0.75,
           "rgb(203,24,29)"
          ],
          [
           0.875,
           "rgb(165,15,21)"
          ],
          [
           1,
           "rgb(103,0,13)"
          ]
         ],
         "locationmode": "USA-states",
         "locations": [
          "AK",
          "AL",
          "AR",
          "AS",
          "AZ",
          "CA",
          "CO",
          "CT",
          "DC",
          "DE",
          "FL",
          "GA",
          "GU",
          "HI",
          "IA",
          "ID",
          "IL",
          "IN",
          "KS",
          "KY",
          "LA",
          "MA",
          "MD",
          "ME",
          "MI",
          "MN",
          "MO",
          "MP",
          "MS",
          "MT",
          "NC",
          "ND",
          "NE",
          "NH",
          "NJ",
          "NM",
          "NV",
          "NY",
          "OH",
          "OK",
          "OR",
          "PA",
          "PR",
          "RI",
          "SC",
          "SD",
          "TN",
          "TX",
          "UT",
          "VA",
          "VI",
          "VT",
          "WA",
          "WI",
          "WV",
          "WY",
          "norm"
         ],
         "name": "2002",
         "reversescale": false,
         "type": "choropleth",
         "z": [
          411397898.5,
          5815053.66,
          1506645.6400000001,
          0,
          23666154.48,
          9666246.739999998,
          11192189.72,
          11332046.120000005,
          0,
          173150.43999999997,
          1424184.4000000004,
          1401998.3000000003,
          224.20000000000002,
          16617.980000000003,
          2013049.1800000004,
          4901230.34,
          7662818.739999998,
          10947994.699999997,
          254714.22,
          1879384.3399999996,
          2204288.3000000003,
          374299.98,
          469061.10000000003,
          46120.85999999999,
          2209894.4,
          1384014.9999999998,
          51569828.620000005,
          6.8,
          837471.8,
          10958573.260000002,
          1807179.5400000005,
          585072.4599999998,
          3100921.58,
          9756.300000000003,
          2114609.66,
          3589322.2199999997,
          48526569.85999999,
          1594555.1199999996,
          9990116.360000003,
          643169.9600000002,
          2985428.5999999996,
          11404186.419999996,
          50901.6,
          15588.78,
          2235653.1399999997,
          9301891.88,
          3190226.479999999,
          4681124.739999998,
          105892875.87999998,
          884558.6399999999,
          1354,
          6813.02,
          590284.3800000002,
          686441.6800000002,
          1547202.4,
          289053.89999999997,
          1463539318.1099997
         ]
        },
        {
         "colorbar": {
          "title": {
           "text": "Pounds Released Per Year"
          }
         },
         "colorscale": [
          [
           0,
           "rgb(255,245,240)"
          ],
          [
           0.125,
           "rgb(254,224,210)"
          ],
          [
           0.25,
           "rgb(252,187,161)"
          ],
          [
           0.375,
           "rgb(252,146,114)"
          ],
          [
           0.5,
           "rgb(251,106,74)"
          ],
          [
           0.625,
           "rgb(239,59,44)"
          ],
          [
           0.75,
           "rgb(203,24,29)"
          ],
          [
           0.875,
           "rgb(165,15,21)"
          ],
          [
           1,
           "rgb(103,0,13)"
          ]
         ],
         "locationmode": "USA-states",
         "locations": [
          "AK",
          "AL",
          "AR",
          "AS",
          "AZ",
          "CA",
          "CO",
          "CT",
          "DC",
          "DE",
          "FL",
          "GA",
          "GU",
          "HI",
          "IA",
          "ID",
          "IL",
          "IN",
          "KS",
          "KY",
          "LA",
          "MA",
          "MD",
          "ME",
          "MI",
          "MN",
          "MO",
          "MP",
          "MS",
          "MT",
          "NC",
          "ND",
          "NE",
          "NH",
          "NJ",
          "NM",
          "NV",
          "NY",
          "OH",
          "OK",
          "OR",
          "PA",
          "PR",
          "RI",
          "SC",
          "SD",
          "TN",
          "TX",
          "UT",
          "VA",
          "VI",
          "VT",
          "WA",
          "WI",
          "WV",
          "WY",
          "norm"
         ],
         "name": "2003",
         "reversescale": false,
         "type": "choropleth",
         "z": [
          359410074.98,
          4834123.540000001,
          1269171.8400000003,
          0,
          9848998.84,
          15827386.540000001,
          10911464.18,
          405651.1400000001,
          0,
          182846.20000000004,
          1030950.0800000004,
          1076220.8999999997,
          384.64,
          18940.579999999998,
          1896094,
          6568686.920000001,
          6008909.679999997,
          11386855.699999997,
          360999.4999999998,
          2091276.7800000003,
          2765597.680000002,
          589936.9800000003,
          375397.3199999999,
          52200.84000000001,
          1828605.4400000004,
          1479241.28,
          50299415.65999998,
          6.5,
          977171.2799999999,
          32046336.740000002,
          1877790.1999999995,
          278615.98,
          3027737.7599999993,
          43601.14000000001,
          1482419.2800000003,
          4336580.48,
          75035667.68,
          1896598.160000001,
          6981232.160000002,
          597073.24,
          1917835.58,
          9780870.099999994,
          45169.09999999999,
          31614.519999999997,
          2354740.640000002,
          6595999.26,
          13617369.58,
          5040041.6599999955,
          176099898.71999994,
          898782.5199999999,
          1082,
          16260.919999999998,
          625316.8400000001,
          922868.9800000001,
          1496405.8400000005,
          275860.79999999993,
          1463539318.1099997
         ]
        },
        {
         "colorbar": {
          "title": {
           "text": "Pounds Released Per Year"
          }
         },
         "colorscale": [
          [
           0,
           "rgb(255,245,240)"
          ],
          [
           0.125,
           "rgb(254,224,210)"
          ],
          [
           0.25,
           "rgb(252,187,161)"
          ],
          [
           0.375,
           "rgb(252,146,114)"
          ],
          [
           0.5,
           "rgb(251,106,74)"
          ],
          [
           0.625,
           "rgb(239,59,44)"
          ],
          [
           0.75,
           "rgb(203,24,29)"
          ],
          [
           0.875,
           "rgb(165,15,21)"
          ],
          [
           1,
           "rgb(103,0,13)"
          ]
         ],
         "locationmode": "USA-states",
         "locations": [
          "AK",
          "AL",
          "AR",
          "AS",
          "AZ",
          "CA",
          "CO",
          "CT",
          "DC",
          "DE",
          "FL",
          "GA",
          "GU",
          "HI",
          "IA",
          "ID",
          "IL",
          "IN",
          "KS",
          "KY",
          "LA",
          "MA",
          "MD",
          "ME",
          "MI",
          "MN",
          "MO",
          "MP",
          "MS",
          "MT",
          "NC",
          "ND",
          "NE",
          "NH",
          "NJ",
          "NM",
          "NV",
          "NY",
          "OH",
          "OK",
          "OR",
          "PA",
          "PR",
          "RI",
          "SC",
          "SD",
          "TN",
          "TX",
          "UT",
          "VA",
          "VI",
          "VT",
          "WA",
          "WI",
          "WV",
          "WY",
          "norm"
         ],
         "name": "2004",
         "reversescale": false,
         "type": "choropleth",
         "z": [
          299292066.9,
          5901019.220000001,
          1650376.9799999997,
          0,
          11792853.24,
          10483827.760000004,
          13625695.73999999,
          305983.2,
          0,
          187808.34,
          985735.1599999999,
          1151037.78,
          259.74,
          10922.399999999998,
          1955809.1199999996,
          7420319.239999998,
          6151391.880000004,
          12259055.080000004,
          401676.24000000005,
          2016732.0000000002,
          2308097.3800000004,
          755229.6400000006,
          651090.1399999999,
          53095.999999999985,
          1708278.4800000002,
          843892.8799999997,
          58172639.22,
          4.6,
          883712.2400000002,
          30092135.399999995,
          2012955.1200000006,
          284661.80000000005,
          2862763.98,
          115145.82000000002,
          1486559.4600000002,
          1623281.2799999996,
          211365675.38,
          1898963.0000000002,
          5451911.860000003,
          907673.9400000001,
          829664.1999999998,
          9725086.339999998,
          33627.159999999996,
          9349.96,
          1161553.8000000003,
          2898581.92,
          17688920.380000018,
          5400160.540000001,
          121574032.34000002,
          873272.7200000002,
          778,
          19914.32,
          7211508.179999999,
          1060982.5399999993,
          1835203.8799999997,
          236801.56,
          1463539318.1099997
         ]
        },
        {
         "colorbar": {
          "title": {
           "text": "Pounds Released Per Year"
          }
         },
         "colorscale": [
          [
           0,
           "rgb(255,245,240)"
          ],
          [
           0.125,
           "rgb(254,224,210)"
          ],
          [
           0.25,
           "rgb(252,187,161)"
          ],
          [
           0.375,
           "rgb(252,146,114)"
          ],
          [
           0.5,
           "rgb(251,106,74)"
          ],
          [
           0.625,
           "rgb(239,59,44)"
          ],
          [
           0.75,
           "rgb(203,24,29)"
          ],
          [
           0.875,
           "rgb(165,15,21)"
          ],
          [
           1,
           "rgb(103,0,13)"
          ]
         ],
         "locationmode": "USA-states",
         "locations": [
          "AK",
          "AL",
          "AR",
          "AS",
          "AZ",
          "CA",
          "CO",
          "CT",
          "DC",
          "DE",
          "FL",
          "GA",
          "GU",
          "HI",
          "IA",
          "ID",
          "IL",
          "IN",
          "KS",
          "KY",
          "LA",
          "MA",
          "MD",
          "ME",
          "MI",
          "MN",
          "MO",
          "MP",
          "MS",
          "MT",
          "NC",
          "ND",
          "NE",
          "NH",
          "NJ",
          "NM",
          "NV",
          "NY",
          "OH",
          "OK",
          "OR",
          "PA",
          "PR",
          "RI",
          "SC",
          "SD",
          "TN",
          "TX",
          "UT",
          "VA",
          "VI",
          "VT",
          "WA",
          "WI",
          "WV",
          "WY",
          "norm"
         ],
         "name": "2005",
         "reversescale": false,
         "type": "choropleth",
         "z": [
          395759180.14000005,
          5823271.540000001,
          2020156.380000002,
          0,
          12920833.739999998,
          9406760.78,
          12409852.74,
          536097.0599999997,
          0,
          218800.43999999997,
          960724.3999999996,
          1153856.1399999994,
          352.72,
          10337.6,
          2010077.6599999997,
          10118335.959999999,
          4893629.040000001,
          13907798.759999998,
          854594.7400000002,
          1984998.64,
          3115094.1400000006,
          215757.35999999996,
          529049.24,
          42375.619999999995,
          1898135.560000001,
          866599.7399999999,
          74171670.54,
          4.8,
          704144.5399999997,
          25243438.8,
          1876928.9400000004,
          268245.24,
          2337300.0799999996,
          74673.90000000001,
          1015673.4199999999,
          7593352.62,
          173177636.40000004,
          7219385.660000002,
          10702165.439999994,
          1049360.4400000002,
          1207066.44,
          6948338.719999993,
          32282.28,
          7692.019999999999,
          1575665.1800000006,
          2088061.2199999995,
          12646072.86,
          4624254.779999999,
          89757898.24000001,
          1103844.98,
          582,
          3967.7799999999997,
          9563952.359999992,
          907601.0599999995,
          1629758.4200000004,
          221093.6,
          1463539318.1099997
         ]
        },
        {
         "colorbar": {
          "title": {
           "text": "Pounds Released Per Year"
          }
         },
         "colorscale": [
          [
           0,
           "rgb(255,245,240)"
          ],
          [
           0.125,
           "rgb(254,224,210)"
          ],
          [
           0.25,
           "rgb(252,187,161)"
          ],
          [
           0.375,
           "rgb(252,146,114)"
          ],
          [
           0.5,
           "rgb(251,106,74)"
          ],
          [
           0.625,
           "rgb(239,59,44)"
          ],
          [
           0.75,
           "rgb(203,24,29)"
          ],
          [
           0.875,
           "rgb(165,15,21)"
          ],
          [
           1,
           "rgb(103,0,13)"
          ]
         ],
         "locationmode": "USA-states",
         "locations": [
          "AK",
          "AL",
          "AR",
          "AS",
          "AZ",
          "CA",
          "CO",
          "CT",
          "DC",
          "DE",
          "FL",
          "GA",
          "GU",
          "HI",
          "IA",
          "ID",
          "IL",
          "IN",
          "KS",
          "KY",
          "LA",
          "MA",
          "MD",
          "ME",
          "MI",
          "MN",
          "MO",
          "MP",
          "MS",
          "MT",
          "NC",
          "ND",
          "NE",
          "NH",
          "NJ",
          "NM",
          "NV",
          "NY",
          "OH",
          "OK",
          "OR",
          "PA",
          "PR",
          "RI",
          "SC",
          "SD",
          "TN",
          "TX",
          "UT",
          "VA",
          "VI",
          "VT",
          "WA",
          "WI",
          "WV",
          "WY",
          "norm"
         ],
         "name": "2006",
         "reversescale": false,
         "type": "choropleth",
         "z": [
          479686705.65999997,
          5183197.440000001,
          2789948.7800000003,
          0,
          32135794.759999994,
          5889276.340000002,
          12331422.799999997,
          1006161.4199999997,
          0,
          178880.40000000002,
          1273181.0800000005,
          1120023.4400000002,
          376.1,
          11587.500000000004,
          2281352.92,
          6720255.86,
          4977802.9399999995,
          13662004.980000015,
          338298.16,
          1862712.2000000004,
          2609415.979999999,
          299960.4200000002,
          390781.54000000004,
          32665.199999999993,
          1625794.1200000003,
          845905.04,
          74704642.42000003,
          3.9,
          817715.8999999999,
          11010183.639999999,
          2151732.159999999,
          307727.8,
          3054981.66,
          30049.760000000002,
          856447.6600000003,
          14121923.139999999,
          110224269.66000001,
          1029375.5799999998,
          4837847.400000001,
          1041052.26,
          1573152.4000000006,
          7486097.439999999,
          38097.32,
          20090.420000000002,
          1389432.36,
          1162495.7000000002,
          13422574.079999998,
          4314266.140000001,
          105386436.97999999,
          1931932.06,
          638,
          1540.8999999999999,
          9845767.019999998,
          1000379.8000000006,
          1574389.3599999996,
          186955.37999999995,
          1463539318.1099997
         ]
        },
        {
         "colorbar": {
          "title": {
           "text": "Pounds Released Per Year"
          }
         },
         "colorscale": [
          [
           0,
           "rgb(255,245,240)"
          ],
          [
           0.125,
           "rgb(254,224,210)"
          ],
          [
           0.25,
           "rgb(252,187,161)"
          ],
          [
           0.375,
           "rgb(252,146,114)"
          ],
          [
           0.5,
           "rgb(251,106,74)"
          ],
          [
           0.625,
           "rgb(239,59,44)"
          ],
          [
           0.75,
           "rgb(203,24,29)"
          ],
          [
           0.875,
           "rgb(165,15,21)"
          ],
          [
           1,
           "rgb(103,0,13)"
          ]
         ],
         "locationmode": "USA-states",
         "locations": [
          "AK",
          "AL",
          "AR",
          "AS",
          "AZ",
          "CA",
          "CO",
          "CT",
          "DC",
          "DE",
          "FL",
          "GA",
          "GU",
          "HI",
          "IA",
          "ID",
          "IL",
          "IN",
          "KS",
          "KY",
          "LA",
          "MA",
          "MD",
          "ME",
          "MI",
          "MN",
          "MO",
          "MP",
          "MS",
          "MT",
          "NC",
          "ND",
          "NE",
          "NH",
          "NJ",
          "NM",
          "NV",
          "NY",
          "OH",
          "OK",
          "OR",
          "PA",
          "PR",
          "RI",
          "SC",
          "SD",
          "TN",
          "TX",
          "UT",
          "VA",
          "VI",
          "VT",
          "WA",
          "WI",
          "WV",
          "WY",
          "norm"
         ],
         "name": "2007",
         "reversescale": false,
         "type": "choropleth",
         "z": [
          459517880.8999999,
          4818561.160000001,
          2465569.5399999996,
          0,
          35683412.01999999,
          19822829.619999997,
          13169449.879999999,
          108669.72000000002,
          0,
          254080.16,
          2042741.56,
          1462586.16,
          402.67999999999995,
          9547.52,
          2274790.400000001,
          14265016.380000003,
          5639858.600000002,
          13923805.780000007,
          328972.6400000001,
          1905740.36,
          2333186.4000000004,
          570489.3200000003,
          577716.0400000002,
          81667.92,
          1645346.2199999995,
          989587.9000000003,
          60601746.760000005,
          4.48,
          860296.8800000001,
          18441528.82,
          2011434.2600000014,
          259102.70000000004,
          2900575.38,
          38125.06,
          993772.4400000002,
          14718824.960000003,
          106125107.34,
          2746320.62,
          9099513.639999995,
          1428491.5399999998,
          1285811.0200000003,
          7309487.980000004,
          44211.28,
          42742.12,
          1370384.44,
          4156300.3200000003,
          21094530.039999995,
          4607800.559999999,
          118900700.64000005,
          1578100.8599999999,
          620,
          1264.6,
          5475507.220000002,
          853344.6599999997,
          1565763.02,
          198450.82,
          1463539318.1099997
         ]
        },
        {
         "colorbar": {
          "title": {
           "text": "Pounds Released Per Year"
          }
         },
         "colorscale": [
          [
           0,
           "rgb(255,245,240)"
          ],
          [
           0.125,
           "rgb(254,224,210)"
          ],
          [
           0.25,
           "rgb(252,187,161)"
          ],
          [
           0.375,
           "rgb(252,146,114)"
          ],
          [
           0.5,
           "rgb(251,106,74)"
          ],
          [
           0.625,
           "rgb(239,59,44)"
          ],
          [
           0.75,
           "rgb(203,24,29)"
          ],
          [
           0.875,
           "rgb(165,15,21)"
          ],
          [
           1,
           "rgb(103,0,13)"
          ]
         ],
         "locationmode": "USA-states",
         "locations": [
          "AK",
          "AL",
          "AR",
          "AS",
          "AZ",
          "CA",
          "CO",
          "CT",
          "DC",
          "DE",
          "FL",
          "GA",
          "GU",
          "HI",
          "IA",
          "ID",
          "IL",
          "IN",
          "KS",
          "KY",
          "LA",
          "MA",
          "MD",
          "ME",
          "MI",
          "MN",
          "MO",
          "MP",
          "MS",
          "MT",
          "NC",
          "ND",
          "NE",
          "NH",
          "NJ",
          "NM",
          "NV",
          "NY",
          "OH",
          "OK",
          "OR",
          "PA",
          "PR",
          "RI",
          "SC",
          "SD",
          "TN",
          "TX",
          "UT",
          "VA",
          "VI",
          "VT",
          "WA",
          "WI",
          "WV",
          "WY",
          "norm"
         ],
         "name": "2008",
         "reversescale": false,
         "type": "choropleth",
         "z": [
          400965972.29999995,
          4866954.980000001,
          748674.0799999998,
          0,
          34547445.94000001,
          16146693.780000001,
          11910390.879999999,
          574082.96,
          0,
          147205.32,
          878575.38,
          1184653.1600000001,
          440.12,
          12823.680000000002,
          2202162.9000000004,
          11145135.819999998,
          4590125.820000002,
          14664294.700000001,
          336590.0999999999,
          2546349.8000000007,
          3138839.7800000007,
          421545.56000000023,
          690584.1200000001,
          96519.72000000002,
          1445618.06,
          914489.72,
          53948036.50000003,
          6.04,
          798203.4000000004,
          15442438.539999997,
          1994207.8000000014,
          249232.46,
          1587695.2400000002,
          16429.000000000004,
          533383.9999999999,
          17332868.659999996,
          178583635.2,
          963202.6199999998,
          4671879.359999995,
          2366831.540000001,
          1085599.0000000002,
          8334443.820000002,
          33751.7,
          77456.85999999999,
          1897931.2600000002,
          4200797.12,
          12320507.079999994,
          4477045.6400000015,
          112354937.34000002,
          1583614.7399999998,
          540,
          1258.3,
          6157673.139999998,
          689913.1800000002,
          1614421.1800000002,
          225172.45999999993,
          1463539318.1099997
         ]
        },
        {
         "colorbar": {
          "title": {
           "text": "Pounds Released Per Year"
          }
         },
         "colorscale": [
          [
           0,
           "rgb(255,245,240)"
          ],
          [
           0.125,
           "rgb(254,224,210)"
          ],
          [
           0.25,
           "rgb(252,187,161)"
          ],
          [
           0.375,
           "rgb(252,146,114)"
          ],
          [
           0.5,
           "rgb(251,106,74)"
          ],
          [
           0.625,
           "rgb(239,59,44)"
          ],
          [
           0.75,
           "rgb(203,24,29)"
          ],
          [
           0.875,
           "rgb(165,15,21)"
          ],
          [
           1,
           "rgb(103,0,13)"
          ]
         ],
         "locationmode": "USA-states",
         "locations": [
          "AK",
          "AL",
          "AR",
          "AS",
          "AZ",
          "CA",
          "CO",
          "CT",
          "DC",
          "DE",
          "FL",
          "GA",
          "GU",
          "HI",
          "IA",
          "ID",
          "IL",
          "IN",
          "KS",
          "KY",
          "LA",
          "MA",
          "MD",
          "ME",
          "MI",
          "MN",
          "MO",
          "MP",
          "MS",
          "MT",
          "NC",
          "ND",
          "NE",
          "NH",
          "NJ",
          "NM",
          "NV",
          "NY",
          "OH",
          "OK",
          "OR",
          "PA",
          "PR",
          "RI",
          "SC",
          "SD",
          "TN",
          "TX",
          "UT",
          "VA",
          "VI",
          "VT",
          "WA",
          "WI",
          "WV",
          "WY",
          "norm"
         ],
         "name": "2009",
         "reversescale": false,
         "type": "choropleth",
         "z": [
          413881760.18000007,
          2631210.900000001,
          1051220.68,
          0,
          18200842.400000006,
          13458650.520000007,
          10478752.940000001,
          171846.48,
          0,
          128565.28,
          1987596.6800000002,
          995857.9600000001,
          522.1,
          14526.64,
          1462517.2000000002,
          12242726.179999998,
          2901183.0599999996,
          10788295.820000002,
          275830.75999999995,
          2883269.04,
          2672267.660000001,
          411073.07999999996,
          549530.3200000002,
          107912.65999999999,
          981345.4800000007,
          1109852.8000000003,
          44584369.21999999,
          5.44,
          1137494.5200000005,
          17242521.08,
          1841383.1199999996,
          204032.98,
          1442699.3400000003,
          18386.72,
          715777.7400000002,
          8375967.179999999,
          77019459.72,
          671157.72,
          3663056.120000002,
          1204070.3199999996,
          533019.1200000002,
          8388631.499999996,
          14669.279999999999,
          35050.36,
          1415862.9000000004,
          3071467.92,
          11609074.540000001,
          3531081.1999999993,
          55445953.9,
          1330802.4600000007,
          280,
          565.6800000000001,
          1319144.0600000008,
          601086.0799999998,
          953908.8600000002,
          231334.98,
          1463539318.1099997
         ]
        },
        {
         "colorbar": {
          "title": {
           "text": "Pounds Released Per Year"
          }
         },
         "colorscale": [
          [
           0,
           "rgb(255,245,240)"
          ],
          [
           0.125,
           "rgb(254,224,210)"
          ],
          [
           0.25,
           "rgb(252,187,161)"
          ],
          [
           0.375,
           "rgb(252,146,114)"
          ],
          [
           0.5,
           "rgb(251,106,74)"
          ],
          [
           0.625,
           "rgb(239,59,44)"
          ],
          [
           0.75,
           "rgb(203,24,29)"
          ],
          [
           0.875,
           "rgb(165,15,21)"
          ],
          [
           1,
           "rgb(103,0,13)"
          ]
         ],
         "locationmode": "USA-states",
         "locations": [
          "AK",
          "AL",
          "AR",
          "AS",
          "AZ",
          "CA",
          "CO",
          "CT",
          "DC",
          "DE",
          "FL",
          "GA",
          "GU",
          "HI",
          "IA",
          "ID",
          "IL",
          "IN",
          "KS",
          "KY",
          "LA",
          "MA",
          "MD",
          "ME",
          "MI",
          "MN",
          "MO",
          "MP",
          "MS",
          "MT",
          "NC",
          "ND",
          "NE",
          "NH",
          "NJ",
          "NM",
          "NV",
          "NY",
          "OH",
          "OK",
          "OR",
          "PA",
          "PR",
          "RI",
          "SC",
          "SD",
          "TN",
          "TX",
          "UT",
          "VA",
          "VI",
          "VT",
          "WA",
          "WI",
          "WV",
          "WY",
          "norm"
         ],
         "name": "2010",
         "reversescale": false,
         "type": "choropleth",
         "z": [
          672958156.8000001,
          2262589.66,
          681766.8599999998,
          0,
          25507900.4,
          9139579.639999995,
          10924476.4,
          100230.60000000003,
          0,
          106626.99999999999,
          2174707.7,
          1001093.54,
          581.6399999999999,
          11492.779999999999,
          443684.6600000001,
          13048024.96,
          3812530.78,
          11352204.5,
          286917.73999999993,
          2930759.220000001,
          2215967.940000001,
          108542.91999999998,
          458275.07999999996,
          103397.80000000002,
          1098793.5200000003,
          771342.4199999999,
          45588709.819999985,
          4.82,
          663711.02,
          12041449.100000001,
          1972008.58,
          221984.03999999998,
          791168.6200000002,
          11296.880000000003,
          876233.9999999997,
          5975759.179999999,
          129480429.92000002,
          1666584.7200000004,
          4126143.6800000006,
          1449596.6400000004,
          590455.7200000001,
          14006317.579999994,
          15171.820000000002,
          51512.359999999986,
          1122354.76,
          1665176.18,
          9537128.659999996,
          4316291.7200000025,
          133495614.16000001,
          1517209.0799999998,
          402,
          56.579999999999984,
          543743.44,
          744898.9400000004,
          2312877.06,
          257219.32,
          1463539318.1099997
         ]
        },
        {
         "colorbar": {
          "title": {
           "text": "Pounds Released Per Year"
          }
         },
         "colorscale": [
          [
           0,
           "rgb(255,245,240)"
          ],
          [
           0.125,
           "rgb(254,224,210)"
          ],
          [
           0.25,
           "rgb(252,187,161)"
          ],
          [
           0.375,
           "rgb(252,146,114)"
          ],
          [
           0.5,
           "rgb(251,106,74)"
          ],
          [
           0.625,
           "rgb(239,59,44)"
          ],
          [
           0.75,
           "rgb(203,24,29)"
          ],
          [
           0.875,
           "rgb(165,15,21)"
          ],
          [
           1,
           "rgb(103,0,13)"
          ]
         ],
         "locationmode": "USA-states",
         "locations": [
          "AK",
          "AL",
          "AR",
          "AS",
          "AZ",
          "CA",
          "CO",
          "CT",
          "DC",
          "DE",
          "FL",
          "GA",
          "GU",
          "HI",
          "IA",
          "ID",
          "IL",
          "IN",
          "KS",
          "KY",
          "LA",
          "MA",
          "MD",
          "ME",
          "MI",
          "MN",
          "MO",
          "MP",
          "MS",
          "MT",
          "NC",
          "ND",
          "NE",
          "NH",
          "NJ",
          "NM",
          "NV",
          "NY",
          "OH",
          "OK",
          "OR",
          "PA",
          "PR",
          "RI",
          "SC",
          "SD",
          "TN",
          "TX",
          "UT",
          "VA",
          "VI",
          "VT",
          "WA",
          "WI",
          "WV",
          "WY",
          "norm"
         ],
         "name": "2011",
         "reversescale": false,
         "type": "choropleth",
         "z": [
          1463539318.1099997,
          2804521.0200000005,
          1343077.83,
          0,
          47819298.47999999,
          15297375.54,
          16936286.76000001,
          108201.59999999999,
          0,
          91857.3,
          3271335.510000002,
          2059266.359999999,
          662.25,
          12262.589999999998,
          696588.7499999999,
          20007782.639999997,
          5875634.129999996,
          14215543.799999999,
          423514.80000000005,
          3801984.389999999,
          3101592.18,
          141608.13000000003,
          537658.59,
          173378.39999999997,
          2294008.4699999997,
          2376793.2600000002,
          68331326.57999998,
          6.99,
          1207886.0100000007,
          15287313.42,
          2812036.4399999995,
          339305.49000000005,
          1496185.9199999997,
          15150.75,
          392285.04000000004,
          12687311.219999999,
          336484366.04999983,
          3195647.850000002,
          7289891.099999992,
          2951418.869999999,
          920873.8200000001,
          13313483.57999999,
          43162.73999999999,
          13541.790000000003,
          1325814.9000000001,
          1719514.2600000002,
          11182390.859999998,
          6727574.0399999935,
          197858975.25000006,
          1931486.6399999994,
          345,
          2600.25,
          856283.8500000001,
          1226514.0900000005,
          1864111.7699999998,
          247788.96000000002,
          1463539318.1099997
         ]
        },
        {
         "colorbar": {
          "title": {
           "text": "Pounds Released Per Year"
          }
         },
         "colorscale": [
          [
           0,
           "rgb(255,245,240)"
          ],
          [
           0.125,
           "rgb(254,224,210)"
          ],
          [
           0.25,
           "rgb(252,187,161)"
          ],
          [
           0.375,
           "rgb(252,146,114)"
          ],
          [
           0.5,
           "rgb(251,106,74)"
          ],
          [
           0.625,
           "rgb(239,59,44)"
          ],
          [
           0.75,
           "rgb(203,24,29)"
          ],
          [
           0.875,
           "rgb(165,15,21)"
          ],
          [
           1,
           "rgb(103,0,13)"
          ]
         ],
         "locationmode": "USA-states",
         "locations": [
          "AK",
          "AL",
          "AR",
          "AS",
          "AZ",
          "CA",
          "CO",
          "CT",
          "DC",
          "DE",
          "FL",
          "GA",
          "GU",
          "HI",
          "IA",
          "ID",
          "IL",
          "IN",
          "KS",
          "KY",
          "LA",
          "MA",
          "MD",
          "ME",
          "MI",
          "MN",
          "MO",
          "MP",
          "MS",
          "MT",
          "NC",
          "ND",
          "NE",
          "NH",
          "NJ",
          "NM",
          "NV",
          "NY",
          "OH",
          "OK",
          "OR",
          "PA",
          "PR",
          "RI",
          "SC",
          "SD",
          "TN",
          "TX",
          "UT",
          "VA",
          "VI",
          "VT",
          "WA",
          "WI",
          "WV",
          "WY",
          "norm"
         ],
         "name": "2012",
         "reversescale": false,
         "type": "choropleth",
         "z": [
          954375014.3700002,
          3054700.2600000002,
          653765.1000000003,
          0,
          45659089.379999995,
          17170524.119999982,
          26494415.78999998,
          127254.60000000003,
          152.73,
          119718.69,
          2858899.29,
          1428033.6599999997,
          598.68,
          11956.079999999998,
          644341.7999999999,
          5853981.81,
          5598247.109999998,
          13690791.330000002,
          273750.44999999995,
          3869375.5499999993,
          2599588.5900000003,
          223490.94,
          490094.6100000002,
          127105.95,
          1685090.8500000003,
          2514239.4600000004,
          67726627.38000003,
          3.18,
          866836.1999999997,
          15098101.889999995,
          2519940.9899999998,
          391360.23000000004,
          1459595.97,
          23789.190000000002,
          1872504.6000000003,
          31293525.24000001,
          218819955.77999988,
          1870830.7800000003,
          5074112.039999998,
          1727094.2399999998,
          6981399.570000006,
          14104671.659999987,
          31175.699999999993,
          22314.539999999997,
          939390.3899999992,
          2484975.3299999996,
          8856162.509999998,
          6317686.649999993,
          330190904.91,
          1707790.6200000006,
          78,
          3403.3199999999993,
          818932.7399999999,
          952229.5200000001,
          1760236.9799999997,
          244195.58999999997,
          1463539318.1099997
         ]
        },
        {
         "colorbar": {
          "title": {
           "text": "Pounds Released Per Year"
          }
         },
         "colorscale": [
          [
           0,
           "rgb(255,245,240)"
          ],
          [
           0.125,
           "rgb(254,224,210)"
          ],
          [
           0.25,
           "rgb(252,187,161)"
          ],
          [
           0.375,
           "rgb(252,146,114)"
          ],
          [
           0.5,
           "rgb(251,106,74)"
          ],
          [
           0.625,
           "rgb(239,59,44)"
          ],
          [
           0.75,
           "rgb(203,24,29)"
          ],
          [
           0.875,
           "rgb(165,15,21)"
          ],
          [
           1,
           "rgb(103,0,13)"
          ]
         ],
         "locationmode": "USA-states",
         "locations": [
          "AK",
          "AL",
          "AR",
          "AS",
          "AZ",
          "CA",
          "CO",
          "CT",
          "DC",
          "DE",
          "FL",
          "GA",
          "GU",
          "HI",
          "IA",
          "ID",
          "IL",
          "IN",
          "KS",
          "KY",
          "LA",
          "MA",
          "MD",
          "ME",
          "MI",
          "MN",
          "MO",
          "MP",
          "MS",
          "MT",
          "NC",
          "ND",
          "NE",
          "NH",
          "NJ",
          "NM",
          "NV",
          "NY",
          "OH",
          "OK",
          "OR",
          "PA",
          "PR",
          "RI",
          "SC",
          "SD",
          "TN",
          "TX",
          "UT",
          "VA",
          "VI",
          "VT",
          "WA",
          "WI",
          "WV",
          "WY",
          "norm"
         ],
         "name": "2013",
         "reversescale": false,
         "type": "choropleth",
         "z": [
          1166933016.3,
          3695871.3000000003,
          647036.1900000006,
          0,
          40535940.45000001,
          13004949.689999996,
          25711031.939999994,
          102921.20999999999,
          99.72,
          90363.57,
          3160454.1299999994,
          1207203.1499999994,
          167.94,
          34148.60999999999,
          643769.0699999998,
          9789179.64,
          5858737.320000001,
          14559386.55,
          270700.8300000001,
          3640776.690000001,
          2719853.4299999992,
          294413.91000000003,
          422819.4000000003,
          125904.63,
          2999660.909999998,
          1886267.430000001,
          69847155.39000003,
          2.88,
          996362.4899999998,
          14359420.080000006,
          2816745.3000000007,
          392375.0399999999,
          1093449.1500000001,
          27926.609999999993,
          3660340.650000001,
          30309825,
          276599022.59999996,
          1849018.1099999985,
          5585816.489999997,
          2080090.1400000015,
          7929325.2,
          11351308.560000002,
          25595.52000000001,
          26527.619999999988,
          1993332.240000001,
          3052626,
          5480347.109999996,
          5575219.169999995,
          718240177.5299999,
          1765533.360000001,
          0,
          2696.8500000000004,
          1011768.1199999999,
          1054647.4199999997,
          1731994.3800000001,
          270717.75,
          1463539318.1099997
         ]
        },
        {
         "colorbar": {
          "title": {
           "text": "Pounds Released Per Year"
          }
         },
         "colorscale": [
          [
           0,
           "rgb(255,245,240)"
          ],
          [
           0.125,
           "rgb(254,224,210)"
          ],
          [
           0.25,
           "rgb(252,187,161)"
          ],
          [
           0.375,
           "rgb(252,146,114)"
          ],
          [
           0.5,
           "rgb(251,106,74)"
          ],
          [
           0.625,
           "rgb(239,59,44)"
          ],
          [
           0.75,
           "rgb(203,24,29)"
          ],
          [
           0.875,
           "rgb(165,15,21)"
          ],
          [
           1,
           "rgb(103,0,13)"
          ]
         ],
         "locationmode": "USA-states",
         "locations": [
          "AK",
          "AL",
          "AR",
          "AS",
          "AZ",
          "CA",
          "CO",
          "CT",
          "DC",
          "DE",
          "FL",
          "GA",
          "GU",
          "HI",
          "IA",
          "ID",
          "IL",
          "IN",
          "KS",
          "KY",
          "LA",
          "MA",
          "MD",
          "ME",
          "MI",
          "MN",
          "MO",
          "MP",
          "MS",
          "MT",
          "NC",
          "ND",
          "NE",
          "NH",
          "NJ",
          "NM",
          "NV",
          "NY",
          "OH",
          "OK",
          "OR",
          "PA",
          "PR",
          "RI",
          "SC",
          "SD",
          "TN",
          "TX",
          "UT",
          "VA",
          "VI",
          "VT",
          "WA",
          "WI",
          "WV",
          "WY",
          "norm"
         ],
         "name": "2014",
         "reversescale": false,
         "type": "choropleth",
         "z": [
          1300567655.9999998,
          3199844.8399999994,
          914818.1300000005,
          0,
          45458170.24999999,
          13128636.049999993,
          26308920.37999998,
          91700.10000000003,
          125.69999999999999,
          108951,
          3132478.760000001,
          1586668.0299999996,
          168.09,
          24557.460000000003,
          642893.3400000003,
          11644671.629999999,
          8048609.56,
          13208521.659999996,
          418198.16000000003,
          3192139.9800000014,
          2691418.829999999,
          334596.1500000001,
          523136.2100000001,
          126946.05,
          2004818.0600000008,
          2214337.2399999993,
          68058793.14999999,
          6.42,
          1037182.9099999997,
          16216555.859999998,
          3550568.8999999985,
          527785.71,
          1149716.13,
          36979.469999999994,
          1946526.7100000011,
          27813822.070000004,
          181314221.67,
          1769507.1199999996,
          5406141.749999998,
          1653878.7200000004,
          5935596.749999998,
          6639056.180000003,
          13188.750000000004,
          6574.830000000001,
          14509581.93999999,
          3206961.869999999,
          6340739.059999998,
          11613738.100000001,
          390133723.4599999,
          1218492.73,
          33,
          1709.2799999999997,
          1035280.3399999995,
          1121593.6099999994,
          1720207.56,
          228089.9700000001,
          1463539318.1099997
         ]
        },
        {
         "colorbar": {
          "title": {
           "text": "Pounds Released Per Year"
          }
         },
         "colorscale": [
          [
           0,
           "rgb(255,245,240)"
          ],
          [
           0.125,
           "rgb(254,224,210)"
          ],
          [
           0.25,
           "rgb(252,187,161)"
          ],
          [
           0.375,
           "rgb(252,146,114)"
          ],
          [
           0.5,
           "rgb(251,106,74)"
          ],
          [
           0.625,
           "rgb(239,59,44)"
          ],
          [
           0.75,
           "rgb(203,24,29)"
          ],
          [
           0.875,
           "rgb(165,15,21)"
          ],
          [
           1,
           "rgb(103,0,13)"
          ]
         ],
         "locationmode": "USA-states",
         "locations": [
          "AK",
          "AL",
          "AR",
          "AS",
          "AZ",
          "CA",
          "CO",
          "CT",
          "DC",
          "DE",
          "FL",
          "GA",
          "GU",
          "HI",
          "IA",
          "ID",
          "IL",
          "IN",
          "KS",
          "KY",
          "LA",
          "MA",
          "MD",
          "ME",
          "MI",
          "MN",
          "MO",
          "MP",
          "MS",
          "MT",
          "NC",
          "ND",
          "NE",
          "NH",
          "NJ",
          "NM",
          "NV",
          "NY",
          "OH",
          "OK",
          "OR",
          "PA",
          "PR",
          "RI",
          "SC",
          "SD",
          "TN",
          "TX",
          "UT",
          "VA",
          "VI",
          "VT",
          "WA",
          "WI",
          "WV",
          "WY",
          "norm"
         ],
         "name": "2015",
         "reversescale": false,
         "type": "choropleth",
         "z": [
          669516322.3499998,
          3235152.270000001,
          664299.8099999998,
          0,
          61501332.66000001,
          14246410.139999988,
          24980025.74999999,
          77227.68,
          70.59,
          100262.64,
          3053013.39,
          1196236.92,
          150.96,
          17662.649999999998,
          698313.3899999999,
          9298907.22,
          5372127.749999999,
          14592041.370000005,
          393842.39999999985,
          3132170.7900000005,
          2331422.85,
          155759.93999999994,
          576888.1200000001,
          92690.52000000002,
          2601457.950000001,
          3181493.969999998,
          75562341.12000003,
          7.11,
          1250683.3199999996,
          19759838.100000005,
          2720960.0099999993,
          437704.20000000007,
          235590.30000000005,
          22736.969999999998,
          75515035.98000003,
          23283407.76,
          214006851.41999987,
          2077039.8600000006,
          4428154.950000001,
          1489122.6299999997,
          212033.75999999995,
          4518180.480000001,
          15440.22,
          3651.63,
          7282454.159999992,
          2523501.1799999997,
          4716094.049999997,
          8453700.569999993,
          381202917.72,
          1003809.6300000005,
          33,
          274.23,
          894437.3699999999,
          939513.3300000002,
          1550940.8699999996,
          239179.19999999998,
          1463539318.1099997
         ]
        },
        {
         "colorbar": {
          "title": {
           "text": "Pounds Released Per Year"
          }
         },
         "colorscale": [
          [
           0,
           "rgb(255,245,240)"
          ],
          [
           0.125,
           "rgb(254,224,210)"
          ],
          [
           0.25,
           "rgb(252,187,161)"
          ],
          [
           0.375,
           "rgb(252,146,114)"
          ],
          [
           0.5,
           "rgb(251,106,74)"
          ],
          [
           0.625,
           "rgb(239,59,44)"
          ],
          [
           0.75,
           "rgb(203,24,29)"
          ],
          [
           0.875,
           "rgb(165,15,21)"
          ],
          [
           1,
           "rgb(103,0,13)"
          ]
         ],
         "locationmode": "USA-states",
         "locations": [
          "AK",
          "AL",
          "AR",
          "AS",
          "AZ",
          "CA",
          "CO",
          "CT",
          "DC",
          "DE",
          "FL",
          "GA",
          "GU",
          "HI",
          "IA",
          "ID",
          "IL",
          "IN",
          "KS",
          "KY",
          "LA",
          "MA",
          "MD",
          "ME",
          "MI",
          "MN",
          "MO",
          "MP",
          "MS",
          "MT",
          "NC",
          "ND",
          "NE",
          "NH",
          "NJ",
          "NM",
          "NV",
          "NY",
          "OH",
          "OK",
          "OR",
          "PA",
          "PR",
          "RI",
          "SC",
          "SD",
          "TN",
          "TX",
          "UT",
          "VA",
          "VI",
          "VT",
          "WA",
          "WI",
          "WV",
          "WY",
          "norm"
         ],
         "name": "2016",
         "reversescale": false,
         "type": "choropleth",
         "z": [
          988538729.22,
          4285532.159999999,
          956827.3200000005,
          0,
          62062709.16000004,
          8069559.269999996,
          32675802.47999999,
          341864.18999999994,
          331.83,
          76776.99,
          3205365.359999999,
          1481398.65,
          129.60000000000002,
          16987.65,
          532744.2300000003,
          8605965.9,
          5160929.429999998,
          16057565.789999997,
          229502.84999999983,
          2899163.6699999995,
          2682900.81,
          401919.48000000004,
          75563.52000000002,
          77701.29000000001,
          2703693.69,
          3123818.7,
          83717396.16000004,
          13.74,
          1035220.8000000007,
          13423298.55,
          2638192.469999997,
          372952.1399999999,
          229707.09000000003,
          24656.61,
          2594106.0599999996,
          10885403.49,
          136088623.08,
          2256309.989999999,
          3831827.039999998,
          1174793.3999999997,
          91158.42,
          6942052.799999995,
          9506.999999999998,
          5238.33,
          4769150.22,
          3082348.08,
          16772645.550000012,
          7354353.9300000025,
          496743555.8999999,
          1098956.310000001,
          27,
          349.14,
          11380011.509999998,
          951813.3899999994,
          1517576.8800000004,
          232602.41999999993,
          1463539318.1099997
         ]
        }
       ],
       "layout": {
        "geo": {
         "projection": {
          "type": "albers usa"
         },
         "scope": "usa"
        },
        "sliders": [
         {
          "active": 10,
          "currentvalue": {
           "prefix": "Year: "
          },
          "pad": {
           "t": 50
          },
          "steps": [
           {
            "args": [
             "visible",
             [
              true,
              false,
              false,
              false,
              false,
              false,
              false,
              false,
              false,
              false,
              false,
              false,
              false,
              false,
              false,
              false,
              false,
              false,
              false,
              false,
              false,
              false,
              false,
              false,
              false,
              false,
              false,
              false,
              false,
              false
             ]
            ],
            "label": "1987",
            "method": "restyle"
           },
           {
            "args": [
             "visible",
             [
              false,
              true,
              false,
              false,
              false,
              false,
              false,
              false,
              false,
              false,
              false,
              false,
              false,
              false,
              false,
              false,
              false,
              false,
              false,
              false,
              false,
              false,
              false,
              false,
              false,
              false,
              false,
              false,
              false,
              false
             ]
            ],
            "label": "1988",
            "method": "restyle"
           },
           {
            "args": [
             "visible",
             [
              false,
              false,
              true,
              false,
              false,
              false,
              false,
              false,
              false,
              false,
              false,
              false,
              false,
              false,
              false,
              false,
              false,
              false,
              false,
              false,
              false,
              false,
              false,
              false,
              false,
              false,
              false,
              false,
              false,
              false
             ]
            ],
            "label": "1989",
            "method": "restyle"
           },
           {
            "args": [
             "visible",
             [
              false,
              false,
              false,
              true,
              false,
              false,
              false,
              false,
              false,
              false,
              false,
              false,
              false,
              false,
              false,
              false,
              false,
              false,
              false,
              false,
              false,
              false,
              false,
              false,
              false,
              false,
              false,
              false,
              false,
              false
             ]
            ],
            "label": "1990",
            "method": "restyle"
           },
           {
            "args": [
             "visible",
             [
              false,
              false,
              false,
              false,
              true,
              false,
              false,
              false,
              false,
              false,
              false,
              false,
              false,
              false,
              false,
              false,
              false,
              false,
              false,
              false,
              false,
              false,
              false,
              false,
              false,
              false,
              false,
              false,
              false,
              false
             ]
            ],
            "label": "1991",
            "method": "restyle"
           },
           {
            "args": [
             "visible",
             [
              false,
              false,
              false,
              false,
              false,
              true,
              false,
              false,
              false,
              false,
              false,
              false,
              false,
              false,
              false,
              false,
              false,
              false,
              false,
              false,
              false,
              false,
              false,
              false,
              false,
              false,
              false,
              false,
              false,
              false
             ]
            ],
            "label": "1992",
            "method": "restyle"
           },
           {
            "args": [
             "visible",
             [
              false,
              false,
              false,
              false,
              false,
              false,
              true,
              false,
              false,
              false,
              false,
              false,
              false,
              false,
              false,
              false,
              false,
              false,
              false,
              false,
              false,
              false,
              false,
              false,
              false,
              false,
              false,
              false,
              false,
              false
             ]
            ],
            "label": "1993",
            "method": "restyle"
           },
           {
            "args": [
             "visible",
             [
              false,
              false,
              false,
              false,
              false,
              false,
              false,
              true,
              false,
              false,
              false,
              false,
              false,
              false,
              false,
              false,
              false,
              false,
              false,
              false,
              false,
              false,
              false,
              false,
              false,
              false,
              false,
              false,
              false,
              false
             ]
            ],
            "label": "1994",
            "method": "restyle"
           },
           {
            "args": [
             "visible",
             [
              false,
              false,
              false,
              false,
              false,
              false,
              false,
              false,
              true,
              false,
              false,
              false,
              false,
              false,
              false,
              false,
              false,
              false,
              false,
              false,
              false,
              false,
              false,
              false,
              false,
              false,
              false,
              false,
              false,
              false
             ]
            ],
            "label": "1995",
            "method": "restyle"
           },
           {
            "args": [
             "visible",
             [
              false,
              false,
              false,
              false,
              false,
              false,
              false,
              false,
              false,
              true,
              false,
              false,
              false,
              false,
              false,
              false,
              false,
              false,
              false,
              false,
              false,
              false,
              false,
              false,
              false,
              false,
              false,
              false,
              false,
              false
             ]
            ],
            "label": "1996",
            "method": "restyle"
           },
           {
            "args": [
             "visible",
             [
              false,
              false,
              false,
              false,
              false,
              false,
              false,
              false,
              false,
              false,
              true,
              false,
              false,
              false,
              false,
              false,
              false,
              false,
              false,
              false,
              false,
              false,
              false,
              false,
              false,
              false,
              false,
              false,
              false,
              false
             ]
            ],
            "label": "1997",
            "method": "restyle"
           },
           {
            "args": [
             "visible",
             [
              false,
              false,
              false,
              false,
              false,
              false,
              false,
              false,
              false,
              false,
              false,
              true,
              false,
              false,
              false,
              false,
              false,
              false,
              false,
              false,
              false,
              false,
              false,
              false,
              false,
              false,
              false,
              false,
              false,
              false
             ]
            ],
            "label": "1998",
            "method": "restyle"
           },
           {
            "args": [
             "visible",
             [
              false,
              false,
              false,
              false,
              false,
              false,
              false,
              false,
              false,
              false,
              false,
              false,
              true,
              false,
              false,
              false,
              false,
              false,
              false,
              false,
              false,
              false,
              false,
              false,
              false,
              false,
              false,
              false,
              false,
              false
             ]
            ],
            "label": "1999",
            "method": "restyle"
           },
           {
            "args": [
             "visible",
             [
              false,
              false,
              false,
              false,
              false,
              false,
              false,
              false,
              false,
              false,
              false,
              false,
              false,
              true,
              false,
              false,
              false,
              false,
              false,
              false,
              false,
              false,
              false,
              false,
              false,
              false,
              false,
              false,
              false,
              false
             ]
            ],
            "label": "2000",
            "method": "restyle"
           },
           {
            "args": [
             "visible",
             [
              false,
              false,
              false,
              false,
              false,
              false,
              false,
              false,
              false,
              false,
              false,
              false,
              false,
              false,
              true,
              false,
              false,
              false,
              false,
              false,
              false,
              false,
              false,
              false,
              false,
              false,
              false,
              false,
              false,
              false
             ]
            ],
            "label": "2001",
            "method": "restyle"
           },
           {
            "args": [
             "visible",
             [
              false,
              false,
              false,
              false,
              false,
              false,
              false,
              false,
              false,
              false,
              false,
              false,
              false,
              false,
              false,
              true,
              false,
              false,
              false,
              false,
              false,
              false,
              false,
              false,
              false,
              false,
              false,
              false,
              false,
              false
             ]
            ],
            "label": "2002",
            "method": "restyle"
           },
           {
            "args": [
             "visible",
             [
              false,
              false,
              false,
              false,
              false,
              false,
              false,
              false,
              false,
              false,
              false,
              false,
              false,
              false,
              false,
              false,
              true,
              false,
              false,
              false,
              false,
              false,
              false,
              false,
              false,
              false,
              false,
              false,
              false,
              false
             ]
            ],
            "label": "2003",
            "method": "restyle"
           },
           {
            "args": [
             "visible",
             [
              false,
              false,
              false,
              false,
              false,
              false,
              false,
              false,
              false,
              false,
              false,
              false,
              false,
              false,
              false,
              false,
              false,
              true,
              false,
              false,
              false,
              false,
              false,
              false,
              false,
              false,
              false,
              false,
              false,
              false
             ]
            ],
            "label": "2004",
            "method": "restyle"
           },
           {
            "args": [
             "visible",
             [
              false,
              false,
              false,
              false,
              false,
              false,
              false,
              false,
              false,
              false,
              false,
              false,
              false,
              false,
              false,
              false,
              false,
              false,
              true,
              false,
              false,
              false,
              false,
              false,
              false,
              false,
              false,
              false,
              false,
              false
             ]
            ],
            "label": "2005",
            "method": "restyle"
           },
           {
            "args": [
             "visible",
             [
              false,
              false,
              false,
              false,
              false,
              false,
              false,
              false,
              false,
              false,
              false,
              false,
              false,
              false,
              false,
              false,
              false,
              false,
              false,
              true,
              false,
              false,
              false,
              false,
              false,
              false,
              false,
              false,
              false,
              false
             ]
            ],
            "label": "2006",
            "method": "restyle"
           },
           {
            "args": [
             "visible",
             [
              false,
              false,
              false,
              false,
              false,
              false,
              false,
              false,
              false,
              false,
              false,
              false,
              false,
              false,
              false,
              false,
              false,
              false,
              false,
              false,
              true,
              false,
              false,
              false,
              false,
              false,
              false,
              false,
              false,
              false
             ]
            ],
            "label": "2007",
            "method": "restyle"
           },
           {
            "args": [
             "visible",
             [
              false,
              false,
              false,
              false,
              false,
              false,
              false,
              false,
              false,
              false,
              false,
              false,
              false,
              false,
              false,
              false,
              false,
              false,
              false,
              false,
              false,
              true,
              false,
              false,
              false,
              false,
              false,
              false,
              false,
              false
             ]
            ],
            "label": "2008",
            "method": "restyle"
           },
           {
            "args": [
             "visible",
             [
              false,
              false,
              false,
              false,
              false,
              false,
              false,
              false,
              false,
              false,
              false,
              false,
              false,
              false,
              false,
              false,
              false,
              false,
              false,
              false,
              false,
              false,
              true,
              false,
              false,
              false,
              false,
              false,
              false,
              false
             ]
            ],
            "label": "2009",
            "method": "restyle"
           },
           {
            "args": [
             "visible",
             [
              false,
              false,
              false,
              false,
              false,
              false,
              false,
              false,
              false,
              false,
              false,
              false,
              false,
              false,
              false,
              false,
              false,
              false,
              false,
              false,
              false,
              false,
              false,
              true,
              false,
              false,
              false,
              false,
              false,
              false
             ]
            ],
            "label": "2010",
            "method": "restyle"
           },
           {
            "args": [
             "visible",
             [
              false,
              false,
              false,
              false,
              false,
              false,
              false,
              false,
              false,
              false,
              false,
              false,
              false,
              false,
              false,
              false,
              false,
              false,
              false,
              false,
              false,
              false,
              false,
              false,
              true,
              false,
              false,
              false,
              false,
              false
             ]
            ],
            "label": "2011",
            "method": "restyle"
           },
           {
            "args": [
             "visible",
             [
              false,
              false,
              false,
              false,
              false,
              false,
              false,
              false,
              false,
              false,
              false,
              false,
              false,
              false,
              false,
              false,
              false,
              false,
              false,
              false,
              false,
              false,
              false,
              false,
              false,
              true,
              false,
              false,
              false,
              false
             ]
            ],
            "label": "2012",
            "method": "restyle"
           },
           {
            "args": [
             "visible",
             [
              false,
              false,
              false,
              false,
              false,
              false,
              false,
              false,
              false,
              false,
              false,
              false,
              false,
              false,
              false,
              false,
              false,
              false,
              false,
              false,
              false,
              false,
              false,
              false,
              false,
              false,
              true,
              false,
              false,
              false
             ]
            ],
            "label": "2013",
            "method": "restyle"
           },
           {
            "args": [
             "visible",
             [
              false,
              false,
              false,
              false,
              false,
              false,
              false,
              false,
              false,
              false,
              false,
              false,
              false,
              false,
              false,
              false,
              false,
              false,
              false,
              false,
              false,
              false,
              false,
              false,
              false,
              false,
              false,
              true,
              false,
              false
             ]
            ],
            "label": "2014",
            "method": "restyle"
           },
           {
            "args": [
             "visible",
             [
              false,
              false,
              false,
              false,
              false,
              false,
              false,
              false,
              false,
              false,
              false,
              false,
              false,
              false,
              false,
              false,
              false,
              false,
              false,
              false,
              false,
              false,
              false,
              false,
              false,
              false,
              false,
              false,
              true,
              false
             ]
            ],
            "label": "2015",
            "method": "restyle"
           },
           {
            "args": [
             "visible",
             [
              false,
              false,
              false,
              false,
              false,
              false,
              false,
              false,
              false,
              false,
              false,
              false,
              false,
              false,
              false,
              false,
              false,
              false,
              false,
              false,
              false,
              false,
              false,
              false,
              false,
              false,
              false,
              false,
              false,
              true
             ]
            ],
            "label": "2016",
            "method": "restyle"
           }
          ]
         }
        ],
        "template": {
         "data": {
          "bar": [
           {
            "error_x": {
             "color": "#2a3f5f"
            },
            "error_y": {
             "color": "#2a3f5f"
            },
            "marker": {
             "line": {
              "color": "#E5ECF6",
              "width": 0.5
             }
            },
            "type": "bar"
           }
          ],
          "barpolar": [
           {
            "marker": {
             "line": {
              "color": "#E5ECF6",
              "width": 0.5
             }
            },
            "type": "barpolar"
           }
          ],
          "carpet": [
           {
            "aaxis": {
             "endlinecolor": "#2a3f5f",
             "gridcolor": "white",
             "linecolor": "white",
             "minorgridcolor": "white",
             "startlinecolor": "#2a3f5f"
            },
            "baxis": {
             "endlinecolor": "#2a3f5f",
             "gridcolor": "white",
             "linecolor": "white",
             "minorgridcolor": "white",
             "startlinecolor": "#2a3f5f"
            },
            "type": "carpet"
           }
          ],
          "choropleth": [
           {
            "colorbar": {
             "outlinewidth": 0,
             "ticks": ""
            },
            "type": "choropleth"
           }
          ],
          "contour": [
           {
            "colorbar": {
             "outlinewidth": 0,
             "ticks": ""
            },
            "colorscale": [
             [
              0,
              "#0d0887"
             ],
             [
              0.1111111111111111,
              "#46039f"
             ],
             [
              0.2222222222222222,
              "#7201a8"
             ],
             [
              0.3333333333333333,
              "#9c179e"
             ],
             [
              0.4444444444444444,
              "#bd3786"
             ],
             [
              0.5555555555555556,
              "#d8576b"
             ],
             [
              0.6666666666666666,
              "#ed7953"
             ],
             [
              0.7777777777777778,
              "#fb9f3a"
             ],
             [
              0.8888888888888888,
              "#fdca26"
             ],
             [
              1,
              "#f0f921"
             ]
            ],
            "type": "contour"
           }
          ],
          "contourcarpet": [
           {
            "colorbar": {
             "outlinewidth": 0,
             "ticks": ""
            },
            "type": "contourcarpet"
           }
          ],
          "heatmap": [
           {
            "colorbar": {
             "outlinewidth": 0,
             "ticks": ""
            },
            "colorscale": [
             [
              0,
              "#0d0887"
             ],
             [
              0.1111111111111111,
              "#46039f"
             ],
             [
              0.2222222222222222,
              "#7201a8"
             ],
             [
              0.3333333333333333,
              "#9c179e"
             ],
             [
              0.4444444444444444,
              "#bd3786"
             ],
             [
              0.5555555555555556,
              "#d8576b"
             ],
             [
              0.6666666666666666,
              "#ed7953"
             ],
             [
              0.7777777777777778,
              "#fb9f3a"
             ],
             [
              0.8888888888888888,
              "#fdca26"
             ],
             [
              1,
              "#f0f921"
             ]
            ],
            "type": "heatmap"
           }
          ],
          "heatmapgl": [
           {
            "colorbar": {
             "outlinewidth": 0,
             "ticks": ""
            },
            "colorscale": [
             [
              0,
              "#0d0887"
             ],
             [
              0.1111111111111111,
              "#46039f"
             ],
             [
              0.2222222222222222,
              "#7201a8"
             ],
             [
              0.3333333333333333,
              "#9c179e"
             ],
             [
              0.4444444444444444,
              "#bd3786"
             ],
             [
              0.5555555555555556,
              "#d8576b"
             ],
             [
              0.6666666666666666,
              "#ed7953"
             ],
             [
              0.7777777777777778,
              "#fb9f3a"
             ],
             [
              0.8888888888888888,
              "#fdca26"
             ],
             [
              1,
              "#f0f921"
             ]
            ],
            "type": "heatmapgl"
           }
          ],
          "histogram": [
           {
            "marker": {
             "colorbar": {
              "outlinewidth": 0,
              "ticks": ""
             }
            },
            "type": "histogram"
           }
          ],
          "histogram2d": [
           {
            "colorbar": {
             "outlinewidth": 0,
             "ticks": ""
            },
            "colorscale": [
             [
              0,
              "#0d0887"
             ],
             [
              0.1111111111111111,
              "#46039f"
             ],
             [
              0.2222222222222222,
              "#7201a8"
             ],
             [
              0.3333333333333333,
              "#9c179e"
             ],
             [
              0.4444444444444444,
              "#bd3786"
             ],
             [
              0.5555555555555556,
              "#d8576b"
             ],
             [
              0.6666666666666666,
              "#ed7953"
             ],
             [
              0.7777777777777778,
              "#fb9f3a"
             ],
             [
              0.8888888888888888,
              "#fdca26"
             ],
             [
              1,
              "#f0f921"
             ]
            ],
            "type": "histogram2d"
           }
          ],
          "histogram2dcontour": [
           {
            "colorbar": {
             "outlinewidth": 0,
             "ticks": ""
            },
            "colorscale": [
             [
              0,
              "#0d0887"
             ],
             [
              0.1111111111111111,
              "#46039f"
             ],
             [
              0.2222222222222222,
              "#7201a8"
             ],
             [
              0.3333333333333333,
              "#9c179e"
             ],
             [
              0.4444444444444444,
              "#bd3786"
             ],
             [
              0.5555555555555556,
              "#d8576b"
             ],
             [
              0.6666666666666666,
              "#ed7953"
             ],
             [
              0.7777777777777778,
              "#fb9f3a"
             ],
             [
              0.8888888888888888,
              "#fdca26"
             ],
             [
              1,
              "#f0f921"
             ]
            ],
            "type": "histogram2dcontour"
           }
          ],
          "mesh3d": [
           {
            "colorbar": {
             "outlinewidth": 0,
             "ticks": ""
            },
            "type": "mesh3d"
           }
          ],
          "parcoords": [
           {
            "line": {
             "colorbar": {
              "outlinewidth": 0,
              "ticks": ""
             }
            },
            "type": "parcoords"
           }
          ],
          "pie": [
           {
            "automargin": true,
            "type": "pie"
           }
          ],
          "scatter": [
           {
            "marker": {
             "colorbar": {
              "outlinewidth": 0,
              "ticks": ""
             }
            },
            "type": "scatter"
           }
          ],
          "scatter3d": [
           {
            "line": {
             "colorbar": {
              "outlinewidth": 0,
              "ticks": ""
             }
            },
            "marker": {
             "colorbar": {
              "outlinewidth": 0,
              "ticks": ""
             }
            },
            "type": "scatter3d"
           }
          ],
          "scattercarpet": [
           {
            "marker": {
             "colorbar": {
              "outlinewidth": 0,
              "ticks": ""
             }
            },
            "type": "scattercarpet"
           }
          ],
          "scattergeo": [
           {
            "marker": {
             "colorbar": {
              "outlinewidth": 0,
              "ticks": ""
             }
            },
            "type": "scattergeo"
           }
          ],
          "scattergl": [
           {
            "marker": {
             "colorbar": {
              "outlinewidth": 0,
              "ticks": ""
             }
            },
            "type": "scattergl"
           }
          ],
          "scattermapbox": [
           {
            "marker": {
             "colorbar": {
              "outlinewidth": 0,
              "ticks": ""
             }
            },
            "type": "scattermapbox"
           }
          ],
          "scatterpolar": [
           {
            "marker": {
             "colorbar": {
              "outlinewidth": 0,
              "ticks": ""
             }
            },
            "type": "scatterpolar"
           }
          ],
          "scatterpolargl": [
           {
            "marker": {
             "colorbar": {
              "outlinewidth": 0,
              "ticks": ""
             }
            },
            "type": "scatterpolargl"
           }
          ],
          "scatterternary": [
           {
            "marker": {
             "colorbar": {
              "outlinewidth": 0,
              "ticks": ""
             }
            },
            "type": "scatterternary"
           }
          ],
          "surface": [
           {
            "colorbar": {
             "outlinewidth": 0,
             "ticks": ""
            },
            "colorscale": [
             [
              0,
              "#0d0887"
             ],
             [
              0.1111111111111111,
              "#46039f"
             ],
             [
              0.2222222222222222,
              "#7201a8"
             ],
             [
              0.3333333333333333,
              "#9c179e"
             ],
             [
              0.4444444444444444,
              "#bd3786"
             ],
             [
              0.5555555555555556,
              "#d8576b"
             ],
             [
              0.6666666666666666,
              "#ed7953"
             ],
             [
              0.7777777777777778,
              "#fb9f3a"
             ],
             [
              0.8888888888888888,
              "#fdca26"
             ],
             [
              1,
              "#f0f921"
             ]
            ],
            "type": "surface"
           }
          ],
          "table": [
           {
            "cells": {
             "fill": {
              "color": "#EBF0F8"
             },
             "line": {
              "color": "white"
             }
            },
            "header": {
             "fill": {
              "color": "#C8D4E3"
             },
             "line": {
              "color": "white"
             }
            },
            "type": "table"
           }
          ]
         },
         "layout": {
          "annotationdefaults": {
           "arrowcolor": "#2a3f5f",
           "arrowhead": 0,
           "arrowwidth": 1
          },
          "autotypenumbers": "strict",
          "coloraxis": {
           "colorbar": {
            "outlinewidth": 0,
            "ticks": ""
           }
          },
          "colorscale": {
           "diverging": [
            [
             0,
             "#8e0152"
            ],
            [
             0.1,
             "#c51b7d"
            ],
            [
             0.2,
             "#de77ae"
            ],
            [
             0.3,
             "#f1b6da"
            ],
            [
             0.4,
             "#fde0ef"
            ],
            [
             0.5,
             "#f7f7f7"
            ],
            [
             0.6,
             "#e6f5d0"
            ],
            [
             0.7,
             "#b8e186"
            ],
            [
             0.8,
             "#7fbc41"
            ],
            [
             0.9,
             "#4d9221"
            ],
            [
             1,
             "#276419"
            ]
           ],
           "sequential": [
            [
             0,
             "#0d0887"
            ],
            [
             0.1111111111111111,
             "#46039f"
            ],
            [
             0.2222222222222222,
             "#7201a8"
            ],
            [
             0.3333333333333333,
             "#9c179e"
            ],
            [
             0.4444444444444444,
             "#bd3786"
            ],
            [
             0.5555555555555556,
             "#d8576b"
            ],
            [
             0.6666666666666666,
             "#ed7953"
            ],
            [
             0.7777777777777778,
             "#fb9f3a"
            ],
            [
             0.8888888888888888,
             "#fdca26"
            ],
            [
             1,
             "#f0f921"
            ]
           ],
           "sequentialminus": [
            [
             0,
             "#0d0887"
            ],
            [
             0.1111111111111111,
             "#46039f"
            ],
            [
             0.2222222222222222,
             "#7201a8"
            ],
            [
             0.3333333333333333,
             "#9c179e"
            ],
            [
             0.4444444444444444,
             "#bd3786"
            ],
            [
             0.5555555555555556,
             "#d8576b"
            ],
            [
             0.6666666666666666,
             "#ed7953"
            ],
            [
             0.7777777777777778,
             "#fb9f3a"
            ],
            [
             0.8888888888888888,
             "#fdca26"
            ],
            [
             1,
             "#f0f921"
            ]
           ]
          },
          "colorway": [
           "#636efa",
           "#EF553B",
           "#00cc96",
           "#ab63fa",
           "#FFA15A",
           "#19d3f3",
           "#FF6692",
           "#B6E880",
           "#FF97FF",
           "#FECB52"
          ],
          "font": {
           "color": "#2a3f5f"
          },
          "geo": {
           "bgcolor": "white",
           "lakecolor": "white",
           "landcolor": "#E5ECF6",
           "showlakes": true,
           "showland": true,
           "subunitcolor": "white"
          },
          "hoverlabel": {
           "align": "left"
          },
          "hovermode": "closest",
          "mapbox": {
           "style": "light"
          },
          "paper_bgcolor": "white",
          "plot_bgcolor": "#E5ECF6",
          "polar": {
           "angularaxis": {
            "gridcolor": "white",
            "linecolor": "white",
            "ticks": ""
           },
           "bgcolor": "#E5ECF6",
           "radialaxis": {
            "gridcolor": "white",
            "linecolor": "white",
            "ticks": ""
           }
          },
          "scene": {
           "xaxis": {
            "backgroundcolor": "#E5ECF6",
            "gridcolor": "white",
            "gridwidth": 2,
            "linecolor": "white",
            "showbackground": true,
            "ticks": "",
            "zerolinecolor": "white"
           },
           "yaxis": {
            "backgroundcolor": "#E5ECF6",
            "gridcolor": "white",
            "gridwidth": 2,
            "linecolor": "white",
            "showbackground": true,
            "ticks": "",
            "zerolinecolor": "white"
           },
           "zaxis": {
            "backgroundcolor": "#E5ECF6",
            "gridcolor": "white",
            "gridwidth": 2,
            "linecolor": "white",
            "showbackground": true,
            "ticks": "",
            "zerolinecolor": "white"
           }
          },
          "shapedefaults": {
           "line": {
            "color": "#2a3f5f"
           }
          },
          "ternary": {
           "aaxis": {
            "gridcolor": "white",
            "linecolor": "white",
            "ticks": ""
           },
           "baxis": {
            "gridcolor": "white",
            "linecolor": "white",
            "ticks": ""
           },
           "bgcolor": "#E5ECF6",
           "caxis": {
            "gridcolor": "white",
            "linecolor": "white",
            "ticks": ""
           }
          },
          "title": {
           "x": 0.05
          },
          "xaxis": {
           "automargin": true,
           "gridcolor": "white",
           "linecolor": "white",
           "ticks": "",
           "title": {
            "standoff": 15
           },
           "zerolinecolor": "white",
           "zerolinewidth": 2
          },
          "yaxis": {
           "automargin": true,
           "gridcolor": "white",
           "linecolor": "white",
           "ticks": "",
           "title": {
            "standoff": 15
           },
           "zerolinecolor": "white",
           "zerolinewidth": 2
          }
         }
        },
        "title": {
         "text": "Total Released LEAD COMPOUNDS In Pounds"
        }
       }
      },
      "text/html": [
       "<div>                            <div id=\"6425ec89-1b2f-4f7a-a637-3dccb5bc0cf2\" class=\"plotly-graph-div\" style=\"height:525px; width:100%;\"></div>            <script type=\"text/javascript\">                require([\"plotly\"], function(Plotly) {                    window.PLOTLYENV=window.PLOTLYENV || {};                                    if (document.getElementById(\"6425ec89-1b2f-4f7a-a637-3dccb5bc0cf2\")) {                    Plotly.newPlot(                        \"6425ec89-1b2f-4f7a-a637-3dccb5bc0cf2\",                        [{\"colorbar\": {\"title\": {\"text\": \"Pounds Released Per Year\"}}, \"colorscale\": [[0.0, \"rgb(255,245,240)\"], [0.125, \"rgb(254,224,210)\"], [0.25, \"rgb(252,187,161)\"], [0.375, \"rgb(252,146,114)\"], [0.5, \"rgb(251,106,74)\"], [0.625, \"rgb(239,59,44)\"], [0.75, \"rgb(203,24,29)\"], [0.875, \"rgb(165,15,21)\"], [1.0, \"rgb(103,0,13)\"]], \"locationmode\": \"USA-states\", \"locations\": [\"AK\", \"AL\", \"AR\", \"AS\", \"AZ\", \"CA\", \"CO\", \"CT\", \"DC\", \"DE\", \"FL\", \"GA\", \"GU\", \"HI\", \"IA\", \"ID\", \"IL\", \"IN\", \"KS\", \"KY\", \"LA\", \"MA\", \"MD\", \"ME\", \"MI\", \"MN\", \"MO\", \"MP\", \"MS\", \"MT\", \"NC\", \"ND\", \"NE\", \"NH\", \"NJ\", \"NM\", \"NV\", \"NY\", \"OH\", \"OK\", \"OR\", \"PA\", \"PR\", \"RI\", \"SC\", \"SD\", \"TN\", \"TX\", \"UT\", \"VA\", \"VI\", \"VT\", \"WA\", \"WI\", \"WV\", \"WY\", \"norm\"], \"name\": \"1987\", \"reversescale\": false, \"type\": \"choropleth\", \"z\": [0.0, 249856.0, 82388.0, 0.0, 3955139.0, 603065.0, 35832.0, 29241.0, 0.0, 32758.0, 27820.0, 37708.0, 0.0, 0.0, 28223.0, 160300.0, 551785.0, 2145293.0, 61313.0, 584187.0, 141482.0, 18577.0, 15514.0, 0.0, 1744963.0, 24018.0, 1639201.0, 0.0, 17454.0, 2359091.0, 33939.0, 12029.0, 109553.0, 54985.0, 230409.0, 19611.0, 0.0, 2656389.0, 3981615.0, 28329.0, 457773.0, 1440379.0, 1030.0, 20291.0, 130500.0, 0.0, 54040.0, 975566.0, 4863.0, 261828.0, 1400.0, 250.0, 80124.0, 2520108.0, 21123.0, 0.0, 1463539318.1099997]}, {\"colorbar\": {\"title\": {\"text\": \"Pounds Released Per Year\"}}, \"colorscale\": [[0.0, \"rgb(255,245,240)\"], [0.125, \"rgb(254,224,210)\"], [0.25, \"rgb(252,187,161)\"], [0.375, \"rgb(252,146,114)\"], [0.5, \"rgb(251,106,74)\"], [0.625, \"rgb(239,59,44)\"], [0.75, \"rgb(203,24,29)\"], [0.875, \"rgb(165,15,21)\"], [1.0, \"rgb(103,0,13)\"]], \"locationmode\": \"USA-states\", \"locations\": [\"AK\", \"AL\", \"AR\", \"AS\", \"AZ\", \"CA\", \"CO\", \"CT\", \"DC\", \"DE\", \"FL\", \"GA\", \"GU\", \"HI\", \"IA\", \"ID\", \"IL\", \"IN\", \"KS\", \"KY\", \"LA\", \"MA\", \"MD\", \"ME\", \"MI\", \"MN\", \"MO\", \"MP\", \"MS\", \"MT\", \"NC\", \"ND\", \"NE\", \"NH\", \"NJ\", \"NM\", \"NV\", \"NY\", \"OH\", \"OK\", \"OR\", \"PA\", \"PR\", \"RI\", \"SC\", \"SD\", \"TN\", \"TX\", \"UT\", \"VA\", \"VI\", \"VT\", \"WA\", \"WI\", \"WV\", \"WY\", \"norm\"], \"name\": \"1988\", \"reversescale\": false, \"type\": \"choropleth\", \"z\": [0.0, 172052.0, 17237.0, 0.0, 3853432.0, 785489.0, 5121.0, 87297.0, 0.0, 12927.0, 133637.0, 30529.0, 0.0, 0.0, 478126.0, 0.0, 1566786.0, 2734939.0, 222395.0, 558410.0, 181957.0, 43173.0, 295576.0, 500.0, 1509655.0, 391079.0, 8460637.0, 0.0, 1105887.0, 2158033.0, 78758.0, 383.0, 413607.0, 47233.0, 436128.0, 1127326.0, 12000.0, 2072878.0, 2274403.0, 10585.0, 385350.0, 1914925.0, 12351.0, 23361.0, 203606.0, 0.0, 53498.0, 1820190.0, 8353.0, 155488.0, 400.0, 2211.0, 52475.0, 1197691.0, 352585.0, 0.0, 1463539318.1099997]}, {\"colorbar\": {\"title\": {\"text\": \"Pounds Released Per Year\"}}, \"colorscale\": [[0.0, \"rgb(255,245,240)\"], [0.125, \"rgb(254,224,210)\"], [0.25, \"rgb(252,187,161)\"], [0.375, \"rgb(252,146,114)\"], [0.5, \"rgb(251,106,74)\"], [0.625, \"rgb(239,59,44)\"], [0.75, \"rgb(203,24,29)\"], [0.875, \"rgb(165,15,21)\"], [1.0, \"rgb(103,0,13)\"]], \"locationmode\": \"USA-states\", \"locations\": [\"AK\", \"AL\", \"AR\", \"AS\", \"AZ\", \"CA\", \"CO\", \"CT\", \"DC\", \"DE\", \"FL\", \"GA\", \"GU\", \"HI\", \"IA\", \"ID\", \"IL\", \"IN\", \"KS\", \"KY\", \"LA\", \"MA\", \"MD\", \"ME\", \"MI\", \"MN\", \"MO\", \"MP\", \"MS\", \"MT\", \"NC\", \"ND\", \"NE\", \"NH\", \"NJ\", \"NM\", \"NV\", \"NY\", \"OH\", \"OK\", \"OR\", \"PA\", \"PR\", \"RI\", \"SC\", \"SD\", \"TN\", \"TX\", \"UT\", \"VA\", \"VI\", \"VT\", \"WA\", \"WI\", \"WV\", \"WY\", \"norm\"], \"name\": \"1989\", \"reversescale\": false, \"type\": \"choropleth\", \"z\": [0.0, 248464.0, 27800.0, 0.0, 1422597.0, 456363.0, 1184.0, 177565.0, 0.0, 13368.0, 59116.0, 108135.0, 0.0, 0.0, 62584.0, 0.0, 1761406.0, 2654942.0, 802316.0, 624836.0, 251312.0, 72345.0, 51466.0, 276.0, 104833.0, 261481.0, 7046013.0, 0.0, 14282.0, 3091305.0, 172972.0, 199.0, 552268.0, 130156.0, 783835.0, 72976.0, 0.0, 2588629.0, 1901020.0, 5711.0, 57548.0, 1959535.0, 9054.0, 52562.0, 825552.0, 0.0, 73362.0, 1133867.0, 8955.0, 260425.0, 1110.0, 1935.0, 137584.0, 2076117.0, 28998.0, 258.0, 1463539318.1099997]}, {\"colorbar\": {\"title\": {\"text\": \"Pounds Released Per Year\"}}, \"colorscale\": [[0.0, \"rgb(255,245,240)\"], [0.125, \"rgb(254,224,210)\"], [0.25, \"rgb(252,187,161)\"], [0.375, \"rgb(252,146,114)\"], [0.5, \"rgb(251,106,74)\"], [0.625, \"rgb(239,59,44)\"], [0.75, \"rgb(203,24,29)\"], [0.875, \"rgb(165,15,21)\"], [1.0, \"rgb(103,0,13)\"]], \"locationmode\": \"USA-states\", \"locations\": [\"AK\", \"AL\", \"AR\", \"AS\", \"AZ\", \"CA\", \"CO\", \"CT\", \"DC\", \"DE\", \"FL\", \"GA\", \"GU\", \"HI\", \"IA\", \"ID\", \"IL\", \"IN\", \"KS\", \"KY\", \"LA\", \"MA\", \"MD\", \"ME\", \"MI\", \"MN\", \"MO\", \"MP\", \"MS\", \"MT\", \"NC\", \"ND\", \"NE\", \"NH\", \"NJ\", \"NM\", \"NV\", \"NY\", \"OH\", \"OK\", \"OR\", \"PA\", \"PR\", \"RI\", \"SC\", \"SD\", \"TN\", \"TX\", \"UT\", \"VA\", \"VI\", \"VT\", \"WA\", \"WI\", \"WV\", \"WY\", \"norm\"], \"name\": \"1990\", \"reversescale\": false, \"type\": \"choropleth\", \"z\": [0.0, 323620.0, 352908.0, 0.0, 2385789.0, 805188.0, 1127.0, 222500.0, 0.0, 2728.0, 47723.0, 171332.0, 0.0, 0.0, 84902.0, 0.0, 2304303.0, 1923103.0, 240745.0, 508509.0, 217148.0, 76935.0, 31899.0, 453.0, 241760.0, 252355.0, 5880675.0, 0.0, 8841.0, 3112484.0, 113441.0, 42341.0, 705606.0, 44800.0, 1376910.0, 196369.0, 5.0, 1837667.0, 1959752.0, 32201.0, 28037.0, 2326851.0, 220.0, 24563.0, 131793.0, 0.0, 83137.0, 735019.0, 30244887.0, 162755.0, 18162.0, 2349.0, 103451.0, 141124.0, 44476.0, 884.0, 1463539318.1099997]}, {\"colorbar\": {\"title\": {\"text\": \"Pounds Released Per Year\"}}, \"colorscale\": [[0.0, \"rgb(255,245,240)\"], [0.125, \"rgb(254,224,210)\"], [0.25, \"rgb(252,187,161)\"], [0.375, \"rgb(252,146,114)\"], [0.5, \"rgb(251,106,74)\"], [0.625, \"rgb(239,59,44)\"], [0.75, \"rgb(203,24,29)\"], [0.875, \"rgb(165,15,21)\"], [1.0, \"rgb(103,0,13)\"]], \"locationmode\": \"USA-states\", \"locations\": [\"AK\", \"AL\", \"AR\", \"AS\", \"AZ\", \"CA\", \"CO\", \"CT\", \"DC\", \"DE\", \"FL\", \"GA\", \"GU\", \"HI\", \"IA\", \"ID\", \"IL\", \"IN\", \"KS\", \"KY\", \"LA\", \"MA\", \"MD\", \"ME\", \"MI\", \"MN\", \"MO\", \"MP\", \"MS\", \"MT\", \"NC\", \"ND\", \"NE\", \"NH\", \"NJ\", \"NM\", \"NV\", \"NY\", \"OH\", \"OK\", \"OR\", \"PA\", \"PR\", \"RI\", \"SC\", \"SD\", \"TN\", \"TX\", \"UT\", \"VA\", \"VI\", \"VT\", \"WA\", \"WI\", \"WV\", \"WY\", \"norm\"], \"name\": \"1991\", \"reversescale\": false, \"type\": \"choropleth\", \"z\": [0.0, 267718.0, 144934.0, 0.0, 2939352.0, 1457371.0, 14786.0, 195406.0, 0.0, 5618.0, 411040.0, 256445.0, 0.0, 0.0, 125302.0, 0.0, 1007046.0, 1442361.0, 15673.0, 204461.0, 22309.0, 119917.0, 16613.0, 25.0, 388664.0, 265948.0, 5354336.0, 0.0, 61802.0, 3033137.0, 92738.0, 3462.0, 307042.0, 7283.0, 929397.0, 580462.0, 0.0, 1352735.0, 2654837.0, 8432.0, 2155.0, 1770384.0, 63925.0, 102615.0, 430189.0, 0.0, 180954.0, 902857.0, 1307381.0, 117913.0, 1300.0, 3762.0, 16802.0, 694086.0, 25806.0, 0.0, 1463539318.1099997]}, {\"colorbar\": {\"title\": {\"text\": \"Pounds Released Per Year\"}}, \"colorscale\": [[0.0, \"rgb(255,245,240)\"], [0.125, \"rgb(254,224,210)\"], [0.25, \"rgb(252,187,161)\"], [0.375, \"rgb(252,146,114)\"], [0.5, \"rgb(251,106,74)\"], [0.625, \"rgb(239,59,44)\"], [0.75, \"rgb(203,24,29)\"], [0.875, \"rgb(165,15,21)\"], [1.0, \"rgb(103,0,13)\"]], \"locationmode\": \"USA-states\", \"locations\": [\"AK\", \"AL\", \"AR\", \"AS\", \"AZ\", \"CA\", \"CO\", \"CT\", \"DC\", \"DE\", \"FL\", \"GA\", \"GU\", \"HI\", \"IA\", \"ID\", \"IL\", \"IN\", \"KS\", \"KY\", \"LA\", \"MA\", \"MD\", \"ME\", \"MI\", \"MN\", \"MO\", \"MP\", \"MS\", \"MT\", \"NC\", \"ND\", \"NE\", \"NH\", \"NJ\", \"NM\", \"NV\", \"NY\", \"OH\", \"OK\", \"OR\", \"PA\", \"PR\", \"RI\", \"SC\", \"SD\", \"TN\", \"TX\", \"UT\", \"VA\", \"VI\", \"VT\", \"WA\", \"WI\", \"WV\", \"WY\", \"norm\"], \"name\": \"1992\", \"reversescale\": false, \"type\": \"choropleth\", \"z\": [0.0, 83875.0, 14595.0, 0.0, 1267.0, 4485.0, 221.0, 13843.0, 0.0, 0.0, 0.0, 2049.0, 0.0, 0.0, 4826.0, 0.0, 40214.0, 489592.0, 5098.0, 3361.0, 305.0, 5260.0, 0.0, 0.0, 5460.0, 2403.0, 67836.0, 0.0, 5.0, 0.0, 6535.0, 0.0, 55700.0, 0.0, 64908.0, 500.0, 0.0, 870896.0, 636561.0, 250.0, 0.0, 694951.0, 0.0, 15.0, 69971.0, 0.0, 500.0, 9364.0, 0.0, 1087.0, 57181.0, 0.0, 500.0, 255.0, 0.0, 0.0, 1463539318.1099997]}, {\"colorbar\": {\"title\": {\"text\": \"Pounds Released Per Year\"}}, \"colorscale\": [[0.0, \"rgb(255,245,240)\"], [0.125, \"rgb(254,224,210)\"], [0.25, \"rgb(252,187,161)\"], [0.375, \"rgb(252,146,114)\"], [0.5, \"rgb(251,106,74)\"], [0.625, \"rgb(239,59,44)\"], [0.75, \"rgb(203,24,29)\"], [0.875, \"rgb(165,15,21)\"], [1.0, \"rgb(103,0,13)\"]], \"locationmode\": \"USA-states\", \"locations\": [\"AK\", \"AL\", \"AR\", \"AS\", \"AZ\", \"CA\", \"CO\", \"CT\", \"DC\", \"DE\", \"FL\", \"GA\", \"GU\", \"HI\", \"IA\", \"ID\", \"IL\", \"IN\", \"KS\", \"KY\", \"LA\", \"MA\", \"MD\", \"ME\", \"MI\", \"MN\", \"MO\", \"MP\", \"MS\", \"MT\", \"NC\", \"ND\", \"NE\", \"NH\", \"NJ\", \"NM\", \"NV\", \"NY\", \"OH\", \"OK\", \"OR\", \"PA\", \"PR\", \"RI\", \"SC\", \"SD\", \"TN\", \"TX\", \"UT\", \"VA\", \"VI\", \"VT\", \"WA\", \"WI\", \"WV\", \"WY\", \"norm\"], \"name\": \"1993\", \"reversescale\": false, \"type\": \"choropleth\", \"z\": [0.0, 680458.0, 358258.0, 0.0, 1050594.0, 2376594.0, 47248.0, 341758.0, 0.0, 65796.0, 589632.0, 419380.0, 0.0, 0.0, 122962.0, 0.0, 3021922.0, 8695636.0, 189500.0, 199516.0, 193610.0, 215404.0, 32228.0, 20.0, 348112.0, 293716.0, 5229182.0, 0.0, 64008.0, 8192574.0, 153840.0, 644.0, 1332852.0, 9696.0, 1174832.0, 2707544.0, 0.0, 1715118.0, 3297144.0, 523196.0, 5150.0, 18025026.0, 39190.0, 84196.0, 706018.0, 0.0, 457834.0, 1537782.0, 6703996.0, 218918.0, 950.0, 2200.0, 10192.0, 777748.0, 12120.0, 0.0, 1463539318.1099997]}, {\"colorbar\": {\"title\": {\"text\": \"Pounds Released Per Year\"}}, \"colorscale\": [[0.0, \"rgb(255,245,240)\"], [0.125, \"rgb(254,224,210)\"], [0.25, \"rgb(252,187,161)\"], [0.375, \"rgb(252,146,114)\"], [0.5, \"rgb(251,106,74)\"], [0.625, \"rgb(239,59,44)\"], [0.75, \"rgb(203,24,29)\"], [0.875, \"rgb(165,15,21)\"], [1.0, \"rgb(103,0,13)\"]], \"locationmode\": \"USA-states\", \"locations\": [\"AK\", \"AL\", \"AR\", \"AS\", \"AZ\", \"CA\", \"CO\", \"CT\", \"DC\", \"DE\", \"FL\", \"GA\", \"GU\", \"HI\", \"IA\", \"ID\", \"IL\", \"IN\", \"KS\", \"KY\", \"LA\", \"MA\", \"MD\", \"ME\", \"MI\", \"MN\", \"MO\", \"MP\", \"MS\", \"MT\", \"NC\", \"ND\", \"NE\", \"NH\", \"NJ\", \"NM\", \"NV\", \"NY\", \"OH\", \"OK\", \"OR\", \"PA\", \"PR\", \"RI\", \"SC\", \"SD\", \"TN\", \"TX\", \"UT\", \"VA\", \"VI\", \"VT\", \"WA\", \"WI\", \"WV\", \"WY\", \"norm\"], \"name\": \"1994\", \"reversescale\": false, \"type\": \"choropleth\", \"z\": [0.0, 265382.0, 613098.0, 0.0, 5468644.0, 4278610.0, 26946.0, 258882.0, 0.0, 13936.0, 533624.0, 654334.0, 0.0, 0.0, 167548.0, 22268.0, 3481158.0, 5404856.0, 181514.0, 344712.0, 355766.0, 312344.0, 25846.0, 0.0, 388306.0, 208332.0, 14006832.0, 0.0, 54112.0, 9625382.0, 100670.0, 14518.0, 2286362.0, 14510.0, 1180118.0, 2562814.0, 0.0, 6883638.0, 3731408.0, 657796.0, 6932.0, 16456074.0, 28812.0, 126172.0, 590194.0, 50.0, 407460.0, 1793382.0, 3439688.0, 261072.0, 0.0, 400.0, 8010.0, 955878.0, 127254.0, 0.0, 1463539318.1099997]}, {\"colorbar\": {\"title\": {\"text\": \"Pounds Released Per Year\"}}, \"colorscale\": [[0.0, \"rgb(255,245,240)\"], [0.125, \"rgb(254,224,210)\"], [0.25, \"rgb(252,187,161)\"], [0.375, \"rgb(252,146,114)\"], [0.5, \"rgb(251,106,74)\"], [0.625, \"rgb(239,59,44)\"], [0.75, \"rgb(203,24,29)\"], [0.875, \"rgb(165,15,21)\"], [1.0, \"rgb(103,0,13)\"]], \"locationmode\": \"USA-states\", \"locations\": [\"AK\", \"AL\", \"AR\", \"AS\", \"AZ\", \"CA\", \"CO\", \"CT\", \"DC\", \"DE\", \"FL\", \"GA\", \"GU\", \"HI\", \"IA\", \"ID\", \"IL\", \"IN\", \"KS\", \"KY\", \"LA\", \"MA\", \"MD\", \"ME\", \"MI\", \"MN\", \"MO\", \"MP\", \"MS\", \"MT\", \"NC\", \"ND\", \"NE\", \"NH\", \"NJ\", \"NM\", \"NV\", \"NY\", \"OH\", \"OK\", \"OR\", \"PA\", \"PR\", \"RI\", \"SC\", \"SD\", \"TN\", \"TX\", \"UT\", \"VA\", \"VI\", \"VT\", \"WA\", \"WI\", \"WV\", \"WY\", \"norm\"], \"name\": \"1995\", \"reversescale\": false, \"type\": \"choropleth\", \"z\": [0.0, 529834.0, 201732.0, 0.0, 7195952.0, 5095312.0, 10806.0, 261070.0, 0.0, 149178.0, 1009394.0, 953188.0, 0.0, 0.0, 174828.0, 46134.0, 3197538.0, 5682802.0, 290158.0, 426236.0, 368440.0, 524116.0, 26206.0, 14.0, 371048.0, 254156.0, 3971516.0, 0.0, 339490.0, 8072454.0, 137798.0, 816.0, 1961834.0, 20244.0, 704054.0, 2390710.0, 0.0, 1906324.0, 3683368.0, 373556.0, 2938.0, 12809170.0, 27116.0, 209658.0, 523122.0, 50.0, 482798.0, 1778848.0, 1865866.0, 165264.0, 0.0, 3300.0, 6920.0, 600818.0, 98628.0, 0.0, 1463539318.1099997]}, {\"colorbar\": {\"title\": {\"text\": \"Pounds Released Per Year\"}}, \"colorscale\": [[0.0, \"rgb(255,245,240)\"], [0.125, \"rgb(254,224,210)\"], [0.25, \"rgb(252,187,161)\"], [0.375, \"rgb(252,146,114)\"], [0.5, \"rgb(251,106,74)\"], [0.625, \"rgb(239,59,44)\"], [0.75, \"rgb(203,24,29)\"], [0.875, \"rgb(165,15,21)\"], [1.0, \"rgb(103,0,13)\"]], \"locationmode\": \"USA-states\", \"locations\": [\"AK\", \"AL\", \"AR\", \"AS\", \"AZ\", \"CA\", \"CO\", \"CT\", \"DC\", \"DE\", \"FL\", \"GA\", \"GU\", \"HI\", \"IA\", \"ID\", \"IL\", \"IN\", \"KS\", \"KY\", \"LA\", \"MA\", \"MD\", \"ME\", \"MI\", \"MN\", \"MO\", \"MP\", \"MS\", \"MT\", \"NC\", \"ND\", \"NE\", \"NH\", \"NJ\", \"NM\", \"NV\", \"NY\", \"OH\", \"OK\", \"OR\", \"PA\", \"PR\", \"RI\", \"SC\", \"SD\", \"TN\", \"TX\", \"UT\", \"VA\", \"VI\", \"VT\", \"WA\", \"WI\", \"WV\", \"WY\", \"norm\"], \"name\": \"1996\", \"reversescale\": false, \"type\": \"choropleth\", \"z\": [0.0, 590012.0, 440830.0, 0.0, 7383886.0, 5321344.0, 51086.0, 190408.0, 0.0, 151904.0, 1570022.0, 2511742.0, 0.0, 0.0, 208502.0, 87570.0, 3015584.0, 5525314.0, 566434.0, 337192.0, 309576.0, 189082.0, 34656.0, 8.0, 120930.0, 222872.0, 3981912.0, 0.0, 368898.0, 7481620.0, 546950.0, 5170.0, 1645846.0, 26172.0, 975446.0, 1817896.0, 0.0, 1070646.0, 4906130.0, 370342.0, 787186.0, 10983162.0, 30684.0, 131164.0, 1143028.0, 50.0, 2364660.0, 1367136.0, 2596210.0, 234320.0, 0.0, 1192.0, 13692.0, 443510.0, 158834.0, 0.0, 1463539318.1099997]}, {\"colorbar\": {\"title\": {\"text\": \"Pounds Released Per Year\"}}, \"colorscale\": [[0.0, \"rgb(255,245,240)\"], [0.125, \"rgb(254,224,210)\"], [0.25, \"rgb(252,187,161)\"], [0.375, \"rgb(252,146,114)\"], [0.5, \"rgb(251,106,74)\"], [0.625, \"rgb(239,59,44)\"], [0.75, \"rgb(203,24,29)\"], [0.875, \"rgb(165,15,21)\"], [1.0, \"rgb(103,0,13)\"]], \"locationmode\": \"USA-states\", \"locations\": [\"AK\", \"AL\", \"AR\", \"AS\", \"AZ\", \"CA\", \"CO\", \"CT\", \"DC\", \"DE\", \"FL\", \"GA\", \"GU\", \"HI\", \"IA\", \"ID\", \"IL\", \"IN\", \"KS\", \"KY\", \"LA\", \"MA\", \"MD\", \"ME\", \"MI\", \"MN\", \"MO\", \"MP\", \"MS\", \"MT\", \"NC\", \"ND\", \"NE\", \"NH\", \"NJ\", \"NM\", \"NV\", \"NY\", \"OH\", \"OK\", \"OR\", \"PA\", \"PR\", \"RI\", \"SC\", \"SD\", \"TN\", \"TX\", \"UT\", \"VA\", \"VI\", \"VT\", \"WA\", \"WI\", \"WV\", \"WY\", \"norm\"], \"name\": \"1997\", \"reversescale\": false, \"type\": \"choropleth\", \"z\": [0.0, 859730.0, 1117478.0, 0.0, 6559502.0, 4892450.0, 130358.0, 80368.0, 0.0, 212230.0, 1634429.2, 3837412.0, 0.0, 0.0, 508810.0, 37672.0, 4715104.0, 7063086.0, 350504.0, 722350.0, 230010.0, 345396.0, 49838.0, 18.0, 194526.0, 312742.0, 4414596.0, 0.0, 600158.0, 7804696.0, 646098.0, 5836.0, 11443504.0, 33118.0, 899348.0, 1694954.0, 0.0, 2642890.0, 4244016.0, 505982.0, 960180.0, 8095360.0, 9204.0, 161644.0, 1337932.0, 50.0, 1078998.0, 3179512.0, 10841398.0, 373892.0, 0.0, 662.0, 672956.0, 1423452.0, 214086.0, 0.0, 1463539318.1099997]}, {\"colorbar\": {\"title\": {\"text\": \"Pounds Released Per Year\"}}, \"colorscale\": [[0.0, \"rgb(255,245,240)\"], [0.125, \"rgb(254,224,210)\"], [0.25, \"rgb(252,187,161)\"], [0.375, \"rgb(252,146,114)\"], [0.5, \"rgb(251,106,74)\"], [0.625, \"rgb(239,59,44)\"], [0.75, \"rgb(203,24,29)\"], [0.875, \"rgb(165,15,21)\"], [1.0, \"rgb(103,0,13)\"]], \"locationmode\": \"USA-states\", \"locations\": [\"AK\", \"AL\", \"AR\", \"AS\", \"AZ\", \"CA\", \"CO\", \"CT\", \"DC\", \"DE\", \"FL\", \"GA\", \"GU\", \"HI\", \"IA\", \"ID\", \"IL\", \"IN\", \"KS\", \"KY\", \"LA\", \"MA\", \"MD\", \"ME\", \"MI\", \"MN\", \"MO\", \"MP\", \"MS\", \"MT\", \"NC\", \"ND\", \"NE\", \"NH\", \"NJ\", \"NM\", \"NV\", \"NY\", \"OH\", \"OK\", \"OR\", \"PA\", \"PR\", \"RI\", \"SC\", \"SD\", \"TN\", \"TX\", \"UT\", \"VA\", \"VI\", \"VT\", \"WA\", \"WI\", \"WV\", \"WY\", \"norm\"], \"name\": \"1998\", \"reversescale\": false, \"type\": \"choropleth\", \"z\": [165861954.0, 8255730.0, 722488.0, 0.0, 35142872.0, 13763778.18, 2208570.0, 97444.0, 0.0, 269172.0, 3560188.0, 3288042.0, 0.0, 0.0, 1296802.0, 13809300.0, 7937930.0, 8669684.0, 295236.0, 1906762.0, 774504.0, 2829824.0, 46564.0, 0.0, 4967784.0, 742514.0, 56431362.0, 0.0, 383332.0, 31926014.0, 436628.0, 280648.0, 756530.0, 30934.0, 1376412.0, 13330770.0, 120519194.0, 7974204.0, 7337846.0, 3965838.0, 1813532.0, 15968092.0, 9866.0, 82372.0, 2449606.0, 40.0, 2278834.0, 5730282.0, 18423502.0, 612628.58, 0.0, 740.0, 1171534.0, 549320.0, 993976.0, 559710.0, 1463539318.1099997]}, {\"colorbar\": {\"title\": {\"text\": \"Pounds Released Per Year\"}}, \"colorscale\": [[0.0, \"rgb(255,245,240)\"], [0.125, \"rgb(254,224,210)\"], [0.25, \"rgb(252,187,161)\"], [0.375, \"rgb(252,146,114)\"], [0.5, \"rgb(251,106,74)\"], [0.625, \"rgb(239,59,44)\"], [0.75, \"rgb(203,24,29)\"], [0.875, \"rgb(165,15,21)\"], [1.0, \"rgb(103,0,13)\"]], \"locationmode\": \"USA-states\", \"locations\": [\"AK\", \"AL\", \"AR\", \"AS\", \"AZ\", \"CA\", \"CO\", \"CT\", \"DC\", \"DE\", \"FL\", \"GA\", \"GU\", \"HI\", \"IA\", \"ID\", \"IL\", \"IN\", \"KS\", \"KY\", \"LA\", \"MA\", \"MD\", \"ME\", \"MI\", \"MN\", \"MO\", \"MP\", \"MS\", \"MT\", \"NC\", \"ND\", \"NE\", \"NH\", \"NJ\", \"NM\", \"NV\", \"NY\", \"OH\", \"OK\", \"OR\", \"PA\", \"PR\", \"RI\", \"SC\", \"SD\", \"TN\", \"TX\", \"UT\", \"VA\", \"VI\", \"VT\", \"WA\", \"WI\", \"WV\", \"WY\", \"norm\"], \"name\": \"1999\", \"reversescale\": false, \"type\": \"choropleth\", \"z\": [174621504.0, 6956024.0, 3100404.0, 0.0, 16646856.0, 5819308.039999999, 479520.0, 83070.0, 0.0, 156292.0, 987967.8, 3127528.0, 0.0, 0.0, 1739070.0, 13183378.0, 7494188.0, 7796216.0, 370146.0, 2014760.0, 1203556.0, 1671122.0, 37046.0, 0.0, 9372992.0, 624398.0, 60238194.0, 0.0, 509330.0, 27837248.0, 519478.0, 279152.0, 824330.0, 12004.0, 2160680.0, 18505816.0, 73736842.0, 11284192.0, 6980916.0, 4904946.0, 1664032.0, 13132598.0, 8266.0, 43814.0, 1376532.0, 0.0, 2719802.0, 2159710.0, 92043224.0, 516960.56, 0.0, 4410.0, 631882.0, 564880.0, 882406.0, 882400.0, 1463539318.1099997]}, {\"colorbar\": {\"title\": {\"text\": \"Pounds Released Per Year\"}}, \"colorscale\": [[0.0, \"rgb(255,245,240)\"], [0.125, \"rgb(254,224,210)\"], [0.25, \"rgb(252,187,161)\"], [0.375, \"rgb(252,146,114)\"], [0.5, \"rgb(251,106,74)\"], [0.625, \"rgb(239,59,44)\"], [0.75, \"rgb(203,24,29)\"], [0.875, \"rgb(165,15,21)\"], [1.0, \"rgb(103,0,13)\"]], \"locationmode\": \"USA-states\", \"locations\": [\"AK\", \"AL\", \"AR\", \"AS\", \"AZ\", \"CA\", \"CO\", \"CT\", \"DC\", \"DE\", \"FL\", \"GA\", \"GU\", \"HI\", \"IA\", \"ID\", \"IL\", \"IN\", \"KS\", \"KY\", \"LA\", \"MA\", \"MD\", \"ME\", \"MI\", \"MN\", \"MO\", \"MP\", \"MS\", \"MT\", \"NC\", \"ND\", \"NE\", \"NH\", \"NJ\", \"NM\", \"NV\", \"NY\", \"OH\", \"OK\", \"OR\", \"PA\", \"PR\", \"RI\", \"SC\", \"SD\", \"TN\", \"TX\", \"UT\", \"VA\", \"VI\", \"VT\", \"WA\", \"WI\", \"WV\", \"WY\", \"norm\"], \"name\": \"2000\", \"reversescale\": false, \"type\": \"choropleth\", \"z\": [273284228.0, 4680938.0, 5265154.0, 0.0, 5097578.0, 8971011.56, 822974.0, 104594.0, 0.0, 101852.0, 1214706.0, 2622158.0, 0.0, 0.0, 1872704.0, 14580914.0, 6800215.800000001, 6823088.0, 153312.40000000002, 1884314.2400000002, 619354.0, 657331.72, 82392.0, 0.0, 2209706.0, 683511.0, 55254900.0, 0.0, 922506.0, 36543862.0, 710142.0, 332738.0, 2826182.0, 11146.0, 1792442.0, 20443412.0, 116874144.0, 1759408.0, 7106786.199999999, 945680.0, 3331462.0, 13240596.0, 9532.0, 45666.0, 1560380.0, 36406.0, 2761308.0, 2783568.0, 46719202.0, 485251.10000000003, 0.0, 6056.0, 569100.0, 582694.0, 1028128.0, 860554.0, 1463539318.1099997]}, {\"colorbar\": {\"title\": {\"text\": \"Pounds Released Per Year\"}}, \"colorscale\": [[0.0, \"rgb(255,245,240)\"], [0.125, \"rgb(254,224,210)\"], [0.25, \"rgb(252,187,161)\"], [0.375, \"rgb(252,146,114)\"], [0.5, \"rgb(251,106,74)\"], [0.625, \"rgb(239,59,44)\"], [0.75, \"rgb(203,24,29)\"], [0.875, \"rgb(165,15,21)\"], [1.0, \"rgb(103,0,13)\"]], \"locationmode\": \"USA-states\", \"locations\": [\"AK\", \"AL\", \"AR\", \"AS\", \"AZ\", \"CA\", \"CO\", \"CT\", \"DC\", \"DE\", \"FL\", \"GA\", \"GU\", \"HI\", \"IA\", \"ID\", \"IL\", \"IN\", \"KS\", \"KY\", \"LA\", \"MA\", \"MD\", \"ME\", \"MI\", \"MN\", \"MO\", \"MP\", \"MS\", \"MT\", \"NC\", \"ND\", \"NE\", \"NH\", \"NJ\", \"NM\", \"NV\", \"NY\", \"OH\", \"OK\", \"OR\", \"PA\", \"PR\", \"RI\", \"SC\", \"SD\", \"TN\", \"TX\", \"UT\", \"VA\", \"VI\", \"VT\", \"WA\", \"WI\", \"WV\", \"WY\", \"norm\"], \"name\": \"2001\", \"reversescale\": false, \"type\": \"choropleth\", \"z\": [290358497.6000001, 5103967.820000001, 3394347.539999999, 0.0, 22877870.660000004, 2158061.900000001, 16381468.120000003, 1424203.94, 0.0, 172348.68, 1806367.6199999994, 940824.14, 254.60000000000002, 18884.0, 1738019.86, 7426643.42, 5906012.079999998, 7719667.360000001, 259092.34, 2677356.8800000004, 1415140.7400000002, 668432.3800000001, 392680.56, 605512.5199999999, 3427127.7799999984, 975592.7999999996, 63636759.90000001, 9.6, 815879.2399999998, 24366575.720000003, 1330169.5199999996, 371638.69999999995, 2617016.46, 11193.940000000002, 6631375.28, 14514835.399999999, 75961661.1, 2347504.319999999, 6853694.8, 954225.8399999999, 1741202.6000000003, 10668716.060000002, 34105.82, 20107.94, 2365281.6199999996, 5972890.899999999, 12968061.54, 4916060.06, 192611239.23999995, 867689.1799999999, 926.0, 10230.58, 699303.6599999999, 829852.5000000003, 1361590.8, 694504.0399999999, 1463539318.1099997]}, {\"colorbar\": {\"title\": {\"text\": \"Pounds Released Per Year\"}}, \"colorscale\": [[0.0, \"rgb(255,245,240)\"], [0.125, \"rgb(254,224,210)\"], [0.25, \"rgb(252,187,161)\"], [0.375, \"rgb(252,146,114)\"], [0.5, \"rgb(251,106,74)\"], [0.625, \"rgb(239,59,44)\"], [0.75, \"rgb(203,24,29)\"], [0.875, \"rgb(165,15,21)\"], [1.0, \"rgb(103,0,13)\"]], \"locationmode\": \"USA-states\", \"locations\": [\"AK\", \"AL\", \"AR\", \"AS\", \"AZ\", \"CA\", \"CO\", \"CT\", \"DC\", \"DE\", \"FL\", \"GA\", \"GU\", \"HI\", \"IA\", \"ID\", \"IL\", \"IN\", \"KS\", \"KY\", \"LA\", \"MA\", \"MD\", \"ME\", \"MI\", \"MN\", \"MO\", \"MP\", \"MS\", \"MT\", \"NC\", \"ND\", \"NE\", \"NH\", \"NJ\", \"NM\", \"NV\", \"NY\", \"OH\", \"OK\", \"OR\", \"PA\", \"PR\", \"RI\", \"SC\", \"SD\", \"TN\", \"TX\", \"UT\", \"VA\", \"VI\", \"VT\", \"WA\", \"WI\", \"WV\", \"WY\", \"norm\"], \"name\": \"2002\", \"reversescale\": false, \"type\": \"choropleth\", \"z\": [411397898.5, 5815053.66, 1506645.6400000001, 0.0, 23666154.48, 9666246.739999998, 11192189.72, 11332046.120000005, 0.0, 173150.43999999997, 1424184.4000000004, 1401998.3000000003, 224.20000000000002, 16617.980000000003, 2013049.1800000004, 4901230.34, 7662818.739999998, 10947994.699999997, 254714.22, 1879384.3399999996, 2204288.3000000003, 374299.98, 469061.10000000003, 46120.85999999999, 2209894.4, 1384014.9999999998, 51569828.620000005, 6.8, 837471.8, 10958573.260000002, 1807179.5400000005, 585072.4599999998, 3100921.58, 9756.300000000003, 2114609.66, 3589322.2199999997, 48526569.85999999, 1594555.1199999996, 9990116.360000003, 643169.9600000002, 2985428.5999999996, 11404186.419999996, 50901.6, 15588.78, 2235653.1399999997, 9301891.88, 3190226.479999999, 4681124.739999998, 105892875.87999998, 884558.6399999999, 1354.0, 6813.02, 590284.3800000002, 686441.6800000002, 1547202.4, 289053.89999999997, 1463539318.1099997]}, {\"colorbar\": {\"title\": {\"text\": \"Pounds Released Per Year\"}}, \"colorscale\": [[0.0, \"rgb(255,245,240)\"], [0.125, \"rgb(254,224,210)\"], [0.25, \"rgb(252,187,161)\"], [0.375, \"rgb(252,146,114)\"], [0.5, \"rgb(251,106,74)\"], [0.625, \"rgb(239,59,44)\"], [0.75, \"rgb(203,24,29)\"], [0.875, \"rgb(165,15,21)\"], [1.0, \"rgb(103,0,13)\"]], \"locationmode\": \"USA-states\", \"locations\": [\"AK\", \"AL\", \"AR\", \"AS\", \"AZ\", \"CA\", \"CO\", \"CT\", \"DC\", \"DE\", \"FL\", \"GA\", \"GU\", \"HI\", \"IA\", \"ID\", \"IL\", \"IN\", \"KS\", \"KY\", \"LA\", \"MA\", \"MD\", \"ME\", \"MI\", \"MN\", \"MO\", \"MP\", \"MS\", \"MT\", \"NC\", \"ND\", \"NE\", \"NH\", \"NJ\", \"NM\", \"NV\", \"NY\", \"OH\", \"OK\", \"OR\", \"PA\", \"PR\", \"RI\", \"SC\", \"SD\", \"TN\", \"TX\", \"UT\", \"VA\", \"VI\", \"VT\", \"WA\", \"WI\", \"WV\", \"WY\", \"norm\"], \"name\": \"2003\", \"reversescale\": false, \"type\": \"choropleth\", \"z\": [359410074.98, 4834123.540000001, 1269171.8400000003, 0.0, 9848998.84, 15827386.540000001, 10911464.18, 405651.1400000001, 0.0, 182846.20000000004, 1030950.0800000004, 1076220.8999999997, 384.64, 18940.579999999998, 1896094.0, 6568686.920000001, 6008909.679999997, 11386855.699999997, 360999.4999999998, 2091276.7800000003, 2765597.680000002, 589936.9800000003, 375397.3199999999, 52200.84000000001, 1828605.4400000004, 1479241.28, 50299415.65999998, 6.5, 977171.2799999999, 32046336.740000002, 1877790.1999999995, 278615.98, 3027737.7599999993, 43601.14000000001, 1482419.2800000003, 4336580.48, 75035667.68, 1896598.160000001, 6981232.160000002, 597073.24, 1917835.58, 9780870.099999994, 45169.09999999999, 31614.519999999997, 2354740.640000002, 6595999.26, 13617369.58, 5040041.6599999955, 176099898.71999994, 898782.5199999999, 1082.0, 16260.919999999998, 625316.8400000001, 922868.9800000001, 1496405.8400000005, 275860.79999999993, 1463539318.1099997]}, {\"colorbar\": {\"title\": {\"text\": \"Pounds Released Per Year\"}}, \"colorscale\": [[0.0, \"rgb(255,245,240)\"], [0.125, \"rgb(254,224,210)\"], [0.25, \"rgb(252,187,161)\"], [0.375, \"rgb(252,146,114)\"], [0.5, \"rgb(251,106,74)\"], [0.625, \"rgb(239,59,44)\"], [0.75, \"rgb(203,24,29)\"], [0.875, \"rgb(165,15,21)\"], [1.0, \"rgb(103,0,13)\"]], \"locationmode\": \"USA-states\", \"locations\": [\"AK\", \"AL\", \"AR\", \"AS\", \"AZ\", \"CA\", \"CO\", \"CT\", \"DC\", \"DE\", \"FL\", \"GA\", \"GU\", \"HI\", \"IA\", \"ID\", \"IL\", \"IN\", \"KS\", \"KY\", \"LA\", \"MA\", \"MD\", \"ME\", \"MI\", \"MN\", \"MO\", \"MP\", \"MS\", \"MT\", \"NC\", \"ND\", \"NE\", \"NH\", \"NJ\", \"NM\", \"NV\", \"NY\", \"OH\", \"OK\", \"OR\", \"PA\", \"PR\", \"RI\", \"SC\", \"SD\", \"TN\", \"TX\", \"UT\", \"VA\", \"VI\", \"VT\", \"WA\", \"WI\", \"WV\", \"WY\", \"norm\"], \"name\": \"2004\", \"reversescale\": false, \"type\": \"choropleth\", \"z\": [299292066.9, 5901019.220000001, 1650376.9799999997, 0.0, 11792853.24, 10483827.760000004, 13625695.73999999, 305983.2, 0.0, 187808.34, 985735.1599999999, 1151037.78, 259.74, 10922.399999999998, 1955809.1199999996, 7420319.239999998, 6151391.880000004, 12259055.080000004, 401676.24000000005, 2016732.0000000002, 2308097.3800000004, 755229.6400000006, 651090.1399999999, 53095.999999999985, 1708278.4800000002, 843892.8799999997, 58172639.22, 4.6, 883712.2400000002, 30092135.399999995, 2012955.1200000006, 284661.80000000005, 2862763.98, 115145.82000000002, 1486559.4600000002, 1623281.2799999996, 211365675.38, 1898963.0000000002, 5451911.860000003, 907673.9400000001, 829664.1999999998, 9725086.339999998, 33627.159999999996, 9349.96, 1161553.8000000003, 2898581.92, 17688920.380000018, 5400160.540000001, 121574032.34000002, 873272.7200000002, 778.0, 19914.32, 7211508.179999999, 1060982.5399999993, 1835203.8799999997, 236801.56, 1463539318.1099997]}, {\"colorbar\": {\"title\": {\"text\": \"Pounds Released Per Year\"}}, \"colorscale\": [[0.0, \"rgb(255,245,240)\"], [0.125, \"rgb(254,224,210)\"], [0.25, \"rgb(252,187,161)\"], [0.375, \"rgb(252,146,114)\"], [0.5, \"rgb(251,106,74)\"], [0.625, \"rgb(239,59,44)\"], [0.75, \"rgb(203,24,29)\"], [0.875, \"rgb(165,15,21)\"], [1.0, \"rgb(103,0,13)\"]], \"locationmode\": \"USA-states\", \"locations\": [\"AK\", \"AL\", \"AR\", \"AS\", \"AZ\", \"CA\", \"CO\", \"CT\", \"DC\", \"DE\", \"FL\", \"GA\", \"GU\", \"HI\", \"IA\", \"ID\", \"IL\", \"IN\", \"KS\", \"KY\", \"LA\", \"MA\", \"MD\", \"ME\", \"MI\", \"MN\", \"MO\", \"MP\", \"MS\", \"MT\", \"NC\", \"ND\", \"NE\", \"NH\", \"NJ\", \"NM\", \"NV\", \"NY\", \"OH\", \"OK\", \"OR\", \"PA\", \"PR\", \"RI\", \"SC\", \"SD\", \"TN\", \"TX\", \"UT\", \"VA\", \"VI\", \"VT\", \"WA\", \"WI\", \"WV\", \"WY\", \"norm\"], \"name\": \"2005\", \"reversescale\": false, \"type\": \"choropleth\", \"z\": [395759180.14000005, 5823271.540000001, 2020156.380000002, 0.0, 12920833.739999998, 9406760.78, 12409852.74, 536097.0599999997, 0.0, 218800.43999999997, 960724.3999999996, 1153856.1399999994, 352.72, 10337.6, 2010077.6599999997, 10118335.959999999, 4893629.040000001, 13907798.759999998, 854594.7400000002, 1984998.64, 3115094.1400000006, 215757.35999999996, 529049.24, 42375.619999999995, 1898135.560000001, 866599.7399999999, 74171670.54, 4.8, 704144.5399999997, 25243438.8, 1876928.9400000004, 268245.24, 2337300.0799999996, 74673.90000000001, 1015673.4199999999, 7593352.62, 173177636.40000004, 7219385.660000002, 10702165.439999994, 1049360.4400000002, 1207066.44, 6948338.719999993, 32282.28, 7692.019999999999, 1575665.1800000006, 2088061.2199999995, 12646072.86, 4624254.779999999, 89757898.24000001, 1103844.98, 582.0, 3967.7799999999997, 9563952.359999992, 907601.0599999995, 1629758.4200000004, 221093.6, 1463539318.1099997]}, {\"colorbar\": {\"title\": {\"text\": \"Pounds Released Per Year\"}}, \"colorscale\": [[0.0, \"rgb(255,245,240)\"], [0.125, \"rgb(254,224,210)\"], [0.25, \"rgb(252,187,161)\"], [0.375, \"rgb(252,146,114)\"], [0.5, \"rgb(251,106,74)\"], [0.625, \"rgb(239,59,44)\"], [0.75, \"rgb(203,24,29)\"], [0.875, \"rgb(165,15,21)\"], [1.0, \"rgb(103,0,13)\"]], \"locationmode\": \"USA-states\", \"locations\": [\"AK\", \"AL\", \"AR\", \"AS\", \"AZ\", \"CA\", \"CO\", \"CT\", \"DC\", \"DE\", \"FL\", \"GA\", \"GU\", \"HI\", \"IA\", \"ID\", \"IL\", \"IN\", \"KS\", \"KY\", \"LA\", \"MA\", \"MD\", \"ME\", \"MI\", \"MN\", \"MO\", \"MP\", \"MS\", \"MT\", \"NC\", \"ND\", \"NE\", \"NH\", \"NJ\", \"NM\", \"NV\", \"NY\", \"OH\", \"OK\", \"OR\", \"PA\", \"PR\", \"RI\", \"SC\", \"SD\", \"TN\", \"TX\", \"UT\", \"VA\", \"VI\", \"VT\", \"WA\", \"WI\", \"WV\", \"WY\", \"norm\"], \"name\": \"2006\", \"reversescale\": false, \"type\": \"choropleth\", \"z\": [479686705.65999997, 5183197.440000001, 2789948.7800000003, 0.0, 32135794.759999994, 5889276.340000002, 12331422.799999997, 1006161.4199999997, 0.0, 178880.40000000002, 1273181.0800000005, 1120023.4400000002, 376.1, 11587.500000000004, 2281352.92, 6720255.86, 4977802.9399999995, 13662004.980000015, 338298.16, 1862712.2000000004, 2609415.979999999, 299960.4200000002, 390781.54000000004, 32665.199999999993, 1625794.1200000003, 845905.04, 74704642.42000003, 3.9, 817715.8999999999, 11010183.639999999, 2151732.159999999, 307727.8, 3054981.66, 30049.760000000002, 856447.6600000003, 14121923.139999999, 110224269.66000001, 1029375.5799999998, 4837847.400000001, 1041052.26, 1573152.4000000006, 7486097.439999999, 38097.32, 20090.420000000002, 1389432.36, 1162495.7000000002, 13422574.079999998, 4314266.140000001, 105386436.97999999, 1931932.06, 638.0, 1540.8999999999999, 9845767.019999998, 1000379.8000000006, 1574389.3599999996, 186955.37999999995, 1463539318.1099997]}, {\"colorbar\": {\"title\": {\"text\": \"Pounds Released Per Year\"}}, \"colorscale\": [[0.0, \"rgb(255,245,240)\"], [0.125, \"rgb(254,224,210)\"], [0.25, \"rgb(252,187,161)\"], [0.375, \"rgb(252,146,114)\"], [0.5, \"rgb(251,106,74)\"], [0.625, \"rgb(239,59,44)\"], [0.75, \"rgb(203,24,29)\"], [0.875, \"rgb(165,15,21)\"], [1.0, \"rgb(103,0,13)\"]], \"locationmode\": \"USA-states\", \"locations\": [\"AK\", \"AL\", \"AR\", \"AS\", \"AZ\", \"CA\", \"CO\", \"CT\", \"DC\", \"DE\", \"FL\", \"GA\", \"GU\", \"HI\", \"IA\", \"ID\", \"IL\", \"IN\", \"KS\", \"KY\", \"LA\", \"MA\", \"MD\", \"ME\", \"MI\", \"MN\", \"MO\", \"MP\", \"MS\", \"MT\", \"NC\", \"ND\", \"NE\", \"NH\", \"NJ\", \"NM\", \"NV\", \"NY\", \"OH\", \"OK\", \"OR\", \"PA\", \"PR\", \"RI\", \"SC\", \"SD\", \"TN\", \"TX\", \"UT\", \"VA\", \"VI\", \"VT\", \"WA\", \"WI\", \"WV\", \"WY\", \"norm\"], \"name\": \"2007\", \"reversescale\": false, \"type\": \"choropleth\", \"z\": [459517880.8999999, 4818561.160000001, 2465569.5399999996, 0.0, 35683412.01999999, 19822829.619999997, 13169449.879999999, 108669.72000000002, 0.0, 254080.16, 2042741.56, 1462586.16, 402.67999999999995, 9547.52, 2274790.400000001, 14265016.380000003, 5639858.600000002, 13923805.780000007, 328972.6400000001, 1905740.36, 2333186.4000000004, 570489.3200000003, 577716.0400000002, 81667.92, 1645346.2199999995, 989587.9000000003, 60601746.760000005, 4.48, 860296.8800000001, 18441528.82, 2011434.2600000014, 259102.70000000004, 2900575.38, 38125.06, 993772.4400000002, 14718824.960000003, 106125107.34, 2746320.62, 9099513.639999995, 1428491.5399999998, 1285811.0200000003, 7309487.980000004, 44211.28, 42742.12, 1370384.44, 4156300.3200000003, 21094530.039999995, 4607800.559999999, 118900700.64000005, 1578100.8599999999, 620.0, 1264.6, 5475507.220000002, 853344.6599999997, 1565763.02, 198450.82, 1463539318.1099997]}, {\"colorbar\": {\"title\": {\"text\": \"Pounds Released Per Year\"}}, \"colorscale\": [[0.0, \"rgb(255,245,240)\"], [0.125, \"rgb(254,224,210)\"], [0.25, \"rgb(252,187,161)\"], [0.375, \"rgb(252,146,114)\"], [0.5, \"rgb(251,106,74)\"], [0.625, \"rgb(239,59,44)\"], [0.75, \"rgb(203,24,29)\"], [0.875, \"rgb(165,15,21)\"], [1.0, \"rgb(103,0,13)\"]], \"locationmode\": \"USA-states\", \"locations\": [\"AK\", \"AL\", \"AR\", \"AS\", \"AZ\", \"CA\", \"CO\", \"CT\", \"DC\", \"DE\", \"FL\", \"GA\", \"GU\", \"HI\", \"IA\", \"ID\", \"IL\", \"IN\", \"KS\", \"KY\", \"LA\", \"MA\", \"MD\", \"ME\", \"MI\", \"MN\", \"MO\", \"MP\", \"MS\", \"MT\", \"NC\", \"ND\", \"NE\", \"NH\", \"NJ\", \"NM\", \"NV\", \"NY\", \"OH\", \"OK\", \"OR\", \"PA\", \"PR\", \"RI\", \"SC\", \"SD\", \"TN\", \"TX\", \"UT\", \"VA\", \"VI\", \"VT\", \"WA\", \"WI\", \"WV\", \"WY\", \"norm\"], \"name\": \"2008\", \"reversescale\": false, \"type\": \"choropleth\", \"z\": [400965972.29999995, 4866954.980000001, 748674.0799999998, 0.0, 34547445.94000001, 16146693.780000001, 11910390.879999999, 574082.96, 0.0, 147205.32, 878575.38, 1184653.1600000001, 440.12, 12823.680000000002, 2202162.9000000004, 11145135.819999998, 4590125.820000002, 14664294.700000001, 336590.0999999999, 2546349.8000000007, 3138839.7800000007, 421545.56000000023, 690584.1200000001, 96519.72000000002, 1445618.06, 914489.72, 53948036.50000003, 6.04, 798203.4000000004, 15442438.539999997, 1994207.8000000014, 249232.46, 1587695.2400000002, 16429.000000000004, 533383.9999999999, 17332868.659999996, 178583635.2, 963202.6199999998, 4671879.359999995, 2366831.540000001, 1085599.0000000002, 8334443.820000002, 33751.7, 77456.85999999999, 1897931.2600000002, 4200797.12, 12320507.079999994, 4477045.6400000015, 112354937.34000002, 1583614.7399999998, 540.0, 1258.3, 6157673.139999998, 689913.1800000002, 1614421.1800000002, 225172.45999999993, 1463539318.1099997]}, {\"colorbar\": {\"title\": {\"text\": \"Pounds Released Per Year\"}}, \"colorscale\": [[0.0, \"rgb(255,245,240)\"], [0.125, \"rgb(254,224,210)\"], [0.25, \"rgb(252,187,161)\"], [0.375, \"rgb(252,146,114)\"], [0.5, \"rgb(251,106,74)\"], [0.625, \"rgb(239,59,44)\"], [0.75, \"rgb(203,24,29)\"], [0.875, \"rgb(165,15,21)\"], [1.0, \"rgb(103,0,13)\"]], \"locationmode\": \"USA-states\", \"locations\": [\"AK\", \"AL\", \"AR\", \"AS\", \"AZ\", \"CA\", \"CO\", \"CT\", \"DC\", \"DE\", \"FL\", \"GA\", \"GU\", \"HI\", \"IA\", \"ID\", \"IL\", \"IN\", \"KS\", \"KY\", \"LA\", \"MA\", \"MD\", \"ME\", \"MI\", \"MN\", \"MO\", \"MP\", \"MS\", \"MT\", \"NC\", \"ND\", \"NE\", \"NH\", \"NJ\", \"NM\", \"NV\", \"NY\", \"OH\", \"OK\", \"OR\", \"PA\", \"PR\", \"RI\", \"SC\", \"SD\", \"TN\", \"TX\", \"UT\", \"VA\", \"VI\", \"VT\", \"WA\", \"WI\", \"WV\", \"WY\", \"norm\"], \"name\": \"2009\", \"reversescale\": false, \"type\": \"choropleth\", \"z\": [413881760.18000007, 2631210.900000001, 1051220.68, 0.0, 18200842.400000006, 13458650.520000007, 10478752.940000001, 171846.48, 0.0, 128565.28, 1987596.6800000002, 995857.9600000001, 522.1, 14526.64, 1462517.2000000002, 12242726.179999998, 2901183.0599999996, 10788295.820000002, 275830.75999999995, 2883269.04, 2672267.660000001, 411073.07999999996, 549530.3200000002, 107912.65999999999, 981345.4800000007, 1109852.8000000003, 44584369.21999999, 5.44, 1137494.5200000005, 17242521.08, 1841383.1199999996, 204032.98, 1442699.3400000003, 18386.72, 715777.7400000002, 8375967.179999999, 77019459.72, 671157.72, 3663056.120000002, 1204070.3199999996, 533019.1200000002, 8388631.499999996, 14669.279999999999, 35050.36, 1415862.9000000004, 3071467.92, 11609074.540000001, 3531081.1999999993, 55445953.9, 1330802.4600000007, 280.0, 565.6800000000001, 1319144.0600000008, 601086.0799999998, 953908.8600000002, 231334.98, 1463539318.1099997]}, {\"colorbar\": {\"title\": {\"text\": \"Pounds Released Per Year\"}}, \"colorscale\": [[0.0, \"rgb(255,245,240)\"], [0.125, \"rgb(254,224,210)\"], [0.25, \"rgb(252,187,161)\"], [0.375, \"rgb(252,146,114)\"], [0.5, \"rgb(251,106,74)\"], [0.625, \"rgb(239,59,44)\"], [0.75, \"rgb(203,24,29)\"], [0.875, \"rgb(165,15,21)\"], [1.0, \"rgb(103,0,13)\"]], \"locationmode\": \"USA-states\", \"locations\": [\"AK\", \"AL\", \"AR\", \"AS\", \"AZ\", \"CA\", \"CO\", \"CT\", \"DC\", \"DE\", \"FL\", \"GA\", \"GU\", \"HI\", \"IA\", \"ID\", \"IL\", \"IN\", \"KS\", \"KY\", \"LA\", \"MA\", \"MD\", \"ME\", \"MI\", \"MN\", \"MO\", \"MP\", \"MS\", \"MT\", \"NC\", \"ND\", \"NE\", \"NH\", \"NJ\", \"NM\", \"NV\", \"NY\", \"OH\", \"OK\", \"OR\", \"PA\", \"PR\", \"RI\", \"SC\", \"SD\", \"TN\", \"TX\", \"UT\", \"VA\", \"VI\", \"VT\", \"WA\", \"WI\", \"WV\", \"WY\", \"norm\"], \"name\": \"2010\", \"reversescale\": false, \"type\": \"choropleth\", \"z\": [672958156.8000001, 2262589.66, 681766.8599999998, 0.0, 25507900.4, 9139579.639999995, 10924476.4, 100230.60000000003, 0.0, 106626.99999999999, 2174707.7, 1001093.54, 581.6399999999999, 11492.779999999999, 443684.6600000001, 13048024.96, 3812530.78, 11352204.5, 286917.73999999993, 2930759.220000001, 2215967.940000001, 108542.91999999998, 458275.07999999996, 103397.80000000002, 1098793.5200000003, 771342.4199999999, 45588709.819999985, 4.82, 663711.02, 12041449.100000001, 1972008.58, 221984.03999999998, 791168.6200000002, 11296.880000000003, 876233.9999999997, 5975759.179999999, 129480429.92000002, 1666584.7200000004, 4126143.6800000006, 1449596.6400000004, 590455.7200000001, 14006317.579999994, 15171.820000000002, 51512.359999999986, 1122354.76, 1665176.18, 9537128.659999996, 4316291.7200000025, 133495614.16000001, 1517209.0799999998, 402.0, 56.579999999999984, 543743.44, 744898.9400000004, 2312877.06, 257219.32, 1463539318.1099997]}, {\"colorbar\": {\"title\": {\"text\": \"Pounds Released Per Year\"}}, \"colorscale\": [[0.0, \"rgb(255,245,240)\"], [0.125, \"rgb(254,224,210)\"], [0.25, \"rgb(252,187,161)\"], [0.375, \"rgb(252,146,114)\"], [0.5, \"rgb(251,106,74)\"], [0.625, \"rgb(239,59,44)\"], [0.75, \"rgb(203,24,29)\"], [0.875, \"rgb(165,15,21)\"], [1.0, \"rgb(103,0,13)\"]], \"locationmode\": \"USA-states\", \"locations\": [\"AK\", \"AL\", \"AR\", \"AS\", \"AZ\", \"CA\", \"CO\", \"CT\", \"DC\", \"DE\", \"FL\", \"GA\", \"GU\", \"HI\", \"IA\", \"ID\", \"IL\", \"IN\", \"KS\", \"KY\", \"LA\", \"MA\", \"MD\", \"ME\", \"MI\", \"MN\", \"MO\", \"MP\", \"MS\", \"MT\", \"NC\", \"ND\", \"NE\", \"NH\", \"NJ\", \"NM\", \"NV\", \"NY\", \"OH\", \"OK\", \"OR\", \"PA\", \"PR\", \"RI\", \"SC\", \"SD\", \"TN\", \"TX\", \"UT\", \"VA\", \"VI\", \"VT\", \"WA\", \"WI\", \"WV\", \"WY\", \"norm\"], \"name\": \"2011\", \"reversescale\": false, \"type\": \"choropleth\", \"z\": [1463539318.1099997, 2804521.0200000005, 1343077.83, 0.0, 47819298.47999999, 15297375.54, 16936286.76000001, 108201.59999999999, 0.0, 91857.3, 3271335.510000002, 2059266.359999999, 662.25, 12262.589999999998, 696588.7499999999, 20007782.639999997, 5875634.129999996, 14215543.799999999, 423514.80000000005, 3801984.389999999, 3101592.18, 141608.13000000003, 537658.59, 173378.39999999997, 2294008.4699999997, 2376793.2600000002, 68331326.57999998, 6.99, 1207886.0100000007, 15287313.42, 2812036.4399999995, 339305.49000000005, 1496185.9199999997, 15150.75, 392285.04000000004, 12687311.219999999, 336484366.04999983, 3195647.850000002, 7289891.099999992, 2951418.869999999, 920873.8200000001, 13313483.57999999, 43162.73999999999, 13541.790000000003, 1325814.9000000001, 1719514.2600000002, 11182390.859999998, 6727574.0399999935, 197858975.25000006, 1931486.6399999994, 345.0, 2600.25, 856283.8500000001, 1226514.0900000005, 1864111.7699999998, 247788.96000000002, 1463539318.1099997]}, {\"colorbar\": {\"title\": {\"text\": \"Pounds Released Per Year\"}}, \"colorscale\": [[0.0, \"rgb(255,245,240)\"], [0.125, \"rgb(254,224,210)\"], [0.25, \"rgb(252,187,161)\"], [0.375, \"rgb(252,146,114)\"], [0.5, \"rgb(251,106,74)\"], [0.625, \"rgb(239,59,44)\"], [0.75, \"rgb(203,24,29)\"], [0.875, \"rgb(165,15,21)\"], [1.0, \"rgb(103,0,13)\"]], \"locationmode\": \"USA-states\", \"locations\": [\"AK\", \"AL\", \"AR\", \"AS\", \"AZ\", \"CA\", \"CO\", \"CT\", \"DC\", \"DE\", \"FL\", \"GA\", \"GU\", \"HI\", \"IA\", \"ID\", \"IL\", \"IN\", \"KS\", \"KY\", \"LA\", \"MA\", \"MD\", \"ME\", \"MI\", \"MN\", \"MO\", \"MP\", \"MS\", \"MT\", \"NC\", \"ND\", \"NE\", \"NH\", \"NJ\", \"NM\", \"NV\", \"NY\", \"OH\", \"OK\", \"OR\", \"PA\", \"PR\", \"RI\", \"SC\", \"SD\", \"TN\", \"TX\", \"UT\", \"VA\", \"VI\", \"VT\", \"WA\", \"WI\", \"WV\", \"WY\", \"norm\"], \"name\": \"2012\", \"reversescale\": false, \"type\": \"choropleth\", \"z\": [954375014.3700002, 3054700.2600000002, 653765.1000000003, 0.0, 45659089.379999995, 17170524.119999982, 26494415.78999998, 127254.60000000003, 152.73, 119718.69, 2858899.29, 1428033.6599999997, 598.68, 11956.079999999998, 644341.7999999999, 5853981.81, 5598247.109999998, 13690791.330000002, 273750.44999999995, 3869375.5499999993, 2599588.5900000003, 223490.94, 490094.6100000002, 127105.95, 1685090.8500000003, 2514239.4600000004, 67726627.38000003, 3.18, 866836.1999999997, 15098101.889999995, 2519940.9899999998, 391360.23000000004, 1459595.97, 23789.190000000002, 1872504.6000000003, 31293525.24000001, 218819955.77999988, 1870830.7800000003, 5074112.039999998, 1727094.2399999998, 6981399.570000006, 14104671.659999987, 31175.699999999993, 22314.539999999997, 939390.3899999992, 2484975.3299999996, 8856162.509999998, 6317686.649999993, 330190904.91, 1707790.6200000006, 78.0, 3403.3199999999993, 818932.7399999999, 952229.5200000001, 1760236.9799999997, 244195.58999999997, 1463539318.1099997]}, {\"colorbar\": {\"title\": {\"text\": \"Pounds Released Per Year\"}}, \"colorscale\": [[0.0, \"rgb(255,245,240)\"], [0.125, \"rgb(254,224,210)\"], [0.25, \"rgb(252,187,161)\"], [0.375, \"rgb(252,146,114)\"], [0.5, \"rgb(251,106,74)\"], [0.625, \"rgb(239,59,44)\"], [0.75, \"rgb(203,24,29)\"], [0.875, \"rgb(165,15,21)\"], [1.0, \"rgb(103,0,13)\"]], \"locationmode\": \"USA-states\", \"locations\": [\"AK\", \"AL\", \"AR\", \"AS\", \"AZ\", \"CA\", \"CO\", \"CT\", \"DC\", \"DE\", \"FL\", \"GA\", \"GU\", \"HI\", \"IA\", \"ID\", \"IL\", \"IN\", \"KS\", \"KY\", \"LA\", \"MA\", \"MD\", \"ME\", \"MI\", \"MN\", \"MO\", \"MP\", \"MS\", \"MT\", \"NC\", \"ND\", \"NE\", \"NH\", \"NJ\", \"NM\", \"NV\", \"NY\", \"OH\", \"OK\", \"OR\", \"PA\", \"PR\", \"RI\", \"SC\", \"SD\", \"TN\", \"TX\", \"UT\", \"VA\", \"VI\", \"VT\", \"WA\", \"WI\", \"WV\", \"WY\", \"norm\"], \"name\": \"2013\", \"reversescale\": false, \"type\": \"choropleth\", \"z\": [1166933016.3, 3695871.3000000003, 647036.1900000006, 0.0, 40535940.45000001, 13004949.689999996, 25711031.939999994, 102921.20999999999, 99.72, 90363.57, 3160454.1299999994, 1207203.1499999994, 167.94, 34148.60999999999, 643769.0699999998, 9789179.64, 5858737.320000001, 14559386.55, 270700.8300000001, 3640776.690000001, 2719853.4299999992, 294413.91000000003, 422819.4000000003, 125904.63, 2999660.909999998, 1886267.430000001, 69847155.39000003, 2.88, 996362.4899999998, 14359420.080000006, 2816745.3000000007, 392375.0399999999, 1093449.1500000001, 27926.609999999993, 3660340.650000001, 30309825.0, 276599022.59999996, 1849018.1099999985, 5585816.489999997, 2080090.1400000015, 7929325.2, 11351308.560000002, 25595.52000000001, 26527.619999999988, 1993332.240000001, 3052626.0, 5480347.109999996, 5575219.169999995, 718240177.5299999, 1765533.360000001, 0.0, 2696.8500000000004, 1011768.1199999999, 1054647.4199999997, 1731994.3800000001, 270717.75, 1463539318.1099997]}, {\"colorbar\": {\"title\": {\"text\": \"Pounds Released Per Year\"}}, \"colorscale\": [[0.0, \"rgb(255,245,240)\"], [0.125, \"rgb(254,224,210)\"], [0.25, \"rgb(252,187,161)\"], [0.375, \"rgb(252,146,114)\"], [0.5, \"rgb(251,106,74)\"], [0.625, \"rgb(239,59,44)\"], [0.75, \"rgb(203,24,29)\"], [0.875, \"rgb(165,15,21)\"], [1.0, \"rgb(103,0,13)\"]], \"locationmode\": \"USA-states\", \"locations\": [\"AK\", \"AL\", \"AR\", \"AS\", \"AZ\", \"CA\", \"CO\", \"CT\", \"DC\", \"DE\", \"FL\", \"GA\", \"GU\", \"HI\", \"IA\", \"ID\", \"IL\", \"IN\", \"KS\", \"KY\", \"LA\", \"MA\", \"MD\", \"ME\", \"MI\", \"MN\", \"MO\", \"MP\", \"MS\", \"MT\", \"NC\", \"ND\", \"NE\", \"NH\", \"NJ\", \"NM\", \"NV\", \"NY\", \"OH\", \"OK\", \"OR\", \"PA\", \"PR\", \"RI\", \"SC\", \"SD\", \"TN\", \"TX\", \"UT\", \"VA\", \"VI\", \"VT\", \"WA\", \"WI\", \"WV\", \"WY\", \"norm\"], \"name\": \"2014\", \"reversescale\": false, \"type\": \"choropleth\", \"z\": [1300567655.9999998, 3199844.8399999994, 914818.1300000005, 0.0, 45458170.24999999, 13128636.049999993, 26308920.37999998, 91700.10000000003, 125.69999999999999, 108951.0, 3132478.760000001, 1586668.0299999996, 168.09, 24557.460000000003, 642893.3400000003, 11644671.629999999, 8048609.56, 13208521.659999996, 418198.16000000003, 3192139.9800000014, 2691418.829999999, 334596.1500000001, 523136.2100000001, 126946.05, 2004818.0600000008, 2214337.2399999993, 68058793.14999999, 6.42, 1037182.9099999997, 16216555.859999998, 3550568.8999999985, 527785.71, 1149716.13, 36979.469999999994, 1946526.7100000011, 27813822.070000004, 181314221.67, 1769507.1199999996, 5406141.749999998, 1653878.7200000004, 5935596.749999998, 6639056.180000003, 13188.750000000004, 6574.830000000001, 14509581.93999999, 3206961.869999999, 6340739.059999998, 11613738.100000001, 390133723.4599999, 1218492.73, 33.0, 1709.2799999999997, 1035280.3399999995, 1121593.6099999994, 1720207.56, 228089.9700000001, 1463539318.1099997]}, {\"colorbar\": {\"title\": {\"text\": \"Pounds Released Per Year\"}}, \"colorscale\": [[0.0, \"rgb(255,245,240)\"], [0.125, \"rgb(254,224,210)\"], [0.25, \"rgb(252,187,161)\"], [0.375, \"rgb(252,146,114)\"], [0.5, \"rgb(251,106,74)\"], [0.625, \"rgb(239,59,44)\"], [0.75, \"rgb(203,24,29)\"], [0.875, \"rgb(165,15,21)\"], [1.0, \"rgb(103,0,13)\"]], \"locationmode\": \"USA-states\", \"locations\": [\"AK\", \"AL\", \"AR\", \"AS\", \"AZ\", \"CA\", \"CO\", \"CT\", \"DC\", \"DE\", \"FL\", \"GA\", \"GU\", \"HI\", \"IA\", \"ID\", \"IL\", \"IN\", \"KS\", \"KY\", \"LA\", \"MA\", \"MD\", \"ME\", \"MI\", \"MN\", \"MO\", \"MP\", \"MS\", \"MT\", \"NC\", \"ND\", \"NE\", \"NH\", \"NJ\", \"NM\", \"NV\", \"NY\", \"OH\", \"OK\", \"OR\", \"PA\", \"PR\", \"RI\", \"SC\", \"SD\", \"TN\", \"TX\", \"UT\", \"VA\", \"VI\", \"VT\", \"WA\", \"WI\", \"WV\", \"WY\", \"norm\"], \"name\": \"2015\", \"reversescale\": false, \"type\": \"choropleth\", \"z\": [669516322.3499998, 3235152.270000001, 664299.8099999998, 0.0, 61501332.66000001, 14246410.139999988, 24980025.74999999, 77227.68, 70.59, 100262.64, 3053013.39, 1196236.92, 150.96, 17662.649999999998, 698313.3899999999, 9298907.22, 5372127.749999999, 14592041.370000005, 393842.39999999985, 3132170.7900000005, 2331422.85, 155759.93999999994, 576888.1200000001, 92690.52000000002, 2601457.950000001, 3181493.969999998, 75562341.12000003, 7.11, 1250683.3199999996, 19759838.100000005, 2720960.0099999993, 437704.20000000007, 235590.30000000005, 22736.969999999998, 75515035.98000003, 23283407.76, 214006851.41999987, 2077039.8600000006, 4428154.950000001, 1489122.6299999997, 212033.75999999995, 4518180.480000001, 15440.22, 3651.63, 7282454.159999992, 2523501.1799999997, 4716094.049999997, 8453700.569999993, 381202917.72, 1003809.6300000005, 33.0, 274.23, 894437.3699999999, 939513.3300000002, 1550940.8699999996, 239179.19999999998, 1463539318.1099997]}, {\"colorbar\": {\"title\": {\"text\": \"Pounds Released Per Year\"}}, \"colorscale\": [[0.0, \"rgb(255,245,240)\"], [0.125, \"rgb(254,224,210)\"], [0.25, \"rgb(252,187,161)\"], [0.375, \"rgb(252,146,114)\"], [0.5, \"rgb(251,106,74)\"], [0.625, \"rgb(239,59,44)\"], [0.75, \"rgb(203,24,29)\"], [0.875, \"rgb(165,15,21)\"], [1.0, \"rgb(103,0,13)\"]], \"locationmode\": \"USA-states\", \"locations\": [\"AK\", \"AL\", \"AR\", \"AS\", \"AZ\", \"CA\", \"CO\", \"CT\", \"DC\", \"DE\", \"FL\", \"GA\", \"GU\", \"HI\", \"IA\", \"ID\", \"IL\", \"IN\", \"KS\", \"KY\", \"LA\", \"MA\", \"MD\", \"ME\", \"MI\", \"MN\", \"MO\", \"MP\", \"MS\", \"MT\", \"NC\", \"ND\", \"NE\", \"NH\", \"NJ\", \"NM\", \"NV\", \"NY\", \"OH\", \"OK\", \"OR\", \"PA\", \"PR\", \"RI\", \"SC\", \"SD\", \"TN\", \"TX\", \"UT\", \"VA\", \"VI\", \"VT\", \"WA\", \"WI\", \"WV\", \"WY\", \"norm\"], \"name\": \"2016\", \"reversescale\": false, \"type\": \"choropleth\", \"z\": [988538729.22, 4285532.159999999, 956827.3200000005, 0.0, 62062709.16000004, 8069559.269999996, 32675802.47999999, 341864.18999999994, 331.83, 76776.99, 3205365.359999999, 1481398.65, 129.60000000000002, 16987.65, 532744.2300000003, 8605965.9, 5160929.429999998, 16057565.789999997, 229502.84999999983, 2899163.6699999995, 2682900.81, 401919.48000000004, 75563.52000000002, 77701.29000000001, 2703693.69, 3123818.7, 83717396.16000004, 13.74, 1035220.8000000007, 13423298.55, 2638192.469999997, 372952.1399999999, 229707.09000000003, 24656.61, 2594106.0599999996, 10885403.49, 136088623.08, 2256309.989999999, 3831827.039999998, 1174793.3999999997, 91158.42, 6942052.799999995, 9506.999999999998, 5238.33, 4769150.22, 3082348.08, 16772645.550000012, 7354353.9300000025, 496743555.8999999, 1098956.310000001, 27.0, 349.14, 11380011.509999998, 951813.3899999994, 1517576.8800000004, 232602.41999999993, 1463539318.1099997]}],                        {\"geo\": {\"projection\": {\"type\": \"albers usa\"}, \"scope\": \"usa\"}, \"sliders\": [{\"active\": 10, \"currentvalue\": {\"prefix\": \"Year: \"}, \"pad\": {\"t\": 50}, \"steps\": [{\"args\": [\"visible\", [true, false, false, false, false, false, false, false, false, false, false, false, false, false, false, false, false, false, false, false, false, false, false, false, false, false, false, false, false, false]], \"label\": \"1987\", \"method\": \"restyle\"}, {\"args\": [\"visible\", [false, true, false, false, false, false, false, false, false, false, false, false, false, false, false, false, false, false, false, false, false, false, false, false, false, false, false, false, false, false]], \"label\": \"1988\", \"method\": \"restyle\"}, {\"args\": [\"visible\", [false, false, true, false, false, false, false, false, false, false, false, false, false, false, false, false, false, false, false, false, false, false, false, false, false, false, false, false, false, false]], \"label\": \"1989\", \"method\": \"restyle\"}, {\"args\": [\"visible\", [false, false, false, true, false, false, false, false, false, false, false, false, false, false, false, false, false, false, false, false, false, false, false, false, false, false, false, false, false, false]], \"label\": \"1990\", \"method\": \"restyle\"}, {\"args\": [\"visible\", [false, false, false, false, true, false, false, false, false, false, false, false, false, false, false, false, false, false, false, false, false, false, false, false, false, false, false, false, false, false]], \"label\": \"1991\", \"method\": \"restyle\"}, {\"args\": [\"visible\", [false, false, false, false, false, true, false, false, false, false, false, false, false, false, false, false, false, false, false, false, false, false, false, false, false, false, false, false, false, false]], \"label\": \"1992\", \"method\": \"restyle\"}, {\"args\": [\"visible\", [false, false, false, false, false, false, true, false, false, false, false, false, false, false, false, false, false, false, false, false, false, false, false, false, false, false, false, false, false, false]], \"label\": \"1993\", \"method\": \"restyle\"}, {\"args\": [\"visible\", [false, false, false, false, false, false, false, true, false, false, false, false, false, false, false, false, false, false, false, false, false, false, false, false, false, false, false, false, false, false]], \"label\": \"1994\", \"method\": \"restyle\"}, {\"args\": [\"visible\", [false, false, false, false, false, false, false, false, true, false, false, false, false, false, false, false, false, false, false, false, false, false, false, false, false, false, false, false, false, false]], \"label\": \"1995\", \"method\": \"restyle\"}, {\"args\": [\"visible\", [false, false, false, false, false, false, false, false, false, true, false, false, false, false, false, false, false, false, false, false, false, false, false, false, false, false, false, false, false, false]], \"label\": \"1996\", \"method\": \"restyle\"}, {\"args\": [\"visible\", [false, false, false, false, false, false, false, false, false, false, true, false, false, false, false, false, false, false, false, false, false, false, false, false, false, false, false, false, false, false]], \"label\": \"1997\", \"method\": \"restyle\"}, {\"args\": [\"visible\", [false, false, false, false, false, false, false, false, false, false, false, true, false, false, false, false, false, false, false, false, false, false, false, false, false, false, false, false, false, false]], \"label\": \"1998\", \"method\": \"restyle\"}, {\"args\": [\"visible\", [false, false, false, false, false, false, false, false, false, false, false, false, true, false, false, false, false, false, false, false, false, false, false, false, false, false, false, false, false, false]], \"label\": \"1999\", \"method\": \"restyle\"}, {\"args\": [\"visible\", [false, false, false, false, false, false, false, false, false, false, false, false, false, true, false, false, false, false, false, false, false, false, false, false, false, false, false, false, false, false]], \"label\": \"2000\", \"method\": \"restyle\"}, {\"args\": [\"visible\", [false, false, false, false, false, false, false, false, false, false, false, false, false, false, true, false, false, false, false, false, false, false, false, false, false, false, false, false, false, false]], \"label\": \"2001\", \"method\": \"restyle\"}, {\"args\": [\"visible\", [false, false, false, false, false, false, false, false, false, false, false, false, false, false, false, true, false, false, false, false, false, false, false, false, false, false, false, false, false, false]], \"label\": \"2002\", \"method\": \"restyle\"}, {\"args\": [\"visible\", [false, false, false, false, false, false, false, false, false, false, false, false, false, false, false, false, true, false, false, false, false, false, false, false, false, false, false, false, false, false]], \"label\": \"2003\", \"method\": \"restyle\"}, {\"args\": [\"visible\", [false, false, false, false, false, false, false, false, false, false, false, false, false, false, false, false, false, true, false, false, false, false, false, false, false, false, false, false, false, false]], \"label\": \"2004\", \"method\": \"restyle\"}, {\"args\": [\"visible\", [false, false, false, false, false, false, false, false, false, false, false, false, false, false, false, false, false, false, true, false, false, false, false, false, false, false, false, false, false, false]], \"label\": \"2005\", \"method\": \"restyle\"}, {\"args\": [\"visible\", [false, false, false, false, false, false, false, false, false, false, false, false, false, false, false, false, false, false, false, true, false, false, false, false, false, false, false, false, false, false]], \"label\": \"2006\", \"method\": \"restyle\"}, {\"args\": [\"visible\", [false, false, false, false, false, false, false, false, false, false, false, false, false, false, false, false, false, false, false, false, true, false, false, false, false, false, false, false, false, false]], \"label\": \"2007\", \"method\": \"restyle\"}, {\"args\": [\"visible\", [false, false, false, false, false, false, false, false, false, false, false, false, false, false, false, false, false, false, false, false, false, true, false, false, false, false, false, false, false, false]], \"label\": \"2008\", \"method\": \"restyle\"}, {\"args\": [\"visible\", [false, false, false, false, false, false, false, false, false, false, false, false, false, false, false, false, false, false, false, false, false, false, true, false, false, false, false, false, false, false]], \"label\": \"2009\", \"method\": \"restyle\"}, {\"args\": [\"visible\", [false, false, false, false, false, false, false, false, false, false, false, false, false, false, false, false, false, false, false, false, false, false, false, true, false, false, false, false, false, false]], \"label\": \"2010\", \"method\": \"restyle\"}, {\"args\": [\"visible\", [false, false, false, false, false, false, false, false, false, false, false, false, false, false, false, false, false, false, false, false, false, false, false, false, true, false, false, false, false, false]], \"label\": \"2011\", \"method\": \"restyle\"}, {\"args\": [\"visible\", [false, false, false, false, false, false, false, false, false, false, false, false, false, false, false, false, false, false, false, false, false, false, false, false, false, true, false, false, false, false]], \"label\": \"2012\", \"method\": \"restyle\"}, {\"args\": [\"visible\", [false, false, false, false, false, false, false, false, false, false, false, false, false, false, false, false, false, false, false, false, false, false, false, false, false, false, true, false, false, false]], \"label\": \"2013\", \"method\": \"restyle\"}, {\"args\": [\"visible\", [false, false, false, false, false, false, false, false, false, false, false, false, false, false, false, false, false, false, false, false, false, false, false, false, false, false, false, true, false, false]], \"label\": \"2014\", \"method\": \"restyle\"}, {\"args\": [\"visible\", [false, false, false, false, false, false, false, false, false, false, false, false, false, false, false, false, false, false, false, false, false, false, false, false, false, false, false, false, true, false]], \"label\": \"2015\", \"method\": \"restyle\"}, {\"args\": [\"visible\", [false, false, false, false, false, false, false, false, false, false, false, false, false, false, false, false, false, false, false, false, false, false, false, false, false, false, false, false, false, true]], \"label\": \"2016\", \"method\": \"restyle\"}]}], \"template\": {\"data\": {\"bar\": [{\"error_x\": {\"color\": \"#2a3f5f\"}, \"error_y\": {\"color\": \"#2a3f5f\"}, \"marker\": {\"line\": {\"color\": \"#E5ECF6\", \"width\": 0.5}}, \"type\": \"bar\"}], \"barpolar\": [{\"marker\": {\"line\": {\"color\": \"#E5ECF6\", \"width\": 0.5}}, \"type\": \"barpolar\"}], \"carpet\": [{\"aaxis\": {\"endlinecolor\": \"#2a3f5f\", \"gridcolor\": \"white\", \"linecolor\": \"white\", \"minorgridcolor\": \"white\", \"startlinecolor\": \"#2a3f5f\"}, \"baxis\": {\"endlinecolor\": \"#2a3f5f\", \"gridcolor\": \"white\", \"linecolor\": \"white\", \"minorgridcolor\": \"white\", \"startlinecolor\": \"#2a3f5f\"}, \"type\": \"carpet\"}], \"choropleth\": [{\"colorbar\": {\"outlinewidth\": 0, \"ticks\": \"\"}, \"type\": \"choropleth\"}], \"contour\": [{\"colorbar\": {\"outlinewidth\": 0, \"ticks\": \"\"}, \"colorscale\": [[0.0, \"#0d0887\"], [0.1111111111111111, \"#46039f\"], [0.2222222222222222, \"#7201a8\"], [0.3333333333333333, \"#9c179e\"], [0.4444444444444444, \"#bd3786\"], [0.5555555555555556, \"#d8576b\"], [0.6666666666666666, \"#ed7953\"], [0.7777777777777778, \"#fb9f3a\"], [0.8888888888888888, \"#fdca26\"], [1.0, \"#f0f921\"]], \"type\": \"contour\"}], \"contourcarpet\": [{\"colorbar\": {\"outlinewidth\": 0, \"ticks\": \"\"}, \"type\": \"contourcarpet\"}], \"heatmap\": [{\"colorbar\": {\"outlinewidth\": 0, \"ticks\": \"\"}, \"colorscale\": [[0.0, \"#0d0887\"], [0.1111111111111111, \"#46039f\"], [0.2222222222222222, \"#7201a8\"], [0.3333333333333333, \"#9c179e\"], [0.4444444444444444, \"#bd3786\"], [0.5555555555555556, \"#d8576b\"], [0.6666666666666666, \"#ed7953\"], [0.7777777777777778, \"#fb9f3a\"], [0.8888888888888888, \"#fdca26\"], [1.0, \"#f0f921\"]], \"type\": \"heatmap\"}], \"heatmapgl\": [{\"colorbar\": {\"outlinewidth\": 0, \"ticks\": \"\"}, \"colorscale\": [[0.0, \"#0d0887\"], [0.1111111111111111, \"#46039f\"], [0.2222222222222222, \"#7201a8\"], [0.3333333333333333, \"#9c179e\"], [0.4444444444444444, \"#bd3786\"], [0.5555555555555556, \"#d8576b\"], [0.6666666666666666, \"#ed7953\"], [0.7777777777777778, \"#fb9f3a\"], [0.8888888888888888, \"#fdca26\"], [1.0, \"#f0f921\"]], \"type\": \"heatmapgl\"}], \"histogram\": [{\"marker\": {\"colorbar\": {\"outlinewidth\": 0, \"ticks\": \"\"}}, \"type\": \"histogram\"}], \"histogram2d\": [{\"colorbar\": {\"outlinewidth\": 0, \"ticks\": \"\"}, \"colorscale\": [[0.0, \"#0d0887\"], [0.1111111111111111, \"#46039f\"], [0.2222222222222222, \"#7201a8\"], [0.3333333333333333, \"#9c179e\"], [0.4444444444444444, \"#bd3786\"], [0.5555555555555556, \"#d8576b\"], [0.6666666666666666, \"#ed7953\"], [0.7777777777777778, \"#fb9f3a\"], [0.8888888888888888, \"#fdca26\"], [1.0, \"#f0f921\"]], \"type\": \"histogram2d\"}], \"histogram2dcontour\": [{\"colorbar\": {\"outlinewidth\": 0, \"ticks\": \"\"}, \"colorscale\": [[0.0, \"#0d0887\"], [0.1111111111111111, \"#46039f\"], [0.2222222222222222, \"#7201a8\"], [0.3333333333333333, \"#9c179e\"], [0.4444444444444444, \"#bd3786\"], [0.5555555555555556, \"#d8576b\"], [0.6666666666666666, \"#ed7953\"], [0.7777777777777778, \"#fb9f3a\"], [0.8888888888888888, \"#fdca26\"], [1.0, \"#f0f921\"]], \"type\": \"histogram2dcontour\"}], \"mesh3d\": [{\"colorbar\": {\"outlinewidth\": 0, \"ticks\": \"\"}, \"type\": \"mesh3d\"}], \"parcoords\": [{\"line\": {\"colorbar\": {\"outlinewidth\": 0, \"ticks\": \"\"}}, \"type\": \"parcoords\"}], \"pie\": [{\"automargin\": true, \"type\": \"pie\"}], \"scatter\": [{\"marker\": {\"colorbar\": {\"outlinewidth\": 0, \"ticks\": \"\"}}, \"type\": \"scatter\"}], \"scatter3d\": [{\"line\": {\"colorbar\": {\"outlinewidth\": 0, \"ticks\": \"\"}}, \"marker\": {\"colorbar\": {\"outlinewidth\": 0, \"ticks\": \"\"}}, \"type\": \"scatter3d\"}], \"scattercarpet\": [{\"marker\": {\"colorbar\": {\"outlinewidth\": 0, \"ticks\": \"\"}}, \"type\": \"scattercarpet\"}], \"scattergeo\": [{\"marker\": {\"colorbar\": {\"outlinewidth\": 0, \"ticks\": \"\"}}, \"type\": \"scattergeo\"}], \"scattergl\": [{\"marker\": {\"colorbar\": {\"outlinewidth\": 0, \"ticks\": \"\"}}, \"type\": \"scattergl\"}], \"scattermapbox\": [{\"marker\": {\"colorbar\": {\"outlinewidth\": 0, \"ticks\": \"\"}}, \"type\": \"scattermapbox\"}], \"scatterpolar\": [{\"marker\": {\"colorbar\": {\"outlinewidth\": 0, \"ticks\": \"\"}}, \"type\": \"scatterpolar\"}], \"scatterpolargl\": [{\"marker\": {\"colorbar\": {\"outlinewidth\": 0, \"ticks\": \"\"}}, \"type\": \"scatterpolargl\"}], \"scatterternary\": [{\"marker\": {\"colorbar\": {\"outlinewidth\": 0, \"ticks\": \"\"}}, \"type\": \"scatterternary\"}], \"surface\": [{\"colorbar\": {\"outlinewidth\": 0, \"ticks\": \"\"}, \"colorscale\": [[0.0, \"#0d0887\"], [0.1111111111111111, \"#46039f\"], [0.2222222222222222, \"#7201a8\"], [0.3333333333333333, \"#9c179e\"], [0.4444444444444444, \"#bd3786\"], [0.5555555555555556, \"#d8576b\"], [0.6666666666666666, \"#ed7953\"], [0.7777777777777778, \"#fb9f3a\"], [0.8888888888888888, \"#fdca26\"], [1.0, \"#f0f921\"]], \"type\": \"surface\"}], \"table\": [{\"cells\": {\"fill\": {\"color\": \"#EBF0F8\"}, \"line\": {\"color\": \"white\"}}, \"header\": {\"fill\": {\"color\": \"#C8D4E3\"}, \"line\": {\"color\": \"white\"}}, \"type\": \"table\"}]}, \"layout\": {\"annotationdefaults\": {\"arrowcolor\": \"#2a3f5f\", \"arrowhead\": 0, \"arrowwidth\": 1}, \"autotypenumbers\": \"strict\", \"coloraxis\": {\"colorbar\": {\"outlinewidth\": 0, \"ticks\": \"\"}}, \"colorscale\": {\"diverging\": [[0, \"#8e0152\"], [0.1, \"#c51b7d\"], [0.2, \"#de77ae\"], [0.3, \"#f1b6da\"], [0.4, \"#fde0ef\"], [0.5, \"#f7f7f7\"], [0.6, \"#e6f5d0\"], [0.7, \"#b8e186\"], [0.8, \"#7fbc41\"], [0.9, \"#4d9221\"], [1, \"#276419\"]], \"sequential\": [[0.0, \"#0d0887\"], [0.1111111111111111, \"#46039f\"], [0.2222222222222222, \"#7201a8\"], [0.3333333333333333, \"#9c179e\"], [0.4444444444444444, \"#bd3786\"], [0.5555555555555556, \"#d8576b\"], [0.6666666666666666, \"#ed7953\"], [0.7777777777777778, \"#fb9f3a\"], [0.8888888888888888, \"#fdca26\"], [1.0, \"#f0f921\"]], \"sequentialminus\": [[0.0, \"#0d0887\"], [0.1111111111111111, \"#46039f\"], [0.2222222222222222, \"#7201a8\"], [0.3333333333333333, \"#9c179e\"], [0.4444444444444444, \"#bd3786\"], [0.5555555555555556, \"#d8576b\"], [0.6666666666666666, \"#ed7953\"], [0.7777777777777778, \"#fb9f3a\"], [0.8888888888888888, \"#fdca26\"], [1.0, \"#f0f921\"]]}, \"colorway\": [\"#636efa\", \"#EF553B\", \"#00cc96\", \"#ab63fa\", \"#FFA15A\", \"#19d3f3\", \"#FF6692\", \"#B6E880\", \"#FF97FF\", \"#FECB52\"], \"font\": {\"color\": \"#2a3f5f\"}, \"geo\": {\"bgcolor\": \"white\", \"lakecolor\": \"white\", \"landcolor\": \"#E5ECF6\", \"showlakes\": true, \"showland\": true, \"subunitcolor\": \"white\"}, \"hoverlabel\": {\"align\": \"left\"}, \"hovermode\": \"closest\", \"mapbox\": {\"style\": \"light\"}, \"paper_bgcolor\": \"white\", \"plot_bgcolor\": \"#E5ECF6\", \"polar\": {\"angularaxis\": {\"gridcolor\": \"white\", \"linecolor\": \"white\", \"ticks\": \"\"}, \"bgcolor\": \"#E5ECF6\", \"radialaxis\": {\"gridcolor\": \"white\", \"linecolor\": \"white\", \"ticks\": \"\"}}, \"scene\": {\"xaxis\": {\"backgroundcolor\": \"#E5ECF6\", \"gridcolor\": \"white\", \"gridwidth\": 2, \"linecolor\": \"white\", \"showbackground\": true, \"ticks\": \"\", \"zerolinecolor\": \"white\"}, \"yaxis\": {\"backgroundcolor\": \"#E5ECF6\", \"gridcolor\": \"white\", \"gridwidth\": 2, \"linecolor\": \"white\", \"showbackground\": true, \"ticks\": \"\", \"zerolinecolor\": \"white\"}, \"zaxis\": {\"backgroundcolor\": \"#E5ECF6\", \"gridcolor\": \"white\", \"gridwidth\": 2, \"linecolor\": \"white\", \"showbackground\": true, \"ticks\": \"\", \"zerolinecolor\": \"white\"}}, \"shapedefaults\": {\"line\": {\"color\": \"#2a3f5f\"}}, \"ternary\": {\"aaxis\": {\"gridcolor\": \"white\", \"linecolor\": \"white\", \"ticks\": \"\"}, \"baxis\": {\"gridcolor\": \"white\", \"linecolor\": \"white\", \"ticks\": \"\"}, \"bgcolor\": \"#E5ECF6\", \"caxis\": {\"gridcolor\": \"white\", \"linecolor\": \"white\", \"ticks\": \"\"}}, \"title\": {\"x\": 0.05}, \"xaxis\": {\"automargin\": true, \"gridcolor\": \"white\", \"linecolor\": \"white\", \"ticks\": \"\", \"title\": {\"standoff\": 15}, \"zerolinecolor\": \"white\", \"zerolinewidth\": 2}, \"yaxis\": {\"automargin\": true, \"gridcolor\": \"white\", \"linecolor\": \"white\", \"ticks\": \"\", \"title\": {\"standoff\": 15}, \"zerolinecolor\": \"white\", \"zerolinewidth\": 2}}}, \"title\": {\"text\": \"Total Released LEAD COMPOUNDS In Pounds\"}},                        {\"responsive\": true}                    ).then(function(){\n",
       "                            \n",
       "var gd = document.getElementById('6425ec89-1b2f-4f7a-a637-3dccb5bc0cf2');\n",
       "var x = new MutationObserver(function (mutations, observer) {{\n",
       "        var display = window.getComputedStyle(gd).display;\n",
       "        if (!display || display === 'none') {{\n",
       "            console.log([gd, 'removed!']);\n",
       "            Plotly.purge(gd);\n",
       "            observer.disconnect();\n",
       "        }}\n",
       "}});\n",
       "\n",
       "// Listen for the removal of the full notebook cells\n",
       "var notebookContainer = gd.closest('#notebook-container');\n",
       "if (notebookContainer) {{\n",
       "    x.observe(notebookContainer, {childList: true});\n",
       "}}\n",
       "\n",
       "// Listen for the clearing of the current output cell\n",
       "var outputEl = gd.closest('.output');\n",
       "if (outputEl) {{\n",
       "    x.observe(outputEl, {childList: true});\n",
       "}}\n",
       "\n",
       "                        })                };                });            </script>        </div>"
      ]
     },
     "metadata": {},
     "output_type": "display_data"
    }
   ],
   "source": [
    "plot_choro(Chemical='LEAD COMPOUNDS')"
   ]
  },
  {
   "cell_type": "code",
   "execution_count": null,
   "metadata": {},
   "outputs": [],
   "source": []
  }
 ],
 "metadata": {
  "kernelspec": {
   "display_name": "Python 3",
   "language": "python",
   "name": "python3"
  },
  "language_info": {
   "codemirror_mode": {
    "name": "ipython",
    "version": 3
   },
   "file_extension": ".py",
   "mimetype": "text/x-python",
   "name": "python",
   "nbconvert_exporter": "python",
   "pygments_lexer": "ipython3",
   "version": "3.8.5"
  }
 },
 "nbformat": 4,
 "nbformat_minor": 4
}
